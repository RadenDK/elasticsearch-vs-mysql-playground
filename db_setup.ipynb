{
 "cells": [
  {
   "cell_type": "markdown",
   "id": "6304dc7e",
   "metadata": {},
   "source": [
    "# Setup database"
   ]
  },
  {
   "cell_type": "markdown",
   "id": "e5fcdf03",
   "metadata": {},
   "source": [
    "Can download CSV from https://drive.google.com/uc?id=18BLAZDeH74Ll3b4GsMNY3s-YVnNmWblC&export=download"
   ]
  },
  {
   "cell_type": "markdown",
   "id": "3057691b",
   "metadata": {},
   "source": [
    "### Test connection"
   ]
  },
  {
   "cell_type": "code",
   "execution_count": null,
   "id": "808c7d11",
   "metadata": {},
   "outputs": [
    {
     "name": "stdout",
     "output_type": "stream",
     "text": [
      "Successfully connected to MySQL!\n"
     ]
    }
   ],
   "source": [
    "import pymysql\n",
    "from pymysql.err import OperationalError\n",
    "\n",
    "# MySQL connection settings\n",
    "host = \"localhost\"\n",
    "user = \"root\"\n",
    "database = \"app\"\n",
    "port = 3307\n",
    "\n",
    "try:\n",
    "    connection = pymysql.connect(host=host, user=user, database=database, port=port)\n",
    "    print(\"Successfully connected to MySQL!\")\n",
    "    connection.close()\n",
    "except OperationalError as e:\n",
    "    print(f\"Failed to connect to MySQL: {e}\")"
   ]
  },
  {
   "cell_type": "markdown",
   "id": "9fbbf1f2",
   "metadata": {},
   "source": [
    "### Create DB"
   ]
  },
  {
   "cell_type": "code",
   "execution_count": 30,
   "id": "d6411fda",
   "metadata": {},
   "outputs": [
    {
     "name": "stdout",
     "output_type": "stream",
     "text": [
      "Database 'playground' ensured to exist.\n"
     ]
    }
   ],
   "source": [
    "import pymysql\n",
    "\n",
    "# MySQL connection settings (connect to server, not a specific DB)\n",
    "host = \"localhost\"\n",
    "user = \"root\"\n",
    "port = 3307\n",
    "\n",
    "db_name = \"playground\"\n",
    "\n",
    "# Connect to MySQL server (no database specified)\n",
    "connection = pymysql.connect(host=host, user=user, port=port)\n",
    "cursor = connection.cursor()\n",
    "\n",
    "# Create database if it does not exist\n",
    "cursor.execute(f\"CREATE DATABASE IF NOT EXISTS `{db_name}`;\")\n",
    "print(f\"Database '{db_name}' ensured to exist.\")\n",
    "\n",
    "# Close the cursor and connection\n",
    "cursor.close()\n",
    "connection.close()"
   ]
  },
  {
   "cell_type": "markdown",
   "id": "7972dbd0",
   "metadata": {},
   "source": [
    "### Create Tables"
   ]
  },
  {
   "cell_type": "code",
   "execution_count": 31,
   "id": "30af644e",
   "metadata": {},
   "outputs": [
    {
     "name": "stdout",
     "output_type": "stream",
     "text": [
      "Created tables: unindexed, partially_indexed, fully_indexed\n"
     ]
    }
   ],
   "source": [
    "import pymysql\n",
    "\n",
    "# MySQL connection settings\n",
    "host = \"localhost\"\n",
    "user = \"root\"\n",
    "database = \"playground\"\n",
    "port = 3307\n",
    "\n",
    "# Connect to MySQL\n",
    "conn = pymysql.connect(host=host, user=user, database=database, port=port)\n",
    "cur = conn.cursor()\n",
    "\n",
    "# Common schema (no indexes yet)\n",
    "base_schema = \"\"\"\n",
    "    `Index` INT,\n",
    "    `Name` VARCHAR(255),\n",
    "    `Description` TEXT,\n",
    "    `Brand` VARCHAR(255),\n",
    "    `Category` VARCHAR(255),\n",
    "    `Price` FLOAT,\n",
    "    `Currency` VARCHAR(10),\n",
    "    `Stock` INT,\n",
    "    `EAN` VARCHAR(50),\n",
    "    `Color` VARCHAR(100),\n",
    "    `Size` VARCHAR(100),\n",
    "    `Availability` VARCHAR(50),\n",
    "    `Internal_ID` VARCHAR(255)\n",
    "\"\"\"\n",
    "\n",
    "# Drop existing tables and create new tables\n",
    "for table in [\"unindexed\", \"partially_indexed\", \"fully_indexed\"]:\n",
    "    cur.execute(f\"DROP TABLE IF EXISTS {table};\")\n",
    "    cur.execute(f\"CREATE TABLE {table} ({base_schema});\")\n",
    "\n",
    "conn.commit()\n",
    "\n",
    "cur.close()\n",
    "conn.close()\n",
    "\n",
    "print(\"Created tables: unindexed, partially_indexed, fully_indexed\")\n"
   ]
  },
  {
   "cell_type": "markdown",
   "id": "fa838160",
   "metadata": {},
   "source": [
    "### Create Indexes"
   ]
  },
  {
   "cell_type": "code",
   "execution_count": 32,
   "id": "ea88b9ea",
   "metadata": {},
   "outputs": [],
   "source": [
    "# TODO"
   ]
  },
  {
   "cell_type": "markdown",
   "id": "01c75db1",
   "metadata": {},
   "source": [
    "### Insert data into tables's"
   ]
  },
  {
   "cell_type": "code",
   "execution_count": 33,
   "id": "e2b1c1ec",
   "metadata": {},
   "outputs": [
    {
     "name": "stdout",
     "output_type": "stream",
     "text": [
      "\n",
      "Starting insert into 'unindexed'...\n",
      "Finished inserting 2000000 rows into 'unindexed' in 25.15 seconds.\n",
      "\n",
      "Starting insert into 'partially_indexed'...\n",
      "Finished inserting 2000000 rows into 'partially_indexed' in 25.25 seconds.\n",
      "\n",
      "Starting insert into 'fully_indexed'...\n",
      "Finished inserting 2000000 rows into 'fully_indexed' in 26.71 seconds.\n",
      "\n",
      "All tables finished.\n"
     ]
    }
   ],
   "source": [
    "import pymysql\n",
    "import pandas as pd\n",
    "import numpy as np\n",
    "import time\n",
    "\n",
    "# MySQL connection settings\n",
    "host = \"localhost\"\n",
    "user = \"root\"\n",
    "database = \"playground\"\n",
    "port = 3307\n",
    "\n",
    "# Load CSV\n",
    "csv_file = \"products-2000000.csv\"\n",
    "df = pd.read_csv(csv_file)\n",
    "\n",
    "# Rename Internal ID column for MySQL compatibility\n",
    "df.rename(columns={\"Internal ID\": \"Internal_ID\"}, inplace=True)\n",
    "\n",
    "# Replace NaN with None\n",
    "df = df.where(pd.notnull(df), None)\n",
    "\n",
    "# Convert DataFrame → list of tuples\n",
    "data = [tuple(row) for row in df.values.tolist()]\n",
    "\n",
    "# Build insert template with placeholder for table name\n",
    "columns = \", \".join(f\"`{c}`\" for c in df.columns)\n",
    "placeholders = \", \".join([\"%s\"] * len(df.columns))\n",
    "insert_sql_template = f\"INSERT INTO {{table}} ({columns}) VALUES ({placeholders})\"\n",
    "\n",
    "# Tables to test\n",
    "tables = [\"unindexed\", \"partially_indexed\", \"fully_indexed\"]\n",
    "\n",
    "# Connect\n",
    "conn = pymysql.connect(host=host, user=user, database=database, port=port)\n",
    "cur = conn.cursor()\n",
    "\n",
    "batch_size = 10000\n",
    "\n",
    "for table in tables:\n",
    "    print(f\"\\nStarting insert into '{table}'...\")\n",
    "    start_time = time.time()\n",
    "\n",
    "    for start in range(0, len(data), batch_size):\n",
    "        end = start + batch_size\n",
    "        batch = data[start:end]\n",
    "        cur.executemany(insert_sql_template.format(table=table), batch)\n",
    "        conn.commit()\n",
    "\n",
    "    elapsed = time.time() - start_time\n",
    "    print(f\"Finished inserting {len(df)} rows into '{table}' in {elapsed:.2f} seconds.\")\n",
    "\n",
    "cur.close()\n",
    "conn.close()\n",
    "print(\"\\nAll tables finished.\")\n"
   ]
  }
 ],
 "metadata": {
  "kernelspec": {
   "display_name": "venv (3.9.6)",
   "language": "python",
   "name": "python3"
  },
  "language_info": {
   "codemirror_mode": {
    "name": "ipython",
    "version": 3
   },
   "file_extension": ".py",
   "mimetype": "text/x-python",
   "name": "python",
   "nbconvert_exporter": "python",
   "pygments_lexer": "ipython3",
   "version": "3.9.6"
  }
 },
 "nbformat": 4,
 "nbformat_minor": 5
}
