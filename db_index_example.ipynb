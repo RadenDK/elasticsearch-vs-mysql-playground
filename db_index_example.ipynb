{
 "cells": [
  {
   "cell_type": "markdown",
   "id": "b96704a0",
   "metadata": {},
   "source": [
    "### Helper methods"
   ]
  },
  {
   "cell_type": "markdown",
   "id": "a097da83",
   "metadata": {},
   "source": [
    "### Config"
   ]
  },
  {
   "cell_type": "code",
   "execution_count": 1,
   "id": "7305a328",
   "metadata": {},
   "outputs": [],
   "source": [
    "from db_helper_methods import *\n",
    "\n",
    "import pymysql\n",
    "import pandas as pd\n",
    "import numpy as np\n",
    "import time\n",
    "\n",
    "db_name = \"indecies_playground\""
   ]
  },
  {
   "cell_type": "markdown",
   "id": "1e0d0be8",
   "metadata": {},
   "source": [
    "### Create DB"
   ]
  },
  {
   "cell_type": "code",
   "execution_count": 2,
   "id": "8f299904",
   "metadata": {},
   "outputs": [
    {
     "name": "stdout",
     "output_type": "stream",
     "text": [
      "Database 'indecies_playground' ensured to exist.\n"
     ]
    }
   ],
   "source": [
    "execute_query(\"CREATE DATABASE IF NOT EXISTS `{db_name}`;\")\n",
    "\n",
    "print(f\"Database '{db_name}' ensured to exist.\")"
   ]
  },
  {
   "cell_type": "markdown",
   "id": "b12db5c6",
   "metadata": {},
   "source": [
    "### Multi index table creation"
   ]
  },
  {
   "cell_type": "code",
   "execution_count": 3,
   "id": "d5f53646",
   "metadata": {},
   "outputs": [],
   "source": [
    "table_name = \"index_test\"\n",
    "\n",
    "# Drop table if exists\n",
    "execute_query(query=f\"DROP TABLE IF EXISTS {table_name}\", database=db_name)\n",
    "\n",
    "# Create table with composite PRIMARY KEY (employee_id, department_id)\n",
    "create_table_sql = f\"\"\"\n",
    "CREATE TABLE {table_name} (\n",
    "    employee_id INT NOT NULL,\n",
    "    department_id INT NOT NULL,\n",
    "    name VARCHAR(100),\n",
    "    PRIMARY KEY (employee_id, department_id)\n",
    ");\n",
    "\"\"\"\n",
    "\n",
    "execute_query(query=create_table_sql, database=db_name)\n",
    "\n",
    "# Indsæt nogle testdata\n",
    "employees = [\n",
    "    (1, 10, 'Thomas'),\n",
    "    (2, 10, 'Maria'),\n",
    "    (3, 20, 'Bent'),\n",
    "    (4, 20, 'Sofie'),\n",
    "    (1, 20, 'Anna')  # Samme employee_id, men anden department_id → tilladt\n",
    "]\n",
    "\n",
    "insert_sql = f\"INSERT INTO {table_name} (employee_id, department_id, name) VALUES (%s, %s, %s)\"\n",
    "\n",
    "execute_many_query(query=insert_sql, params_list=employees, database=db_name)"
   ]
  },
  {
   "cell_type": "code",
   "execution_count": 4,
   "id": "95d5ead3",
   "metadata": {},
   "outputs": [
    {
     "name": "stdout",
     "output_type": "stream",
     "text": [
      "{'query_block': {'cost_info': {'query_cost': '0.75'},\n",
      "                 'select_id': 1,\n",
      "                 'table': {'access_type': 'ALL',\n",
      "                           'attached_condition': '(`indecies_playground`.`index_test`.`name` '\n",
      "                                                 \"= 'Thomas')\",\n",
      "                           'cost_info': {'data_read_per_join': '416',\n",
      "                                         'eval_cost': '0.10',\n",
      "                                         'prefix_cost': '0.75',\n",
      "                                         'read_cost': '0.65'},\n",
      "                           'filtered': '20.00',\n",
      "                           'rows_examined_per_scan': 5,\n",
      "                           'rows_produced_per_join': 1,\n",
      "                           'table_name': 'index_test',\n",
      "                           'used_columns': ['employee_id',\n",
      "                                            'department_id',\n",
      "                                            'name']}}}\n"
     ]
    }
   ],
   "source": [
    "import json\n",
    "from pprint import pprint\n",
    "\n",
    "table_name = \"index_test\"\n",
    "\n",
    "query = f\"EXPLAIN FORMAT=JSON SELECT * FROM {table_name} WHERE name = 'Thomas';\"\n",
    "\n",
    "cursor = execute_query(query, database=db_name)\n",
    "result = cursor.fetchone()  # kun én række med JSON\n",
    "plan_json = json.loads(result[0])  # result[0] = selve JSON-strengen\n",
    "\n",
    "# Pretty print som struktur\n",
    "pprint(plan_json)"
   ]
  },
  {
   "cell_type": "code",
   "execution_count": 7,
   "id": "5a4ad1a0",
   "metadata": {},
   "outputs": [
    {
     "name": "stdout",
     "output_type": "stream",
     "text": [
      "Found 1 non-clustered indexes to drop\n",
      "Dropped index 'idx_name'\n",
      "Successfully dropped 1 of 1 indexes\n"
     ]
    },
    {
     "data": {
      "text/html": [
       "<div>\n",
       "<style scoped>\n",
       "    .dataframe tbody tr th:only-of-type {\n",
       "        vertical-align: middle;\n",
       "    }\n",
       "\n",
       "    .dataframe tbody tr th {\n",
       "        vertical-align: top;\n",
       "    }\n",
       "\n",
       "    .dataframe thead th {\n",
       "        text-align: right;\n",
       "    }\n",
       "</style>\n",
       "<table border=\"1\" class=\"dataframe\">\n",
       "  <thead>\n",
       "    <tr style=\"text-align: right;\">\n",
       "      <th></th>\n",
       "      <th>Index Name</th>\n",
       "      <th>Columns</th>\n",
       "      <th>Type</th>\n",
       "      <th>Non Unique</th>\n",
       "    </tr>\n",
       "  </thead>\n",
       "  <tbody>\n",
       "    <tr>\n",
       "      <th>0</th>\n",
       "      <td>idx_name</td>\n",
       "      <td>name</td>\n",
       "      <td>BTREE</td>\n",
       "      <td>True</td>\n",
       "    </tr>\n",
       "    <tr>\n",
       "      <th>1</th>\n",
       "      <td>PRIMARY</td>\n",
       "      <td>employee_id,department_id</td>\n",
       "      <td>BTREE</td>\n",
       "      <td>False</td>\n",
       "    </tr>\n",
       "  </tbody>\n",
       "</table>\n",
       "</div>"
      ],
      "text/plain": [
       "  Index Name                    Columns   Type  Non Unique\n",
       "0   idx_name                       name  BTREE        True\n",
       "1    PRIMARY  employee_id,department_id  BTREE       False"
      ]
     },
     "execution_count": 7,
     "metadata": {},
     "output_type": "execute_result"
    }
   ],
   "source": [
    "drop_non_clustered_indexes(table_name, db_name)\n",
    "\n",
    "execute_query(f\"CREATE INDEX idx_name ON {table_name} (name);\", database=db_name)\n",
    "\n",
    "show_table_indexes(table_name, db_name)"
   ]
  }
 ],
 "metadata": {
  "kernelspec": {
   "display_name": "venv (3.9.6)",
   "language": "python",
   "name": "python3"
  },
  "language_info": {
   "codemirror_mode": {
    "name": "ipython",
    "version": 3
   },
   "file_extension": ".py",
   "mimetype": "text/x-python",
   "name": "python",
   "nbconvert_exporter": "python",
   "pygments_lexer": "ipython3",
   "version": "3.9.6"
  }
 },
 "nbformat": 4,
 "nbformat_minor": 5
}
