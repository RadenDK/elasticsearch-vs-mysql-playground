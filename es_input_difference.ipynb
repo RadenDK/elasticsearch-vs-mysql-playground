{
 "cells": [
  {
   "cell_type": "markdown",
   "id": "d302c93c",
   "metadata": {},
   "source": [
    "# File to see the difference in tokenization"
   ]
  },
  {
   "cell_type": "markdown",
   "id": "ad10e532",
   "metadata": {},
   "source": [
    "### Helper methods"
   ]
  },
  {
   "cell_type": "code",
   "execution_count": 1,
   "id": "d4d92312",
   "metadata": {},
   "outputs": [
    {
     "name": "stderr",
     "output_type": "stream",
     "text": [
      "/Users/wexorsj/Github/elasticsearch-vs-mysql-playground/venv/lib/python3.9/site-packages/urllib3/__init__.py:35: NotOpenSSLWarning: urllib3 v2 only supports OpenSSL 1.1.1+, currently the 'ssl' module is compiled with 'LibreSSL 2.8.3'. See: https://github.com/urllib3/urllib3/issues/3020\n",
      "  warnings.warn(\n"
     ]
    }
   ],
   "source": [
    "import requests\n",
    "from requests.auth import HTTPBasicAuth\n",
    "import json\n",
    "\n",
    "# Config\n",
    "es_url = \"http://localhost:9201\"\n",
    "es_user = \"elastic\"\n",
    "es_password = \"apppw\"\n",
    "\n",
    "def analyze(text, payload):\n",
    "    endpoint = f\"{es_url}/_analyze\"\n",
    "\n",
    "    payload[\"text\"] = text\n",
    "\n",
    "    response = requests.post(endpoint, auth=HTTPBasicAuth(es_user, es_password),\n",
    "                             headers={\"Content-Type\": \"application/json\"},\n",
    "                             data=json.dumps(payload))\n",
    "    \n",
    "    if response.status_code != 200:\n",
    "        print(f\"Error with {payload}: {response.text}\")\n",
    "        return []\n",
    "\n",
    "    tokens = [t[\"token\"] for t in response.json().get(\"tokens\", [])]\n",
    "    return tokens"
   ]
  },
  {
   "cell_type": "markdown",
   "id": "62e4f1bc",
   "metadata": {},
   "source": [
    "### Standard analysers"
   ]
  },
  {
   "cell_type": "code",
   "execution_count": 2,
   "id": "f7c2e133",
   "metadata": {},
   "outputs": [
    {
     "name": "stdout",
     "output_type": "stream",
     "text": [
      "--- standard ---\n",
      "['the', 'quick', 'brown', 'fox', 'jumps', 'over', 'the', 'lazy', 'dog']\n",
      "\n",
      "--- simple ---\n",
      "['the', 'quick', 'brown', 'fox', 'jumps', 'over', 'the', 'lazy', 'dog']\n",
      "\n",
      "--- whitespace ---\n",
      "['The', 'quick', 'brown', 'fox', 'jumps', 'over', 'the', 'lazy', 'dog!']\n",
      "\n",
      "--- stop ---\n",
      "['quick', 'brown', 'fox', 'jumps', 'over', 'lazy', 'dog']\n",
      "\n",
      "--- keyword ---\n",
      "['The quick brown fox jumps over the lazy dog!']\n",
      "\n",
      "--- pattern ---\n",
      "['the', 'quick', 'brown', 'fox', 'jumps', 'over', 'the', 'lazy', 'dog']\n",
      "\n",
      "--- fingerprint ---\n",
      "['brown dog fox jumps lazy over quick the']\n",
      "\n"
     ]
    }
   ],
   "source": [
    "import requests\n",
    "from requests.auth import HTTPBasicAuth\n",
    "import json\n",
    "\n",
    "# Config\n",
    "es_url = \"http://localhost:9201\"\n",
    "es_user = \"elastic\"\n",
    "es_password = \"apppw\"\n",
    "\n",
    "# Text to analyze\n",
    "text_to_analyze = \"The quick brown fox jumps over the lazy dog!\"\n",
    "\n",
    "# Analyzers/tokenizers to test\n",
    "analyzers = [\n",
    "    {\"analyzer\": \"standard\"},\n",
    "    {\"analyzer\": \"simple\"},\n",
    "    {\"analyzer\": \"whitespace\"},\n",
    "    {\"analyzer\": \"stop\"},\n",
    "    {\"analyzer\": \"keyword\"},\n",
    "    {\"analyzer\": \"pattern\"},\n",
    "    {\"analyzer\": \"fingerprint\"},\n",
    "]\n",
    "\n",
    "# Run analysis\n",
    "for analyser in analyzers:\n",
    "    tokens = analyze(text_to_analyze, analyser)\n",
    "    print(f\"--- {analyser['analyzer']} ---\")\n",
    "    print(tokens)\n",
    "    print()\n"
   ]
  },
  {
   "cell_type": "markdown",
   "id": "4d278f28",
   "metadata": {},
   "source": [
    "### Standard tokenizers"
   ]
  },
  {
   "cell_type": "code",
   "execution_count": 3,
   "id": "ed5062eb",
   "metadata": {},
   "outputs": [
    {
     "name": "stdout",
     "output_type": "stream",
     "text": [
      "--- standard tokenizer ---\n",
      "['The', 'quick', 'brown', 'fox', 'jumps', 'over', 'the', 'lazy', 'dog']\n",
      "\n",
      "--- letter tokenizer ---\n",
      "['The', 'quick', 'brown', 'fox', 'jumps', 'over', 'the', 'lazy', 'dog']\n",
      "\n",
      "--- standard tokenizer ---\n",
      "['The', 'quick', 'brown', 'fox', 'jumps', 'over', 'the', 'lazy', 'dog']\n",
      "\n",
      "--- whitespace tokenizer ---\n",
      "['The', 'quick', 'brown', 'fox', 'jumps', 'over', 'the', 'lazy', 'dog!']\n",
      "\n",
      "--- letter tokenizer ---\n",
      "['The', 'quick', 'brown', 'fox', 'jumps', 'over', 'the', 'lazy', 'dog']\n",
      "\n",
      "--- ngram tokenizer ---\n",
      "['T', 'Th', 'h', 'he', 'e', 'e ', ' ', ' q', 'q', 'qu', 'u', 'ui', 'i', 'ic', 'c', 'ck', 'k', 'k ', ' ', ' b', 'b', 'br', 'r', 'ro', 'o', 'ow', 'w', 'wn', 'n', 'n ', ' ', ' f', 'f', 'fo', 'o', 'ox', 'x', 'x ', ' ', ' j', 'j', 'ju', 'u', 'um', 'm', 'mp', 'p', 'ps', 's', 's ', ' ', ' o', 'o', 'ov', 'v', 've', 'e', 'er', 'r', 'r ', ' ', ' t', 't', 'th', 'h', 'he', 'e', 'e ', ' ', ' l', 'l', 'la', 'a', 'az', 'z', 'zy', 'y', 'y ', ' ', ' d', 'd', 'do', 'o', 'og', 'g', 'g!', '!']\n",
      "\n",
      "--- edge_ngram tokenizer ---\n",
      "['T', 'Th']\n",
      "\n",
      "--- keyword tokenizer ---\n",
      "['The quick brown fox jumps over the lazy dog!']\n",
      "\n"
     ]
    }
   ],
   "source": [
    "# Text to analyze\n",
    "text_to_analyze = \"The quick brown fox jumps over the lazy dog!\"\n",
    "\n",
    "# Tokenizers to test\n",
    "tokenizers = [\n",
    "    {\"tokenizer\": \"standard\"},\n",
    "    {\"tokenizer\": \"letter\"},\n",
    "    {\"tokenizer\": \"standard\"},\n",
    "    {\"tokenizer\": \"whitespace\"},\n",
    "    {\"tokenizer\": \"letter\"},\n",
    "    {\"tokenizer\": \"ngram\"},\n",
    "    {\"tokenizer\": \"edge_ngram\"},\n",
    "    {\"tokenizer\": \"keyword\"},\n",
    "]\n",
    "\n",
    "\n",
    "# Run analysis\n",
    "for tokenizer in tokenizers:\n",
    "    tokens = analyze(text_to_analyze, tokenizer)\n",
    "    print(f\"--- {tokenizer['tokenizer']} tokenizer ---\")\n",
    "    print(tokens)\n",
    "    print()\n"
   ]
  },
  {
   "cell_type": "markdown",
   "id": "fbeab63e",
   "metadata": {},
   "source": [
    "### Token filters"
   ]
  },
  {
   "cell_type": "code",
   "execution_count": 6,
   "id": "e742a3da",
   "metadata": {},
   "outputs": [
    {
     "name": "stdout",
     "output_type": "stream",
     "text": [
      "--- Filters: lowercase ---\n",
      "['the', 'running', 'café', 'in', 'münchen']\n",
      "\n",
      "--- Filters: stop ---\n",
      "['The', 'Running', 'Café', 'München']\n",
      "\n",
      "--- Filters: asciifolding ---\n",
      "['The', 'Running', 'Cafe', 'in', 'Munchen']\n",
      "\n",
      "--- Filters: stemmer ---\n",
      "['The', 'Run', 'Café', 'in', 'München']\n",
      "\n",
      "--- Filters: unique ---\n",
      "['The', 'Running', 'Café', 'in', 'München']\n",
      "\n"
     ]
    }
   ],
   "source": [
    "# Text to analyze\n",
    "text_to_analyze = \"The Running Café in München!\"\n",
    "\n",
    "# Token filters to test (with tokenizer)\n",
    "token_filters = [\n",
    "    {\"tokenizer\": \"standard\", \"filter\": [\"lowercase\"]},\n",
    "    {\"tokenizer\": \"standard\", \"filter\": [\"stop\"]},\n",
    "    {\"tokenizer\": \"standard\", \"filter\": [\"asciifolding\"]},\n",
    "    {\"tokenizer\": \"standard\", \"filter\": [\"stemmer\"]},\n",
    "    {\"tokenizer\": \"standard\", \"filter\": [\"unique\"]},\n",
    "]\n",
    "\n",
    "# Run analysis\n",
    "for filter in token_filters:\n",
    "    tokens = analyze(text_to_analyze, filter)\n",
    "    print(f\"--- Filters: {filter['filter'][0]} ---\")\n",
    "    print(tokens)\n",
    "    print()\n"
   ]
  },
  {
   "cell_type": "markdown",
   "id": "e8500904",
   "metadata": {},
   "source": [
    "### Stemming Example"
   ]
  },
  {
   "cell_type": "code",
   "execution_count": 8,
   "id": "043995c7",
   "metadata": {},
   "outputs": [
    {
     "name": "stdout",
     "output_type": "stream",
     "text": [
      "--- Char Filter: ['html_strip'] ---\n",
      "['The', 'b', 'quick', 'b', 'brown', 'fox']\n",
      "\n",
      "Error with {'tokenizer': 'standard', 'char_filter': ['mapping'], 'text': 'The &lt;b&gt;quick&lt;/b&gt; brown fox'}: {\"error\":{\"root_cause\":[{\"type\":\"illegal_argument_exception\",\"reason\":\"Analysis settings required - can't instantiate analysis factory\"}],\"type\":\"illegal_argument_exception\",\"reason\":\"Analysis settings required - can't instantiate analysis factory\"},\"status\":400}\n",
      "--- Char Filter: ['mapping'] ---\n",
      "[]\n",
      "\n"
     ]
    }
   ],
   "source": [
    "# Text to analyze\n",
    "text_to_analyze = \"The &lt;b&gt;quick&lt;/b&gt; brown fox\"\n",
    "\n",
    "# Character filters to test\n",
    "char_filters = [\n",
    "    {\"tokenizer\": \"standard\", \"char_filter\": [\"html_strip\"]},\n",
    "    {\"tokenizer\": \"standard\", \"char_filter\": [\"mapping\"]},\n",
    "]\n",
    "\n",
    "# Run analysis\n",
    "for char_filter in char_filters:\n",
    "    tokens = analyze(text_to_analyze, char_filter)\n",
    "    print(f\"--- Char Filter: {char_filter['char_filter']} ---\")\n",
    "    print(tokens)\n",
    "    print()\n"
   ]
  }
 ],
 "metadata": {
  "kernelspec": {
   "display_name": "venv (3.9.6)",
   "language": "python",
   "name": "python3"
  },
  "language_info": {
   "codemirror_mode": {
    "name": "ipython",
    "version": 3
   },
   "file_extension": ".py",
   "mimetype": "text/x-python",
   "name": "python",
   "nbconvert_exporter": "python",
   "pygments_lexer": "ipython3",
   "version": "3.9.6"
  }
 },
 "nbformat": 4,
 "nbformat_minor": 5
}
