{
 "cells": [
  {
   "cell_type": "code",
   "execution_count": null,
   "id": "f89be403",
   "metadata": {},
   "outputs": [],
   "source": [
    "from helpers.db.db_setup_methods import *\n",
    "from helpers.db.db_query_methods import *\n",
    "\n",
    "from helpers.db.db_helper_methods import *\n",
    "\n",
    "from helpers.es.es_setup_methods import *\n",
    "from helpers.es.es_helper_methods import *\n",
    "\n",
    "records_size = 200_000\n",
    "\n",
    "db_name_no_index = \"db_no_index\"\n",
    "db_name_with_index = \"db_with_index\"\n",
    "\n",
    "init_db(records_max=records_size, db_name=db_name_no_index)\n",
    "init_db(records_max=records_size, db_name=db_name_with_index)\n",
    "\n",
    "es_standard_index = \"standard_index\"\n",
    "\n",
    "init_index(index_name=es_standard_index, documents_records=records_size)"
   ]
  },
  {
   "cell_type": "markdown",
   "id": "74c4502b",
   "metadata": {},
   "source": [
    "First the db benchmark"
   ]
  },
  {
   "cell_type": "code",
   "execution_count": null,
   "id": "7c212e86",
   "metadata": {},
   "outputs": [],
   "source": [
    "db_query = \"\"\"\n",
    "SELECT * FROM products WHERE name = 'Pro Charger Tablet Brush Go 360'\n",
    "\"\"\"\n",
    "\n",
    "execute_query(query=db_query, database=db_name_no_index, print_as_df=False, show_metrics=True)"
   ]
  },
  {
   "cell_type": "markdown",
   "id": "33c190d7",
   "metadata": {},
   "source": [
    "Now creating a index to check the best possible speed"
   ]
  },
  {
   "cell_type": "code",
   "execution_count": null,
   "id": "7d45c672",
   "metadata": {},
   "outputs": [],
   "source": [
    "db_query = \"\"\"\n",
    "CREATE INDEX idx_products_name ON products (name)\n",
    "\"\"\"\n",
    "\n",
    "execute_query(query=db_query, database=db_name_with_index, print_as_df=False, show_metrics=False)"
   ]
  },
  {
   "cell_type": "code",
   "execution_count": null,
   "id": "65186337",
   "metadata": {},
   "outputs": [],
   "source": [
    "db_query = \"\"\"\n",
    "SELECT * FROM products WHERE name = 'Pro Charger Tablet Brush Go 360'\n",
    "\"\"\"\n",
    "\n",
    "execute_query(query=db_query, database=db_name_with_index, print_as_df=False, show_metrics=True)"
   ]
  },
  {
   "cell_type": "markdown",
   "id": "5997ebaa",
   "metadata": {},
   "source": [
    "Now testing out ES"
   ]
  },
  {
   "cell_type": "code",
   "execution_count": null,
   "id": "8699c68c",
   "metadata": {},
   "outputs": [],
   "source": [
    "user_input = \"Pro Charger Tablet Brush Go 360\"\n",
    "\n",
    "query = {\n",
    "    \"query\": {\n",
    "        \"match\": {\n",
    "            \"name\": user_input\n",
    "        }\n",
    "    }\n",
    "}\n",
    "\n",
    "search_text(query, es_standard_index)"
   ]
  },
  {
   "cell_type": "markdown",
   "id": "20c6175f",
   "metadata": {},
   "source": [
    "This seems to acutally be the DB that is faster than ES. I would have thought they would either be around the same speed or that es would be quicker."
   ]
  },
  {
   "cell_type": "markdown",
   "id": "19244e35",
   "metadata": {},
   "source": [
    "Now lets try to only include the first half of the search to see if ES now performs faster. I would expect so. Since the DB cant use the index for a exact match"
   ]
  },
  {
   "cell_type": "code",
   "execution_count": null,
   "id": "18b74c3f",
   "metadata": {},
   "outputs": [],
   "source": [
    "db_query = \"\"\"\n",
    "SELECT * FROM products WHERE name like 'Pro Charger Tablet%%';\n",
    "\"\"\"\n",
    "\n",
    "execute_query(query=db_query, database=db_name_with_index, print_as_df=False, show_metrics=True)"
   ]
  },
  {
   "cell_type": "code",
   "execution_count": null,
   "id": "4a0160ac",
   "metadata": {},
   "outputs": [],
   "source": [
    "user_input = \"Pro Charger Tablet\"\n",
    "\n",
    "query = {\n",
    "    \"query\": {\n",
    "        \"match_phrase\": {\n",
    "            \"name\": user_input\n",
    "        }\n",
    "    }\n",
    "}\n",
    "\n",
    "search_text(query, es_standard_index)"
   ]
  },
  {
   "cell_type": "markdown",
   "id": "7625de74",
   "metadata": {},
   "source": [
    "So This yielded about the same result. i did not expect that."
   ]
  },
  {
   "cell_type": "markdown",
   "id": "ce6cb8a3",
   "metadata": {},
   "source": [
    "Next lets force the DB to not be able to use the index by doing a wildcard on both sides"
   ]
  },
  {
   "cell_type": "code",
   "execution_count": null,
   "id": "a9ab86f2",
   "metadata": {},
   "outputs": [],
   "source": [
    "db_query = \"\"\"\n",
    "SELECT * FROM products WHERE name like '%%Charger Tablet%%';\n",
    "\"\"\"\n",
    "\n",
    "execute_query(query=db_query, database=db_name_with_index, print_as_df=False, show_metrics=True)"
   ]
  },
  {
   "cell_type": "code",
   "execution_count": null,
   "id": "c0ba9c4b",
   "metadata": {},
   "outputs": [],
   "source": [
    "user_input = \"Charger Tablet\"\n",
    "\n",
    "query = {\n",
    "    \"query\": {\n",
    "        \"match_phrase\": {\n",
    "            \"name\": user_input\n",
    "        }\n",
    "    }\n",
    "}\n",
    "\n",
    "search_text(query, es_standard_index)"
   ]
  },
  {
   "cell_type": "markdown",
   "id": "8033bb26",
   "metadata": {},
   "source": [
    "Now the difference is clear. Es has mentained the exact same speed through out whereas the DB gets slower and slower depnding on either the selectivity or if it has to do a full table scan"
   ]
  }
 ],
 "metadata": {
  "kernelspec": {
   "display_name": "venv (3.13.7)",
   "language": "python",
   "name": "python3"
  },
  "language_info": {
   "codemirror_mode": {
    "name": "ipython",
    "version": 3
   },
   "file_extension": ".py",
   "mimetype": "text/x-python",
   "name": "python",
   "nbconvert_exporter": "python",
   "pygments_lexer": "ipython3",
   "version": "3.13.7"
  }
 },
 "nbformat": 4,
 "nbformat_minor": 5
}
