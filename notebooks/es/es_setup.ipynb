{
 "cells": [
  {
   "cell_type": "markdown",
   "id": "a8fc1774",
   "metadata": {},
   "source": [
    "# Elastic search config"
   ]
  },
  {
   "cell_type": "markdown",
   "id": "17a17e45",
   "metadata": {},
   "source": [
    "### Test connection"
   ]
  },
  {
   "cell_type": "code",
   "execution_count": null,
   "id": "54ca113e",
   "metadata": {},
   "outputs": [],
   "source": [
    "import requests\n",
    "from requests.auth import HTTPBasicAuth\n",
    "\n",
    "# Elasticsearch connection settings\n",
    "es_url = \"http://localhost:9201\"\n",
    "es_user = \"elastic\"\n",
    "es_password = \"apppw\"\n",
    "\n",
    "try:\n",
    "    response = requests.get(f\"{es_url}/\", auth=HTTPBasicAuth(es_user, es_password), timeout=5)\n",
    "    if response.status_code == 200:\n",
    "        print(\"Successfully connected to Elasticsearch!\")\n",
    "    else:\n",
    "        print(f\"Failed to connect to Elasticsearch: {response.status_code} {response.text}\")\n",
    "except Exception as e:\n",
    "    print(f\"Error connecting to Elasticsearch: {e}\")"
   ]
  },
  {
   "cell_type": "markdown",
   "id": "efd64c5d",
   "metadata": {},
   "source": [
    "### Create empty Index"
   ]
  },
  {
   "cell_type": "code",
   "execution_count": null,
   "id": "48de898d",
   "metadata": {},
   "outputs": [],
   "source": [
    "from elasticsearch import Elasticsearch\n",
    "\n",
    "# Connection\n",
    "es_url = \"http://localhost:9201\"\n",
    "es_user = \"elastic\"\n",
    "es_password = \"apppw\"\n",
    "index_name = \"my_index\"\n",
    "\n",
    "es = Elasticsearch(\n",
    "    es_url,\n",
    "    basic_auth=(es_user, es_password)\n",
    ")\n",
    "\n",
    "# 1. Delete index if it already exists\n",
    "if es.indices.exists(index=index_name):\n",
    "    es.indices.delete(index=index_name)\n",
    "    print(f\"Deleted old index: {index_name}\")\n",
    "\n",
    "# 2. Define settings + mappings\n",
    "settings = {\n",
    "    \"settings\": {\n",
    "        \"analysis\": {\n",
    "            \"analyzer\": {\n",
    "                \"ngram_analyzer\": {\n",
    "                    \"tokenizer\": \"ngram_tokenizer\"\n",
    "                }\n",
    "            },\n",
    "            \"tokenizer\": {\n",
    "                \"ngram_tokenizer\": {\n",
    "                    \"type\": \"ngram\",\n",
    "                    \"min_gram\": 3,\n",
    "                    \"max_gram\": 4,\n",
    "                    \"token_chars\": [\"letter\", \"digit\"]\n",
    "                }\n",
    "            }\n",
    "        }\n",
    "    },\n",
    "    \"mappings\": {\n",
    "        \"properties\": {\n",
    "            \"title\": {\n",
    "                \"type\": \"text\",\n",
    "                \"fields\": {\n",
    "                    \"standard\": {\"type\": \"text\", \"analyzer\": \"standard\"},\n",
    "                    \"ngram\": {\"type\": \"text\", \"analyzer\": \"ngram_analyzer\"}\n",
    "                }\n",
    "            },\n",
    "            \"year\": {\"type\": \"integer\"},\n",
    "            \"genre\": {\"type\": \"keyword\"}\n",
    "        }\n",
    "    }\n",
    "}\n",
    "\n",
    "\n",
    "# 3. Create index\n",
    "es.indices.create(index=index_name, body=settings)\n",
    "print(f\"Created index: {index_name}\")\n"
   ]
  },
  {
   "cell_type": "markdown",
   "id": "2083e6f4",
   "metadata": {},
   "source": [
    "### Fill index"
   ]
  },
  {
   "cell_type": "code",
   "execution_count": null,
   "id": "b97652ee",
   "metadata": {},
   "outputs": [],
   "source": [
    "from elasticsearch import Elasticsearch, helpers\n",
    "import pandas as pd\n",
    "import numpy as np\n",
    "import time\n",
    "\n",
    "# Elasticsearch connection\n",
    "es_url = \"http://localhost:9201\"\n",
    "es_user = \"elastic\"\n",
    "es_password = \"apppw\"\n",
    "index_name = \"my_index\"\n",
    "\n",
    "es = Elasticsearch(es_url, basic_auth=(es_user, es_password))\n",
    "\n",
    "# Load CSV\n",
    "csv_file = \"products-2000000.csv\"  # or larger CSV\n",
    "df = pd.read_csv(csv_file)\n",
    "\n",
    "# Replace NaN with None\n",
    "df = df.where(pd.notnull(df), None)\n",
    "\n",
    "# Rename columns if necessary (match ES mapping)\n",
    "# For example: 'Title', 'Year', 'Genre'\n",
    "# Make sure the column names match the mappings\n",
    "# df.rename(columns={\"OldName\": \"NewName\"}, inplace=True)\n",
    "\n",
    "# Convert DataFrame to dicts for ES\n",
    "records = df.to_dict(orient=\"records\")\n",
    "\n",
    "batch_size = 1000  # tweak based on memory / ES capacity\n",
    "start_time = time.time()\n",
    "\n",
    "print(\"Starting to insert rows\")\n",
    "\n",
    "for start in range(0, len(records), batch_size):\n",
    "    end = start + batch_size\n",
    "    batch = records[start:end]\n",
    "    actions = [\n",
    "        {\n",
    "            \"_index\": index_name,\n",
    "            \"_source\": rec\n",
    "        }\n",
    "        for rec in batch\n",
    "    ]\n",
    "    helpers.bulk(es, actions)\n",
    "\n",
    "elapsed = time.time() - start_time\n",
    "print(f\"Finished inserting {len(records)} rows into '{index_name}' in {elapsed:.2f} seconds\")\n"
   ]
  }
 ],
 "metadata": {
  "kernelspec": {
   "display_name": "venv (3.9.6)",
   "language": "python",
   "name": "python3"
  },
  "language_info": {
   "codemirror_mode": {
    "name": "ipython",
    "version": 3
   },
   "file_extension": ".py",
   "mimetype": "text/x-python",
   "name": "python",
   "nbconvert_exporter": "python",
   "pygments_lexer": "ipython3",
   "version": "3.9.6"
  }
 },
 "nbformat": 4,
 "nbformat_minor": 5
}
