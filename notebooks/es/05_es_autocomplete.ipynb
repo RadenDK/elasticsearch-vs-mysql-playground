{
 "cells": [
  {
   "cell_type": "markdown",
   "id": "58cfebce",
   "metadata": {},
   "source": [
    "So in this notebook i want to try and act as a like searchbar in a shop where you would get suggestions without having to type in the full word.\n",
    "\n",
    "I proberbly have to try and use different tokenizers at indexing and search time\n",
    "\n",
    "I proberbly have to include fuzzing for spelling mistakes\n",
    "\n",
    "and maybe more"
   ]
  },
  {
   "cell_type": "code",
   "execution_count": null,
   "id": "796a41a0",
   "metadata": {},
   "outputs": [],
   "source": [
    "from helpers.es.es_setup_methods import *\n",
    "from helpers.es.es_helper_methods import *\n",
    "\n",
    "document_amount = 2_000_000\n",
    "\n",
    "standard_index = \"standard_index\"\n",
    "\n",
    "edge_ngram_index = \"edge_ngram_index\""
   ]
  },
  {
   "cell_type": "markdown",
   "id": "6f33eca1",
   "metadata": {},
   "source": [
    "So first, Lets try with standard everything and see what it can do by default"
   ]
  },
  {
   "cell_type": "code",
   "execution_count": null,
   "id": "472aae67",
   "metadata": {},
   "outputs": [],
   "source": [
    "mapping = {\n",
    "    \"mappings\": {\n",
    "        \"properties\": {\n",
    "            \"index\": {\n",
    "                \"type\": \"integer\",\n",
    "                \"index\": True\n",
    "            },\n",
    "            \"name\": {\n",
    "                \"type\": \"text\",\n",
    "            },\n",
    "            \"description\": {\n",
    "                \"type\": \"text\"\n",
    "            },\n",
    "            \"brand\": {\n",
    "                \"type\": \"text\"\n",
    "            },\n",
    "            \"category\": {\n",
    "                \"type\": \"keyword\"\n",
    "            },\n",
    "            \"price\": {\n",
    "                \"type\": \"integer\"\n",
    "            },\n",
    "            \"stock\": {\n",
    "                \"type\": \"integer\"\n",
    "            },\n",
    "            \"color\": {\n",
    "                \"type\": \"keyword\"\n",
    "            },\n",
    "            \"size\": {\n",
    "                \"type\": \"keyword\"\n",
    "            },\n",
    "            \"availability\": {\n",
    "                \"type\": \"keyword\"\n",
    "            }\n",
    "        }\n",
    "    }\n",
    "}\n",
    "\n",
    "settings = {\n",
    "    \"settings\": {\n",
    "        \"analysis\": {\n",
    "            \"analyzer\": {\n",
    "                \"standard\": {\n",
    "                    \"type\": \"standard\"\n",
    "                },\n",
    "            },\n",
    "            \"tokenizer\": {\n",
    "                \"standard\": {\n",
    "                    \"type\": \"standard\",\n",
    "                }\n",
    "            }\n",
    "        }\n",
    "    }\n",
    "}\n",
    "\n",
    "\n",
    "init_index(index_name=standard_index,mapping=mapping, settings=settings, documents_records=document_amount)\n",
    "\n",
    "\n",
    "print(\"sleeping to just make sure the index is ready\")\n",
    "\n",
    "time.sleep(2)"
   ]
  },
  {
   "cell_type": "markdown",
   "id": "3a7d1f19",
   "metadata": {},
   "source": [
    "If we try to search for all wireless chargers just to use this as a benchmark performance. \n",
    "We could have made a search what would be just \"name\": \"wireless charger\" but this would return all hits where there is EITHER wireless or charger in the name. So instead i use the query and and-operator just to specify that the names wireless and charger should be in the name (but this dont specify that they have to be next to each other)"
   ]
  },
  {
   "cell_type": "code",
   "execution_count": null,
   "id": "060bde17",
   "metadata": {},
   "outputs": [],
   "source": [
    "user_input = \"wireless charger\"\n",
    "\n",
    "query = {\n",
    "    \"query\": {\n",
    "        \"match\": {\n",
    "            \"name\": {\n",
    "                \"query\": user_input,\n",
    "                \"operator\": \"and\"\n",
    "            }\n",
    "        }\n",
    "    }\n",
    "}\n",
    "\n",
    "search_text(query, standard_index)"
   ]
  },
  {
   "cell_type": "markdown",
   "id": "44475fb5",
   "metadata": {},
   "source": [
    "Just for another sort of benchmark, the standard analyzer wont allow for auto completion"
   ]
  },
  {
   "cell_type": "code",
   "execution_count": null,
   "id": "83e3ac4b",
   "metadata": {},
   "outputs": [],
   "source": [
    "user_input = \"charg\"\n",
    "\n",
    "query = {\n",
    "    \"query\": {\n",
    "        \"match\": {\n",
    "            \"name\": user_input\n",
    "        }\n",
    "    }\n",
    "}\n",
    "\n",
    "search_text(query, standard_index)"
   ]
  },
  {
   "cell_type": "code",
   "execution_count": null,
   "id": "a77dcf72",
   "metadata": {},
   "outputs": [],
   "source": [
    "mapping = {\n",
    "    \"mappings\": {\n",
    "        \"properties\": {\n",
    "            \"index\": {\n",
    "                \"type\": \"integer\",\n",
    "                \"index\": True\n",
    "            },\n",
    "            \"name\": {\n",
    "                \"type\": \"text\",\n",
    "                \"analyzer\": \"product_search_analyzer\",\n",
    "                \"search_analyzer\": \"standard\"\n",
    "            },\n",
    "            \"description\": {\n",
    "                \"type\": \"text\"\n",
    "            },\n",
    "            \"brand\": {\n",
    "                \"type\": \"text\"\n",
    "            },\n",
    "            \"category\": {\n",
    "                \"type\": \"keyword\"\n",
    "            },\n",
    "            \"price\": {\n",
    "                \"type\": \"integer\"\n",
    "            },\n",
    "            \"stock\": {\n",
    "                \"type\": \"integer\"\n",
    "            },\n",
    "            \"color\": {\n",
    "                \"type\": \"keyword\"\n",
    "            },\n",
    "            \"size\": {\n",
    "                \"type\": \"keyword\"\n",
    "            },\n",
    "            \"availability\": {\n",
    "                \"type\": \"keyword\"\n",
    "            }\n",
    "        }\n",
    "    }\n",
    "}\n",
    "\n",
    "settings = {\n",
    "    \"settings\": {\n",
    "        \"analysis\": {\n",
    "            \"analyzer\": {\n",
    "                \"product_search_analyzer\": {\n",
    "                    \"tokenizer\": \"my_edge_ngram\",\n",
    "                    \"filter\": [\n",
    "                        \"lowercase\"\n",
    "                    ]\n",
    "                }\n",
    "            },\n",
    "            \"tokenizer\": {\n",
    "                \"my_edge_ngram\": {\n",
    "                    \"type\": \"edge_ngram\",\n",
    "                    \"min_gram\": 1,\n",
    "                    \"max_gram\": 20,\n",
    "                    \"token_chars\": [\n",
    "                        \"letter\",\n",
    "                        \"digit\"\n",
    "                    ]\n",
    "                }\n",
    "            }\n",
    "        }\n",
    "    }\n",
    "}\n",
    "\n",
    "\n",
    "init_index(index_name=edge_ngram_index, mapping=mapping, settings=settings, documents_records=document_amount)\n",
    "\n",
    "print(\"sleeping to just make sure the index is ready\")\n",
    "\n",
    "time.sleep(2)"
   ]
  },
  {
   "cell_type": "markdown",
   "id": "007de248",
   "metadata": {},
   "source": [
    "Here we have made a edge_gram index and this should allow us to now partly spell words. But lets first get the benchmark of just wireless charger"
   ]
  },
  {
   "cell_type": "code",
   "execution_count": null,
   "id": "3e6651ef",
   "metadata": {},
   "outputs": [],
   "source": [
    "user_input = \"wireless charger\"\n",
    "\n",
    "query = {\n",
    "    \"query\": {\n",
    "        \"match\": {\n",
    "            \"name\": {\n",
    "                \"query\": user_input,\n",
    "                \"operator\": \"and\"\n",
    "            }\n",
    "        }\n",
    "    }\n",
    "}\n",
    "\n",
    "search_text(query, edge_ngram_index)\n"
   ]
  },
  {
   "cell_type": "markdown",
   "id": "0a98b17f",
   "metadata": {},
   "source": [
    "The benchmark got around the same times. So the egde ngram doesn't bring speed to the table. And i think it would somewhat do the oppisite since it would make the tokenization part take a bit longer i would assume. And it would also possbile add a bit of extra storage to store all of these extra tokens. \n",
    "I dont quite know like the price of the cost if that makes sense"
   ]
  },
  {
   "cell_type": "code",
   "execution_count": null,
   "id": "369b48b0",
   "metadata": {},
   "outputs": [],
   "source": [
    "user_input = \"wir charg\"\n",
    "\n",
    "query = {\n",
    "    \"query\": {\n",
    "        \"match\": {\n",
    "            \"name\": {\n",
    "                \"query\": user_input,\n",
    "                \"operator\": \"and\"\n",
    "            }\n",
    "        }\n",
    "    }\n",
    "}\n",
    "\n",
    "search_text(query, edge_ngram_index)\n"
   ]
  },
  {
   "cell_type": "markdown",
   "id": "78dbf262",
   "metadata": {},
   "source": [
    "This just showed us that now we can search of part of the words instead of having to type the full words. And it is the same performance as the full word search"
   ]
  }
 ],
 "metadata": {
  "kernelspec": {
   "display_name": "venv (3.13.7)",
   "language": "python",
   "name": "python3"
  },
  "language_info": {
   "codemirror_mode": {
    "name": "ipython",
    "version": 3
   },
   "file_extension": ".py",
   "mimetype": "text/x-python",
   "name": "python",
   "nbconvert_exporter": "python",
   "pygments_lexer": "ipython3",
   "version": "3.13.7"
  }
 },
 "nbformat": 4,
 "nbformat_minor": 5
}
