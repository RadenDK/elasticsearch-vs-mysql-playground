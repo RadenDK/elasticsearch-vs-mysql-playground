{
 "cells": [
  {
   "cell_type": "code",
   "execution_count": null,
   "id": "796a41a0",
   "metadata": {},
   "outputs": [],
   "source": [
    "from helpers.es.es_setup_methods import *\n",
    "from helpers.es.es_helper_methods import *"
   ]
  },
  {
   "cell_type": "code",
   "execution_count": null,
   "id": "a77dcf72",
   "metadata": {},
   "outputs": [],
   "source": [
    "init_index(documents_records=2000)"
   ]
  }
 ],
 "metadata": {
  "kernelspec": {
   "display_name": "venv (3.13.7)",
   "language": "python",
   "name": "python3"
  },
  "language_info": {
   "codemirror_mode": {
    "name": "ipython",
    "version": 3
   },
   "file_extension": ".py",
   "mimetype": "text/x-python",
   "name": "python",
   "nbconvert_exporter": "python",
   "pygments_lexer": "ipython3",
   "version": "3.13.7"
  }
 },
 "nbformat": 4,
 "nbformat_minor": 5
}
