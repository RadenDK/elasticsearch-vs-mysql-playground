{
 "cells": [
  {
   "cell_type": "code",
   "execution_count": null,
   "id": "aa3b3e7c",
   "metadata": {},
   "outputs": [],
   "source": [
    "from helpers.db.db_setup_methods import *\n",
    "from helpers.db.db_query_methods import *\n",
    "\n",
    "from helpers.db.db_helper_methods import *\n",
    "\n",
    "init_db(2000000)\n"
   ]
  },
  {
   "cell_type": "markdown",
   "id": "901a32cc",
   "metadata": {},
   "source": [
    "This is just to play with the group by.\n",
    "\n",
    "First i would expect if i made like a group by that maybe if i had a index on it, it would be faster"
   ]
  },
  {
   "cell_type": "code",
   "execution_count": null,
   "id": "f38a1fca",
   "metadata": {},
   "outputs": [],
   "source": [
    "drop_non_clustered_indexes(\"products\", get_database_name())\n",
    "\n",
    "query = \"\"\"\n",
    "SELECT COUNT(*) \n",
    "FROM products\n",
    "WHERE price = 999 \n",
    "GROUP BY price;\n",
    "\"\"\"\n",
    "\n",
    "execute_query(query, database=get_database_name(), print_as_df=False, show_metrics=True)\n",
    "execute_query(\"EXPLAIN \" + query, database=get_database_name(), print_as_df=True, show_metrics=False)\n"
   ]
  },
  {
   "cell_type": "code",
   "execution_count": null,
   "id": "895661c6",
   "metadata": {},
   "outputs": [],
   "source": [
    "drop_non_clustered_indexes(\"products\", get_database_name())\n",
    "\n",
    "query = \"\"\"\n",
    "CREATE INDEX idx_price ON products (price);\n",
    "\"\"\"\n",
    "\n",
    "execute_query(query, database=get_database_name(), print_as_df=False, show_metrics=False)\n",
    "\n",
    "query = \"\"\"\n",
    "SELECT COUNT(*) \n",
    "FROM products \n",
    "WHERE price = 999 \n",
    "GROUP BY price;\n",
    "\"\"\"\n",
    "\n",
    "execute_query(query, database=get_database_name(), print_as_df=False, show_metrics=True)\n",
    "execute_query(\"EXPLAIN \" + query, database=get_database_name(), print_as_df=True, show_metrics=False)"
   ]
  },
  {
   "cell_type": "markdown",
   "id": "97cd875b",
   "metadata": {},
   "source": [
    "The index making it faster did seem to be the case.\n",
    "\n",
    "Now i want to explore abit about if you also add a access predicate that is different from the group by what happens. \n",
    "\n",
    "I expect that no matter the order that the index would make it faster. But speed would also depend on the order where in this case i would think that since like the price = 999 will limit the search result the most then price, size would be the faster index"
   ]
  },
  {
   "cell_type": "code",
   "execution_count": null,
   "id": "ffbf8c76",
   "metadata": {},
   "outputs": [],
   "source": [
    "drop_non_clustered_indexes(\"products\", get_database_name())\n",
    "\n",
    "query = \"\"\"\n",
    "SELECT size, COUNT(*) as count\n",
    "FROM products\n",
    "WHERE price = 999 \n",
    "GROUP BY size;\n",
    "\"\"\"\n",
    "\n",
    "execute_query(query, database=get_database_name(), print_as_df=False, show_metrics=True)\n",
    "execute_query(\"EXPLAIN \" + query, database=get_database_name(), print_as_df=True, show_metrics=False)\n"
   ]
  },
  {
   "cell_type": "code",
   "execution_count": null,
   "id": "64379027",
   "metadata": {},
   "outputs": [],
   "source": [
    "drop_non_clustered_indexes(\"products\", get_database_name())\n",
    "\n",
    "query = \"\"\"\n",
    "CREATE INDEX idx_price_size ON products (price, size);\n",
    "\"\"\"\n",
    "\n",
    "execute_query(query, database=get_database_name(), print_as_df=False, show_metrics=False)\n",
    "\n",
    "query = \"\"\"\n",
    "SELECT size, COUNT(*) as count\n",
    "FROM products\n",
    "WHERE price = 999 \n",
    "GROUP BY size;\n",
    "\"\"\"\n",
    "\n",
    "execute_query(query, database=get_database_name(), print_as_df=False, show_metrics=True)\n",
    "execute_query(\"EXPLAIN \" + query, database=get_database_name(), print_as_df=True, show_metrics=False)\n"
   ]
  },
  {
   "cell_type": "code",
   "execution_count": null,
   "id": "793fc374",
   "metadata": {},
   "outputs": [],
   "source": [
    "drop_non_clustered_indexes(\"products\", get_database_name())\n",
    "\n",
    "query = \"\"\"\n",
    "CREATE INDEX idx_size_price ON products (size, price);\n",
    "\"\"\"\n",
    "\n",
    "execute_query(query, database=get_database_name(), print_as_df=False, show_metrics=False)\n",
    "\n",
    "query = \"\"\"\n",
    "SELECT size, COUNT(*) as count\n",
    "FROM products\n",
    "WHERE price = 999 \n",
    "GROUP BY size;\n",
    "\"\"\"\n",
    "\n",
    "execute_query(query, database=get_database_name(), print_as_df=False, show_metrics=True)\n",
    "execute_query(\"EXPLAIN \" + query, database=get_database_name(), print_as_df=True, show_metrics=False)"
   ]
  },
  {
   "cell_type": "markdown",
   "id": "2256d6c5",
   "metadata": {},
   "source": [
    "I think i was right in my assumption. Though the difference in speed if i had the index size, price was not notciable at lower data amount but at 2M it was clear."
   ]
  }
 ],
 "metadata": {
  "kernelspec": {
   "display_name": "venv (3.13.7)",
   "language": "python",
   "name": "python3"
  },
  "language_info": {
   "codemirror_mode": {
    "name": "ipython",
    "version": 3
   },
   "file_extension": ".py",
   "mimetype": "text/x-python",
   "name": "python",
   "nbconvert_exporter": "python",
   "pygments_lexer": "ipython3",
   "version": "3.13.7"
  }
 },
 "nbformat": 4,
 "nbformat_minor": 5
}
