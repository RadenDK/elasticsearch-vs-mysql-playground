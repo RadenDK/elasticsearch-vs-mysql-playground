{
 "cells": [
  {
   "cell_type": "code",
   "execution_count": null,
   "id": "c07dbd8f",
   "metadata": {},
   "outputs": [],
   "source": [
    "from helpers.db.db_setup_methods import *\n",
    "from helpers.db.db_query_methods import *\n",
    "\n",
    "from helpers.db.db_helper_methods import *\n",
    "\n",
    "init_db(200000)\n",
    "\n",
    "execute_query(\"SHOW TABLES\", database=get_database_name(), print_as_df=True, show_metrics=False)\n",
    "\n",
    "print(\"Products table\")\n",
    "execute_query(\"DESC products\", database=get_database_name(), print_as_df=True, show_metrics=False)\n",
    "\n",
    "print(\"Brands table\")\n",
    "execute_query(\"DESC availability\", database=get_database_name(), print_as_df=True, show_metrics=False)\n",
    "\n",
    "print(\"Brands table\")\n",
    "execute_query(\"DESC brands\", database=get_database_name(), print_as_df=True, show_metrics=False)\n",
    "\n",
    "print(\"Categories table\")\n",
    "execute_query(\"DESC categories\", database=get_database_name(), print_as_df=True, show_metrics=False)\n",
    "\n",
    "print(\"Colors table\")\n",
    "execute_query(\"DESC colors\", database=get_database_name(), print_as_df=True, show_metrics=False)"
   ]
  },
  {
   "cell_type": "markdown",
   "id": "c1449ef1",
   "metadata": {},
   "source": [
    "In this notebook i want to playaround with using multiple keys in a index. \n",
    "I hope to find that i could have a query with different columns used in a where clause and i could have a single index on of these and it should be faster than having none, but having two keys should improve the performance"
   ]
  },
  {
   "cell_type": "code",
   "execution_count": null,
   "id": "cb89a11a",
   "metadata": {},
   "outputs": [],
   "source": [
    "drop_non_clustered_indexes(\"products\", get_database_name(), output=False)\n",
    "\n",
    "query = \"\"\"\n",
    "SELECT * FROM products WHERE size = 'Large' AND price < 50;\n",
    "\"\"\"\n",
    "\n",
    "execute_query(query, database=get_database_name(), print_as_df=False, show_metrics=True)\n",
    "execute_query(\"EXPLAIN \"+ query, database=get_database_name(), print_as_df=True, show_metrics=False)"
   ]
  },
  {
   "cell_type": "code",
   "execution_count": null,
   "id": "a78316f1",
   "metadata": {},
   "outputs": [],
   "source": [
    "drop_non_clustered_indexes(\"products\", get_database_name(), output=False)\n",
    "\n",
    "query = \"\"\"\n",
    "CREATE INDEX idx_size ON products(size);\n",
    "\"\"\"\n",
    "\n",
    "execute_query(query, database=get_database_name(), print_as_df=False, show_metrics=False)\n",
    "\n",
    "query = \"\"\"\n",
    "SELECT * FROM products WHERE size = 'Large' AND price < 50;\n",
    "\"\"\"\n",
    "\n",
    "execute_query(query, database=get_database_name(), print_as_df=False, show_metrics=True)\n",
    "execute_query(\"EXPLAIN \"+ query, database=get_database_name(), print_as_df=True, show_metrics=False)"
   ]
  },
  {
   "cell_type": "code",
   "execution_count": null,
   "id": "a6dd2208",
   "metadata": {},
   "outputs": [],
   "source": [
    "drop_non_clustered_indexes(\"products\", get_database_name(), output=False)\n",
    "\n",
    "query = \"\"\"\n",
    "CREATE INDEX idx_price ON products(price);\n",
    "\"\"\"\n",
    "\n",
    "execute_query(query, database=get_database_name(), print_as_df=False, show_metrics=False)\n",
    "\n",
    "query = \"\"\"\n",
    "SELECT * FROM products WHERE size = 'Large' AND price < 50;\n",
    "\"\"\"\n",
    "\n",
    "execute_query(query, database=get_database_name(), print_as_df=False, show_metrics=True)\n",
    "execute_query(\"EXPLAIN \"+ query, database=get_database_name(), print_as_df=True, show_metrics=False)"
   ]
  },
  {
   "cell_type": "code",
   "execution_count": null,
   "id": "58c45763",
   "metadata": {},
   "outputs": [],
   "source": [
    "execute_query(\"SELECT count(1) from products where price < 50\", database=get_database_name(), print_as_df=True, show_metrics=False)"
   ]
  },
  {
   "cell_type": "code",
   "execution_count": null,
   "id": "460fe8e6",
   "metadata": {},
   "outputs": [],
   "source": [
    "execute_query(\"SELECT count(1) from products where size = 'Large'\", database=get_database_name(), print_as_df=True, show_metrics=False)"
   ]
  },
  {
   "cell_type": "code",
   "execution_count": null,
   "id": "159a4fc8",
   "metadata": {},
   "outputs": [],
   "source": [
    "drop_non_clustered_indexes(\"products\", get_database_name(), output=False)\n",
    "\n",
    "query = \"\"\"\n",
    "CREATE INDEX idx_size_and_price ON products(size, price);\n",
    "\"\"\"\n",
    "\n",
    "execute_query(query, database=get_database_name(), print_as_df=False, show_metrics=False)\n",
    "\n",
    "query = \"\"\"\n",
    "SELECT * FROM products WHERE size = 'Large' AND price < 50;\n",
    "\"\"\"\n",
    "\n",
    "execute_query(query, database=get_database_name(), print_as_df=False, show_metrics=True)\n",
    "execute_query(\"EXPLAIN \"+ query, database=get_database_name(), print_as_df=True, show_metrics=False)"
   ]
  },
  {
   "cell_type": "code",
   "execution_count": null,
   "id": "f0fa9b0e",
   "metadata": {},
   "outputs": [],
   "source": [
    "execute_query(\"select count(*) from products where price < 50\", database=get_database_name(), print_as_df=True, show_metrics=False)\n",
    "execute_query(\"select count(*) from products where size = 'Large'\", database=get_database_name(), print_as_df=True, show_metrics=False)"
   ]
  },
  {
   "cell_type": "markdown",
   "id": "6cf48c07",
   "metadata": {},
   "source": [
    "So this seems to show that using a single index can speed thing up (depending on the index and how you query) but two would still be better.\n",
    "And just for fun i want to add another key to the index to see if this would make it slower. My assumption is that it shouldn't affect the query time"
   ]
  },
  {
   "cell_type": "code",
   "execution_count": null,
   "id": "67667a75",
   "metadata": {},
   "outputs": [],
   "source": [
    "drop_non_clustered_indexes(\"products\", get_database_name(), output=False)\n",
    "\n",
    "query = \"\"\"\n",
    "CREATE INDEX idx_size_and_price_and_name ON products(size, price, name);\n",
    "\"\"\"\n",
    "\n",
    "execute_query(query, database=get_database_name(), print_as_df=False, show_metrics=False)\n",
    "\n",
    "query = \"\"\"\n",
    "SELECT * FROM products WHERE size = 'Large' AND price < 50;\n",
    "\"\"\"\n",
    "\n",
    "execute_query(query, database=get_database_name(), print_as_df=False, show_metrics=True)\n",
    "execute_query(\"EXPLAIN \"+ query, database=get_database_name(), print_as_df=True, show_metrics=False)"
   ]
  },
  {
   "cell_type": "markdown",
   "id": "62e1fcee",
   "metadata": {},
   "source": [
    "It does actually seem to affect it quite a bit. And i dont understand why.\n",
    "\n",
    "What looks weird is that the rows from the explain is twice s big eventhough the query is the same. \n",
    "I dont know if the extra column in the index will mess up the execution planners calulation."
   ]
  },
  {
   "cell_type": "markdown",
   "id": "5c338c04",
   "metadata": {},
   "source": [
    "I just want to quickly add that even though a key is indexed it matters how it is used in a search because it can be useless"
   ]
  },
  {
   "cell_type": "code",
   "execution_count": null,
   "id": "37c31636",
   "metadata": {},
   "outputs": [],
   "source": [
    "drop_non_clustered_indexes(\"products\", get_database_name(), output=False)\n",
    "\n",
    "query = \"\"\"\n",
    "CREATE INDEX idx_size_and_price_and_name ON products(size, price, name);\n",
    "\"\"\"\n",
    "\n",
    "execute_query(query, database=get_database_name(), print_as_df=False, show_metrics=False)\n",
    "\n",
    "query = \"\"\"\n",
    "SELECT * FROM products WHERE price = 50;\n",
    "\"\"\"\n",
    "\n",
    "execute_query(query, database=get_database_name(), print_as_df=False, show_metrics=True)\n",
    "execute_query(\"EXPLAIN \"+ query, database=get_database_name(), print_as_df=True, show_metrics=False)"
   ]
  },
  {
   "cell_type": "markdown",
   "id": "94253d2e",
   "metadata": {},
   "source": [
    "Here it uses a full table scan because the prices is sorted behind the size which means that if you dont do any filtering on the size the price part cannot be used on its own."
   ]
  }
 ],
 "metadata": {
  "kernelspec": {
   "display_name": "venv (3.13.7)",
   "language": "python",
   "name": "python3"
  },
  "language_info": {
   "codemirror_mode": {
    "name": "ipython",
    "version": 3
   },
   "file_extension": ".py",
   "mimetype": "text/x-python",
   "name": "python",
   "nbconvert_exporter": "python",
   "pygments_lexer": "ipython3",
   "version": "3.13.7"
  }
 },
 "nbformat": 4,
 "nbformat_minor": 5
}
