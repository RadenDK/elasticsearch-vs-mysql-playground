{
 "cells": [
  {
   "cell_type": "markdown",
   "id": "77808313",
   "metadata": {},
   "source": [
    "https://use-the-index-luke.com/sql/where-clause/partial-and-filtered-indexes"
   ]
  }
 ],
 "metadata": {
  "language_info": {
   "name": "python"
  }
 },
 "nbformat": 4,
 "nbformat_minor": 5
}
