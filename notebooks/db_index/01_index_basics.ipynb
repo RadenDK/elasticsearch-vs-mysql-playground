{
 "cells": [
  {
   "cell_type": "code",
   "execution_count": 1,
   "id": "a0512b5a",
   "metadata": {},
   "outputs": [],
   "source": [
    "from helpers.db.db_query_methods import *\n",
    "from helpers.db.db_setup_methods import *\n",
    "from helpers.db.db_helper_methods import *"
   ]
  }
 ],
 "metadata": {
  "kernelspec": {
   "display_name": "venv",
   "language": "python",
   "name": "python3"
  },
  "language_info": {
   "codemirror_mode": {
    "name": "ipython",
    "version": 3
   },
   "file_extension": ".py",
   "mimetype": "text/x-python",
   "name": "python",
   "nbconvert_exporter": "python",
   "pygments_lexer": "ipython3",
   "version": "3.13.7"
  }
 },
 "nbformat": 4,
 "nbformat_minor": 5
}
