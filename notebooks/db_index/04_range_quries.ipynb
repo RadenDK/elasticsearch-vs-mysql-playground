{
 "cells": [
  {
   "cell_type": "code",
   "execution_count": null,
   "id": "b1f70bdc",
   "metadata": {},
   "outputs": [],
   "source": [
    "from helpers.db.db_setup_methods import *\n",
    "from helpers.db.db_query_methods import *\n",
    "\n",
    "from helpers.db.db_helper_methods import *\n",
    "\n",
    "init_db(2000000)"
   ]
  },
  {
   "cell_type": "markdown",
   "id": "600b8e07",
   "metadata": {},
   "source": [
    "The purpose of this is to display and understand why the order of the where filters matter when you index spefically with a range involved.\n",
    "So in this case we will filter on the price and category id. This could be arbitary just as an example.\n",
    "\n",
    "Initialy i would have the assumtion if we didn't have any index then the fast query would be the one where we only do where category_id = 5. Because i would assume that this would be easier to find because it does not have to do any computation to check if the price is between a range"
   ]
  },
  {
   "cell_type": "code",
   "execution_count": null,
   "id": "4e09f5d9",
   "metadata": {},
   "outputs": [],
   "source": [
    "query = \"\"\"\n",
    "    SELECT name, price FROM products WHERE price BETWEEN 100 AND 200;\n",
    "\"\"\"\n",
    "\n",
    "execute_query(query, database=get_database_name(), print_as_df=False, show_metrics=True)"
   ]
  },
  {
   "cell_type": "code",
   "execution_count": null,
   "id": "588557a7",
   "metadata": {},
   "outputs": [],
   "source": [
    "query = \"\"\"\n",
    "    SELECT name, price FROM products WHERE category_id = 5;\n",
    "\"\"\"\n",
    "\n",
    "execute_query(query, database=get_database_name(), print_as_df=False, show_metrics=True)"
   ]
  },
  {
   "cell_type": "code",
   "execution_count": null,
   "id": "e639ccbb",
   "metadata": {},
   "outputs": [],
   "source": [
    "query = \"\"\"SELECT name, price FROM products WHERE price BETWEEN 100 AND 200 and category_id = 5;\"\"\"\n",
    "execute_query(query, database=get_database_name(), print_as_df=False, show_metrics=True)\n"
   ]
  },
  {
   "cell_type": "markdown",
   "id": "c3fa16a6",
   "metadata": {},
   "source": [
    "What i found out was the the latter where you include both where price between and cateogory_id = is the fastest. And this did not initially make sense to me because i thought that the between would be more costly. \n",
    "\n",
    "What i know think is the case is that the acutal search is very small and what ends up making this faster is that the amount of data to fetch/blocks to read is the actual bottle neck and there by making it faster"
   ]
  },
  {
   "cell_type": "markdown",
   "id": "99cfacbd",
   "metadata": {},
   "source": [
    "_______"
   ]
  },
  {
   "cell_type": "markdown",
   "id": "1f252229",
   "metadata": {},
   "source": [
    "Lets run an explain on all of them"
   ]
  },
  {
   "cell_type": "code",
   "execution_count": null,
   "id": "f24b7094",
   "metadata": {},
   "outputs": [],
   "source": [
    "query = \"\"\"\n",
    "    EXPLAIN SELECT name, price FROM products WHERE price BETWEEN 100 AND 200;\n",
    "\"\"\"\n",
    "\n",
    "execute_query(query, database=get_database_name(), print_as_df=True, show_metrics=False)"
   ]
  },
  {
   "cell_type": "code",
   "execution_count": null,
   "id": "a086b7ab",
   "metadata": {},
   "outputs": [],
   "source": [
    "query = \"\"\"\n",
    "    EXPLAIN SELECT name, price FROM products WHERE category_id = 5;\n",
    "\"\"\"\n",
    "\n",
    "execute_query(query, database=get_database_name(), print_as_df=True, show_metrics=True)"
   ]
  },
  {
   "cell_type": "code",
   "execution_count": null,
   "id": "4cf187fd",
   "metadata": {},
   "outputs": [],
   "source": [
    "query = \"\"\"EXPLAIN SELECT name, price FROM products WHERE price BETWEEN 100 AND 200 and category_id = 5;\"\"\"\n",
    "execute_query(query, database=get_database_name(), print_as_df=True, show_metrics=False)\n"
   ]
  },
  {
   "cell_type": "markdown",
   "id": "ddf89d17",
   "metadata": {},
   "source": [
    "From this explain i wondered why the type was ref for the other two. and that had to do with the foregin key. Because eventhough i have not created a index myself for this tabe because the table is has a primary key i think automatically MySQl will reuse this index or something like that "
   ]
  },
  {
   "cell_type": "code",
   "execution_count": null,
   "id": "ceb7e431",
   "metadata": {},
   "outputs": [],
   "source": [
    "show_table_indexes(\"products\", get_database_name())"
   ]
  },
  {
   "cell_type": "markdown",
   "id": "94a31a03",
   "metadata": {},
   "source": [
    "Would this all look different if no foregin key is involved?"
   ]
  },
  {
   "cell_type": "code",
   "execution_count": null,
   "id": "ae0c9084",
   "metadata": {},
   "outputs": [],
   "source": [
    "query = \"\"\"\n",
    "    SELECT name FROM products WHERE price BETWEEN 100 AND 200;\n",
    "\"\"\"\n",
    "\n",
    "execute_query(query, database=get_database_name(), print_as_df=False, show_metrics=True)\n",
    "\n",
    "execute_query(\"EXPLAIN \" + query, database=get_database_name(), print_as_df=True, show_metrics=False)"
   ]
  },
  {
   "cell_type": "code",
   "execution_count": null,
   "id": "4f1e80a4",
   "metadata": {},
   "outputs": [],
   "source": [
    "query = \"\"\"\n",
    "    SELECT name FROM products WHERE size = 'Large';\n",
    "\"\"\"\n",
    "\n",
    "execute_query(query, database=get_database_name(), print_as_df=False, show_metrics=True)\n",
    "\n",
    "execute_query(\"EXPLAIN \" + query, database=get_database_name(), print_as_df=True, show_metrics=False)\n"
   ]
  },
  {
   "cell_type": "code",
   "execution_count": null,
   "id": "be5beeb7",
   "metadata": {},
   "outputs": [],
   "source": [
    "query = \"\"\"\n",
    "    SELECT name, price FROM products WHERE price BETWEEN 100 AND 200 AND size = 'Large';\n",
    "\"\"\"\n",
    "\n",
    "execute_query(query, database=get_database_name(), print_as_df=False, show_metrics=True)\n",
    "\n",
    "execute_query(\"EXPLAIN \" + query, database=get_database_name(), print_as_df=True, show_metrics=False)\n"
   ]
  },
  {
   "cell_type": "markdown",
   "id": "3bc4079a",
   "metadata": {},
   "source": [
    "This time they are all full scan and my initial assumption seems to acutally hold true."
   ]
  },
  {
   "cell_type": "markdown",
   "id": "f8ca9b12",
   "metadata": {},
   "source": [
    "Lets when moving forward stick to using the Size instead of category id"
   ]
  },
  {
   "cell_type": "markdown",
   "id": "09853bd8",
   "metadata": {},
   "source": [
    "This time lets create a index for both of the columns and run the same test"
   ]
  },
  {
   "cell_type": "code",
   "execution_count": null,
   "id": "c7a131a4",
   "metadata": {},
   "outputs": [],
   "source": [
    "query = \"CREATE INDEX idx_price ON products (price)\"\n",
    "\n",
    "execute_query(query, database=get_database_name(), print_as_df=False, show_metrics=True)\n",
    "\n",
    "query = \"CREATE INDEX idx_size ON products (size)\"\n",
    "execute_query(query, database=get_database_name(), print_as_df=False, show_metrics=True)"
   ]
  },
  {
   "cell_type": "code",
   "execution_count": null,
   "id": "b7153e83",
   "metadata": {},
   "outputs": [],
   "source": [
    "execute_query(\"SELECT name, price, size FROM products where price BETWEEN 100 AND 200\", database=get_database_name(), print_as_df=False, show_metrics=True)\n",
    "execute_query(\"EXPLAIN SELECT name, price, size FROM products where price BETWEEN 100 AND 200\", database=get_database_name(), print_as_df=True, show_metrics=False)\n",
    "\n",
    "\n",
    "execute_query(\"SELECT name, price, size FROM products where size = 'Large'\", database=get_database_name(), print_as_df=False, show_metrics=True)\n",
    "execute_query(\"EXPLAIN SELECT name, price, size FROM products where size = 'Large'\", database=get_database_name(), print_as_df=True, show_metrics=False)\n",
    "\n",
    "\n",
    "execute_query(\"SELECT name, price, size FROM products where price BETWEEN 100 AND 200 and size = 'Large'\", database=get_database_name(), print_as_df=False, show_metrics=True)\n",
    "execute_query(\"EXPLAIN SELECT name, price, size FROM products where price BETWEEN 100 AND 200 and size = 'Large'\", database=get_database_name(), print_as_df=True, show_metrics=False)\n",
    "\n",
    "\n",
    "execute_query(\"SELECT name, price, size FROM products where size = 'Large' and price BETWEEN 100 AND 200\", database=get_database_name(), print_as_df=False, show_metrics=True)\n",
    "execute_query(\"EXPLAIN SELECT name, price, size FROM products where size = 'Large' and price BETWEEN 100 AND 200\", database=get_database_name(), print_as_df=True, show_metrics=False)"
   ]
  },
  {
   "cell_type": "markdown",
   "id": "69ead126",
   "metadata": {},
   "source": [
    "I read this article: https://use-the-index-luke.com/sql/where-clause/searching-for-ranges/greater-less-between-tuning-sql-access-filter-predicates\n",
    "\n",
    "and from this i expected there to be a difference between the last two quries but there isn't because it seems that mysql pick the right key so that is a bit curious i think. so just to really test if there is a difference lets try to drop the index on the size"
   ]
  },
  {
   "cell_type": "code",
   "execution_count": null,
   "id": "4ae33376",
   "metadata": {},
   "outputs": [],
   "source": [
    "execute_query(\"DROP index idx_size ON products\", database=get_database_name(), print_as_df=False, show_metrics=True)"
   ]
  },
  {
   "cell_type": "code",
   "execution_count": null,
   "id": "bdbd0d19",
   "metadata": {},
   "outputs": [],
   "source": [
    "clear_mysql_cache()\n",
    "\n",
    "query = \"SELECT name, price, size FROM products where price BETWEEN 100 AND 110\"\n",
    "\n",
    "execute_query(query, database=get_database_name(), print_as_df=False, show_metrics=True)\n",
    "execute_query(\"EXPLAIN \" + query, database=get_database_name(), print_as_df=True, show_metrics=False)"
   ]
  },
  {
   "cell_type": "code",
   "execution_count": null,
   "id": "9da557c2",
   "metadata": {},
   "outputs": [],
   "source": [
    "clear_mysql_cache()\n",
    "\n",
    "query = \"SELECT name, price, size FROM products where price BETWEEN 100 AND 200\"\n",
    "\n",
    "execute_query(query, database=get_database_name(), print_as_df=False, show_metrics=True)\n",
    "execute_query(\"EXPLAIN \" + query, database=get_database_name(), print_as_df=True, show_metrics=False)"
   ]
  },
  {
   "cell_type": "markdown",
   "id": "ccebf186",
   "metadata": {},
   "source": [
    "This is something fun and Quirky it seems that the MySql execution optimizer will weight that because it guesses that a high amount of the rows will match the query then it will use a full table scan. But if it things that not that many rows will match the filter then it will use the key. "
   ]
  }
 ],
 "metadata": {
  "kernelspec": {
   "display_name": "venv (3.13.7)",
   "language": "python",
   "name": "python3"
  },
  "language_info": {
   "codemirror_mode": {
    "name": "ipython",
    "version": 3
   },
   "file_extension": ".py",
   "mimetype": "text/x-python",
   "name": "python",
   "nbconvert_exporter": "python",
   "pygments_lexer": "ipython3",
   "version": "3.13.7"
  }
 },
 "nbformat": 4,
 "nbformat_minor": 5
}
