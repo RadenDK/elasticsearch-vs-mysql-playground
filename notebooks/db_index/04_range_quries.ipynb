{
 "cells": [
  {
   "cell_type": "code",
   "execution_count": 1,
   "id": "b1f70bdc",
   "metadata": {},
   "outputs": [
    {
     "name": "stdout",
     "output_type": "stream",
     "text": [
      "Created empty database\n",
      "Created empty tables\n",
      "Starting to insert data\n",
      "\n",
      "Starting insert into 'products' (2000000 rows)...\n",
      "Finished inserting 2000000 rows into 'products' in 35.39s.\n"
     ]
    }
   ],
   "source": [
    "from helpers.db.db_setup_methods import *\n",
    "from helpers.db.db_query_methods import *\n",
    "\n",
    "from helpers.db.db_helper_methods import *\n",
    "\n",
    "init_db(2000000)"
   ]
  },
  {
   "cell_type": "markdown",
   "id": "600b8e07",
   "metadata": {},
   "source": [
    "The purpose of this is to display and understand why the order of the where filters matter when you index spefically with a range involved.\n",
    "So in this case we will filter on the price and category id. This could be arbitary just as an example.\n",
    "\n",
    "Initialy i would have the assumtion if we didn't have any index then the fast query would be the one where we only do where category_id = 5. Because i would assume that this would be easier to find because it does not have to do any computation to check if the price is between a range"
   ]
  },
  {
   "cell_type": "code",
   "execution_count": 2,
   "id": "4e09f5d9",
   "metadata": {},
   "outputs": [
    {
     "name": "stdout",
     "output_type": "stream",
     "text": [
      "[QUERY METRICS] 201548 rows fetched, 355.49 ms\n"
     ]
    }
   ],
   "source": [
    "query = \"\"\"\n",
    "    SELECT name, price FROM products WHERE price BETWEEN 100 AND 200;\n",
    "\"\"\"\n",
    "\n",
    "execute_query(query, database=get_database_name(), print_as_df=False, show_metrics=True)"
   ]
  },
  {
   "cell_type": "code",
   "execution_count": 3,
   "id": "588557a7",
   "metadata": {},
   "outputs": [
    {
     "name": "stdout",
     "output_type": "stream",
     "text": [
      "[QUERY METRICS] 58961 rows fetched, 242.54 ms\n"
     ]
    }
   ],
   "source": [
    "query = \"\"\"\n",
    "    SELECT name, price FROM products WHERE category_id = 5;\n",
    "\"\"\"\n",
    "\n",
    "execute_query(query, database=get_database_name(), print_as_df=False, show_metrics=True)"
   ]
  },
  {
   "cell_type": "code",
   "execution_count": 4,
   "id": "e639ccbb",
   "metadata": {},
   "outputs": [
    {
     "name": "stdout",
     "output_type": "stream",
     "text": [
      "[QUERY METRICS] 6015 rows fetched, 238.13 ms\n"
     ]
    }
   ],
   "source": [
    "query = \"\"\"SELECT name, price FROM products WHERE price BETWEEN 100 AND 200 and category_id = 5;\"\"\"\n",
    "execute_query(query, database=get_database_name(), print_as_df=False, show_metrics=True)\n"
   ]
  },
  {
   "cell_type": "markdown",
   "id": "c3fa16a6",
   "metadata": {},
   "source": [
    "What i found out was the the latter where you include both where price between and cateogory_id = is the fastest. And this did not initially make sense to me because i thought that the between would be more costly. \n",
    "\n",
    "What i know think is the case is that the acutal search is very small and what ends up making this faster is that the amount of data to fetch/blocks to read is the actual bottle neck and there by making it faster"
   ]
  },
  {
   "cell_type": "markdown",
   "id": "99cfacbd",
   "metadata": {},
   "source": [
    "_______"
   ]
  },
  {
   "cell_type": "markdown",
   "id": "1f252229",
   "metadata": {},
   "source": [
    "Lets run an explain on all of them"
   ]
  },
  {
   "cell_type": "code",
   "execution_count": 5,
   "id": "f24b7094",
   "metadata": {},
   "outputs": [
    {
     "data": {
      "text/html": [
       "<div>\n",
       "<style scoped>\n",
       "    .dataframe tbody tr th:only-of-type {\n",
       "        vertical-align: middle;\n",
       "    }\n",
       "\n",
       "    .dataframe tbody tr th {\n",
       "        vertical-align: top;\n",
       "    }\n",
       "\n",
       "    .dataframe thead th {\n",
       "        text-align: right;\n",
       "    }\n",
       "</style>\n",
       "<table border=\"1\" class=\"dataframe\">\n",
       "  <thead>\n",
       "    <tr style=\"text-align: right;\">\n",
       "      <th></th>\n",
       "      <th>id</th>\n",
       "      <th>select_type</th>\n",
       "      <th>table</th>\n",
       "      <th>partitions</th>\n",
       "      <th>type</th>\n",
       "      <th>possible_keys</th>\n",
       "      <th>key</th>\n",
       "      <th>key_len</th>\n",
       "      <th>ref</th>\n",
       "      <th>rows</th>\n",
       "      <th>filtered</th>\n",
       "      <th>Extra</th>\n",
       "    </tr>\n",
       "  </thead>\n",
       "  <tbody>\n",
       "    <tr>\n",
       "      <th>0</th>\n",
       "      <td>1</td>\n",
       "      <td>SIMPLE</td>\n",
       "      <td>products</td>\n",
       "      <td>None</td>\n",
       "      <td>ALL</td>\n",
       "      <td>None</td>\n",
       "      <td>None</td>\n",
       "      <td>None</td>\n",
       "      <td>None</td>\n",
       "      <td>1982158</td>\n",
       "      <td>11.11</td>\n",
       "      <td>Using where</td>\n",
       "    </tr>\n",
       "  </tbody>\n",
       "</table>\n",
       "</div>"
      ],
      "text/plain": [
       "   id select_type     table partitions type possible_keys   key key_len   ref  \\\n",
       "0   1      SIMPLE  products       None  ALL          None  None    None  None   \n",
       "\n",
       "      rows  filtered        Extra  \n",
       "0  1982158     11.11  Using where  "
      ]
     },
     "metadata": {},
     "output_type": "display_data"
    }
   ],
   "source": [
    "query = \"\"\"\n",
    "    EXPLAIN SELECT name, price FROM products WHERE price BETWEEN 100 AND 200;\n",
    "\"\"\"\n",
    "\n",
    "execute_query(query, database=get_database_name(), print_as_df=True, show_metrics=False)"
   ]
  },
  {
   "cell_type": "code",
   "execution_count": 6,
   "id": "a086b7ab",
   "metadata": {},
   "outputs": [
    {
     "data": {
      "text/html": [
       "<div>\n",
       "<style scoped>\n",
       "    .dataframe tbody tr th:only-of-type {\n",
       "        vertical-align: middle;\n",
       "    }\n",
       "\n",
       "    .dataframe tbody tr th {\n",
       "        vertical-align: top;\n",
       "    }\n",
       "\n",
       "    .dataframe thead th {\n",
       "        text-align: right;\n",
       "    }\n",
       "</style>\n",
       "<table border=\"1\" class=\"dataframe\">\n",
       "  <thead>\n",
       "    <tr style=\"text-align: right;\">\n",
       "      <th></th>\n",
       "      <th>id</th>\n",
       "      <th>select_type</th>\n",
       "      <th>table</th>\n",
       "      <th>partitions</th>\n",
       "      <th>type</th>\n",
       "      <th>possible_keys</th>\n",
       "      <th>key</th>\n",
       "      <th>key_len</th>\n",
       "      <th>ref</th>\n",
       "      <th>rows</th>\n",
       "      <th>filtered</th>\n",
       "      <th>Extra</th>\n",
       "    </tr>\n",
       "  </thead>\n",
       "  <tbody>\n",
       "    <tr>\n",
       "      <th>0</th>\n",
       "      <td>1</td>\n",
       "      <td>SIMPLE</td>\n",
       "      <td>products</td>\n",
       "      <td>None</td>\n",
       "      <td>ref</td>\n",
       "      <td>category_id</td>\n",
       "      <td>category_id</td>\n",
       "      <td>5</td>\n",
       "      <td>const</td>\n",
       "      <td>103074</td>\n",
       "      <td>100.0</td>\n",
       "      <td>None</td>\n",
       "    </tr>\n",
       "  </tbody>\n",
       "</table>\n",
       "</div>"
      ],
      "text/plain": [
       "   id select_type     table partitions type possible_keys          key  \\\n",
       "0   1      SIMPLE  products       None  ref   category_id  category_id   \n",
       "\n",
       "  key_len    ref    rows  filtered Extra  \n",
       "0       5  const  103074     100.0  None  "
      ]
     },
     "metadata": {},
     "output_type": "display_data"
    },
    {
     "name": "stdout",
     "output_type": "stream",
     "text": [
      "[QUERY METRICS] 1 rows fetched, 0.87 ms\n"
     ]
    }
   ],
   "source": [
    "query = \"\"\"\n",
    "    EXPLAIN SELECT name, price FROM products WHERE category_id = 5;\n",
    "\"\"\"\n",
    "\n",
    "execute_query(query, database=get_database_name(), print_as_df=True, show_metrics=True)"
   ]
  },
  {
   "cell_type": "code",
   "execution_count": 7,
   "id": "4cf187fd",
   "metadata": {},
   "outputs": [
    {
     "data": {
      "text/html": [
       "<div>\n",
       "<style scoped>\n",
       "    .dataframe tbody tr th:only-of-type {\n",
       "        vertical-align: middle;\n",
       "    }\n",
       "\n",
       "    .dataframe tbody tr th {\n",
       "        vertical-align: top;\n",
       "    }\n",
       "\n",
       "    .dataframe thead th {\n",
       "        text-align: right;\n",
       "    }\n",
       "</style>\n",
       "<table border=\"1\" class=\"dataframe\">\n",
       "  <thead>\n",
       "    <tr style=\"text-align: right;\">\n",
       "      <th></th>\n",
       "      <th>id</th>\n",
       "      <th>select_type</th>\n",
       "      <th>table</th>\n",
       "      <th>partitions</th>\n",
       "      <th>type</th>\n",
       "      <th>possible_keys</th>\n",
       "      <th>key</th>\n",
       "      <th>key_len</th>\n",
       "      <th>ref</th>\n",
       "      <th>rows</th>\n",
       "      <th>filtered</th>\n",
       "      <th>Extra</th>\n",
       "    </tr>\n",
       "  </thead>\n",
       "  <tbody>\n",
       "    <tr>\n",
       "      <th>0</th>\n",
       "      <td>1</td>\n",
       "      <td>SIMPLE</td>\n",
       "      <td>products</td>\n",
       "      <td>None</td>\n",
       "      <td>ref</td>\n",
       "      <td>category_id</td>\n",
       "      <td>category_id</td>\n",
       "      <td>5</td>\n",
       "      <td>const</td>\n",
       "      <td>103074</td>\n",
       "      <td>11.11</td>\n",
       "      <td>Using where</td>\n",
       "    </tr>\n",
       "  </tbody>\n",
       "</table>\n",
       "</div>"
      ],
      "text/plain": [
       "   id select_type     table partitions type possible_keys          key  \\\n",
       "0   1      SIMPLE  products       None  ref   category_id  category_id   \n",
       "\n",
       "  key_len    ref    rows  filtered        Extra  \n",
       "0       5  const  103074     11.11  Using where  "
      ]
     },
     "metadata": {},
     "output_type": "display_data"
    }
   ],
   "source": [
    "query = \"\"\"EXPLAIN SELECT name, price FROM products WHERE price BETWEEN 100 AND 200 and category_id = 5;\"\"\"\n",
    "execute_query(query, database=get_database_name(), print_as_df=True, show_metrics=False)\n"
   ]
  },
  {
   "cell_type": "markdown",
   "id": "ddf89d17",
   "metadata": {},
   "source": [
    "From this explain i wondered why the type was ref for the other two. and that had to do with the foregin key. Because eventhough i have not created a index myself for this tabe because the table is has a primary key i think automatically MySQl will reuse this index or something like that "
   ]
  },
  {
   "cell_type": "code",
   "execution_count": 8,
   "id": "ceb7e431",
   "metadata": {},
   "outputs": [
    {
     "data": {
      "text/html": [
       "<div>\n",
       "<style scoped>\n",
       "    .dataframe tbody tr th:only-of-type {\n",
       "        vertical-align: middle;\n",
       "    }\n",
       "\n",
       "    .dataframe tbody tr th {\n",
       "        vertical-align: top;\n",
       "    }\n",
       "\n",
       "    .dataframe thead th {\n",
       "        text-align: right;\n",
       "    }\n",
       "</style>\n",
       "<table border=\"1\" class=\"dataframe\">\n",
       "  <thead>\n",
       "    <tr style=\"text-align: right;\">\n",
       "      <th></th>\n",
       "      <th>Index Name</th>\n",
       "      <th>Columns</th>\n",
       "      <th>Type</th>\n",
       "      <th>Non Unique</th>\n",
       "    </tr>\n",
       "  </thead>\n",
       "  <tbody>\n",
       "    <tr>\n",
       "      <th>0</th>\n",
       "      <td>availability_id</td>\n",
       "      <td>availability_id</td>\n",
       "      <td>BTREE</td>\n",
       "      <td>True</td>\n",
       "    </tr>\n",
       "    <tr>\n",
       "      <th>1</th>\n",
       "      <td>brand_id</td>\n",
       "      <td>brand_id</td>\n",
       "      <td>BTREE</td>\n",
       "      <td>True</td>\n",
       "    </tr>\n",
       "    <tr>\n",
       "      <th>2</th>\n",
       "      <td>category_id</td>\n",
       "      <td>category_id</td>\n",
       "      <td>BTREE</td>\n",
       "      <td>True</td>\n",
       "    </tr>\n",
       "    <tr>\n",
       "      <th>3</th>\n",
       "      <td>color_id</td>\n",
       "      <td>color_id</td>\n",
       "      <td>BTREE</td>\n",
       "      <td>True</td>\n",
       "    </tr>\n",
       "    <tr>\n",
       "      <th>4</th>\n",
       "      <td>PRIMARY</td>\n",
       "      <td>id</td>\n",
       "      <td>BTREE</td>\n",
       "      <td>False</td>\n",
       "    </tr>\n",
       "  </tbody>\n",
       "</table>\n",
       "</div>"
      ],
      "text/plain": [
       "        Index Name          Columns   Type  Non Unique\n",
       "0  availability_id  availability_id  BTREE        True\n",
       "1         brand_id         brand_id  BTREE        True\n",
       "2      category_id      category_id  BTREE        True\n",
       "3         color_id         color_id  BTREE        True\n",
       "4          PRIMARY               id  BTREE       False"
      ]
     },
     "execution_count": 8,
     "metadata": {},
     "output_type": "execute_result"
    }
   ],
   "source": [
    "show_table_indexes(\"products\", get_database_name())"
   ]
  },
  {
   "cell_type": "markdown",
   "id": "94a31a03",
   "metadata": {},
   "source": [
    "Would this all look different if no foregin key is involved?"
   ]
  },
  {
   "cell_type": "code",
   "execution_count": 9,
   "id": "ae0c9084",
   "metadata": {},
   "outputs": [
    {
     "name": "stdout",
     "output_type": "stream",
     "text": [
      "[QUERY METRICS] 201548 rows fetched, 354.61 ms\n"
     ]
    },
    {
     "data": {
      "text/html": [
       "<div>\n",
       "<style scoped>\n",
       "    .dataframe tbody tr th:only-of-type {\n",
       "        vertical-align: middle;\n",
       "    }\n",
       "\n",
       "    .dataframe tbody tr th {\n",
       "        vertical-align: top;\n",
       "    }\n",
       "\n",
       "    .dataframe thead th {\n",
       "        text-align: right;\n",
       "    }\n",
       "</style>\n",
       "<table border=\"1\" class=\"dataframe\">\n",
       "  <thead>\n",
       "    <tr style=\"text-align: right;\">\n",
       "      <th></th>\n",
       "      <th>id</th>\n",
       "      <th>select_type</th>\n",
       "      <th>table</th>\n",
       "      <th>partitions</th>\n",
       "      <th>type</th>\n",
       "      <th>possible_keys</th>\n",
       "      <th>key</th>\n",
       "      <th>key_len</th>\n",
       "      <th>ref</th>\n",
       "      <th>rows</th>\n",
       "      <th>filtered</th>\n",
       "      <th>Extra</th>\n",
       "    </tr>\n",
       "  </thead>\n",
       "  <tbody>\n",
       "    <tr>\n",
       "      <th>0</th>\n",
       "      <td>1</td>\n",
       "      <td>SIMPLE</td>\n",
       "      <td>products</td>\n",
       "      <td>None</td>\n",
       "      <td>ALL</td>\n",
       "      <td>None</td>\n",
       "      <td>None</td>\n",
       "      <td>None</td>\n",
       "      <td>None</td>\n",
       "      <td>1982158</td>\n",
       "      <td>11.11</td>\n",
       "      <td>Using where</td>\n",
       "    </tr>\n",
       "  </tbody>\n",
       "</table>\n",
       "</div>"
      ],
      "text/plain": [
       "   id select_type     table partitions type possible_keys   key key_len   ref  \\\n",
       "0   1      SIMPLE  products       None  ALL          None  None    None  None   \n",
       "\n",
       "      rows  filtered        Extra  \n",
       "0  1982158     11.11  Using where  "
      ]
     },
     "metadata": {},
     "output_type": "display_data"
    }
   ],
   "source": [
    "query = \"\"\"\n",
    "    SELECT name FROM products WHERE price BETWEEN 100 AND 200;\n",
    "\"\"\"\n",
    "\n",
    "execute_query(query, database=get_database_name(), print_as_df=False, show_metrics=True)\n",
    "\n",
    "execute_query(\"EXPLAIN \" + query, database=get_database_name(), print_as_df=True, show_metrics=False)"
   ]
  },
  {
   "cell_type": "code",
   "execution_count": 10,
   "id": "4f1e80a4",
   "metadata": {},
   "outputs": [
    {
     "name": "stdout",
     "output_type": "stream",
     "text": [
      "[QUERY METRICS] 111336 rows fetched, 368.20 ms\n"
     ]
    },
    {
     "data": {
      "text/html": [
       "<div>\n",
       "<style scoped>\n",
       "    .dataframe tbody tr th:only-of-type {\n",
       "        vertical-align: middle;\n",
       "    }\n",
       "\n",
       "    .dataframe tbody tr th {\n",
       "        vertical-align: top;\n",
       "    }\n",
       "\n",
       "    .dataframe thead th {\n",
       "        text-align: right;\n",
       "    }\n",
       "</style>\n",
       "<table border=\"1\" class=\"dataframe\">\n",
       "  <thead>\n",
       "    <tr style=\"text-align: right;\">\n",
       "      <th></th>\n",
       "      <th>id</th>\n",
       "      <th>select_type</th>\n",
       "      <th>table</th>\n",
       "      <th>partitions</th>\n",
       "      <th>type</th>\n",
       "      <th>possible_keys</th>\n",
       "      <th>key</th>\n",
       "      <th>key_len</th>\n",
       "      <th>ref</th>\n",
       "      <th>rows</th>\n",
       "      <th>filtered</th>\n",
       "      <th>Extra</th>\n",
       "    </tr>\n",
       "  </thead>\n",
       "  <tbody>\n",
       "    <tr>\n",
       "      <th>0</th>\n",
       "      <td>1</td>\n",
       "      <td>SIMPLE</td>\n",
       "      <td>products</td>\n",
       "      <td>None</td>\n",
       "      <td>ALL</td>\n",
       "      <td>None</td>\n",
       "      <td>None</td>\n",
       "      <td>None</td>\n",
       "      <td>None</td>\n",
       "      <td>1982158</td>\n",
       "      <td>10.0</td>\n",
       "      <td>Using where</td>\n",
       "    </tr>\n",
       "  </tbody>\n",
       "</table>\n",
       "</div>"
      ],
      "text/plain": [
       "   id select_type     table partitions type possible_keys   key key_len   ref  \\\n",
       "0   1      SIMPLE  products       None  ALL          None  None    None  None   \n",
       "\n",
       "      rows  filtered        Extra  \n",
       "0  1982158      10.0  Using where  "
      ]
     },
     "metadata": {},
     "output_type": "display_data"
    }
   ],
   "source": [
    "query = \"\"\"\n",
    "    SELECT name FROM products WHERE size = 'Large';\n",
    "\"\"\"\n",
    "\n",
    "execute_query(query, database=get_database_name(), print_as_df=False, show_metrics=True)\n",
    "\n",
    "execute_query(\"EXPLAIN \" + query, database=get_database_name(), print_as_df=True, show_metrics=False)\n"
   ]
  },
  {
   "cell_type": "code",
   "execution_count": 11,
   "id": "be5beeb7",
   "metadata": {},
   "outputs": [
    {
     "name": "stdout",
     "output_type": "stream",
     "text": [
      "[QUERY METRICS] 11222 rows fetched, 386.37 ms\n"
     ]
    },
    {
     "data": {
      "text/html": [
       "<div>\n",
       "<style scoped>\n",
       "    .dataframe tbody tr th:only-of-type {\n",
       "        vertical-align: middle;\n",
       "    }\n",
       "\n",
       "    .dataframe tbody tr th {\n",
       "        vertical-align: top;\n",
       "    }\n",
       "\n",
       "    .dataframe thead th {\n",
       "        text-align: right;\n",
       "    }\n",
       "</style>\n",
       "<table border=\"1\" class=\"dataframe\">\n",
       "  <thead>\n",
       "    <tr style=\"text-align: right;\">\n",
       "      <th></th>\n",
       "      <th>id</th>\n",
       "      <th>select_type</th>\n",
       "      <th>table</th>\n",
       "      <th>partitions</th>\n",
       "      <th>type</th>\n",
       "      <th>possible_keys</th>\n",
       "      <th>key</th>\n",
       "      <th>key_len</th>\n",
       "      <th>ref</th>\n",
       "      <th>rows</th>\n",
       "      <th>filtered</th>\n",
       "      <th>Extra</th>\n",
       "    </tr>\n",
       "  </thead>\n",
       "  <tbody>\n",
       "    <tr>\n",
       "      <th>0</th>\n",
       "      <td>1</td>\n",
       "      <td>SIMPLE</td>\n",
       "      <td>products</td>\n",
       "      <td>None</td>\n",
       "      <td>ALL</td>\n",
       "      <td>None</td>\n",
       "      <td>None</td>\n",
       "      <td>None</td>\n",
       "      <td>None</td>\n",
       "      <td>1982158</td>\n",
       "      <td>1.11</td>\n",
       "      <td>Using where</td>\n",
       "    </tr>\n",
       "  </tbody>\n",
       "</table>\n",
       "</div>"
      ],
      "text/plain": [
       "   id select_type     table partitions type possible_keys   key key_len   ref  \\\n",
       "0   1      SIMPLE  products       None  ALL          None  None    None  None   \n",
       "\n",
       "      rows  filtered        Extra  \n",
       "0  1982158      1.11  Using where  "
      ]
     },
     "metadata": {},
     "output_type": "display_data"
    }
   ],
   "source": [
    "query = \"\"\"\n",
    "    SELECT name, price FROM products WHERE price BETWEEN 100 AND 200 AND size = 'Large';\n",
    "\"\"\"\n",
    "\n",
    "execute_query(query, database=get_database_name(), print_as_df=False, show_metrics=True)\n",
    "\n",
    "execute_query(\"EXPLAIN \" + query, database=get_database_name(), print_as_df=True, show_metrics=False)\n"
   ]
  },
  {
   "cell_type": "markdown",
   "id": "3bc4079a",
   "metadata": {},
   "source": [
    "This time they are all full scan and my initial assumption seems to acutally hold true."
   ]
  },
  {
   "cell_type": "markdown",
   "id": "f8ca9b12",
   "metadata": {},
   "source": [
    "Lets when moving forward stick to using the Size instead of category id"
   ]
  },
  {
   "cell_type": "markdown",
   "id": "09853bd8",
   "metadata": {},
   "source": [
    "This time lets create a index for both of the columns and run the same test"
   ]
  },
  {
   "cell_type": "code",
   "execution_count": 12,
   "id": "c7a131a4",
   "metadata": {},
   "outputs": [
    {
     "name": "stdout",
     "output_type": "stream",
     "text": [
      "[QUERY METRICS] 0 rows affected, 895.29 ms\n",
      "[QUERY METRICS] 0 rows affected, 1435.69 ms\n"
     ]
    }
   ],
   "source": [
    "query = \"CREATE INDEX idx_price ON products (price)\"\n",
    "\n",
    "execute_query(query, database=get_database_name(), print_as_df=False, show_metrics=True)\n",
    "\n",
    "query = \"CREATE INDEX idx_size ON products (size)\"\n",
    "execute_query(query, database=get_database_name(), print_as_df=False, show_metrics=True)"
   ]
  },
  {
   "cell_type": "code",
   "execution_count": 13,
   "id": "b7153e83",
   "metadata": {},
   "outputs": [
    {
     "name": "stdout",
     "output_type": "stream",
     "text": [
      "[QUERY METRICS] 201548 rows fetched, 432.33 ms\n"
     ]
    },
    {
     "data": {
      "text/html": [
       "<div>\n",
       "<style scoped>\n",
       "    .dataframe tbody tr th:only-of-type {\n",
       "        vertical-align: middle;\n",
       "    }\n",
       "\n",
       "    .dataframe tbody tr th {\n",
       "        vertical-align: top;\n",
       "    }\n",
       "\n",
       "    .dataframe thead th {\n",
       "        text-align: right;\n",
       "    }\n",
       "</style>\n",
       "<table border=\"1\" class=\"dataframe\">\n",
       "  <thead>\n",
       "    <tr style=\"text-align: right;\">\n",
       "      <th></th>\n",
       "      <th>id</th>\n",
       "      <th>select_type</th>\n",
       "      <th>table</th>\n",
       "      <th>partitions</th>\n",
       "      <th>type</th>\n",
       "      <th>possible_keys</th>\n",
       "      <th>key</th>\n",
       "      <th>key_len</th>\n",
       "      <th>ref</th>\n",
       "      <th>rows</th>\n",
       "      <th>filtered</th>\n",
       "      <th>Extra</th>\n",
       "    </tr>\n",
       "  </thead>\n",
       "  <tbody>\n",
       "    <tr>\n",
       "      <th>0</th>\n",
       "      <td>1</td>\n",
       "      <td>SIMPLE</td>\n",
       "      <td>products</td>\n",
       "      <td>None</td>\n",
       "      <td>ALL</td>\n",
       "      <td>idx_price</td>\n",
       "      <td>None</td>\n",
       "      <td>None</td>\n",
       "      <td>None</td>\n",
       "      <td>1982158</td>\n",
       "      <td>20.13</td>\n",
       "      <td>Using where</td>\n",
       "    </tr>\n",
       "  </tbody>\n",
       "</table>\n",
       "</div>"
      ],
      "text/plain": [
       "   id select_type     table partitions type possible_keys   key key_len   ref  \\\n",
       "0   1      SIMPLE  products       None  ALL     idx_price  None    None  None   \n",
       "\n",
       "      rows  filtered        Extra  \n",
       "0  1982158     20.13  Using where  "
      ]
     },
     "metadata": {},
     "output_type": "display_data"
    },
    {
     "name": "stdout",
     "output_type": "stream",
     "text": [
      "[QUERY METRICS] 111336 rows fetched, 279.25 ms\n"
     ]
    },
    {
     "data": {
      "text/html": [
       "<div>\n",
       "<style scoped>\n",
       "    .dataframe tbody tr th:only-of-type {\n",
       "        vertical-align: middle;\n",
       "    }\n",
       "\n",
       "    .dataframe tbody tr th {\n",
       "        vertical-align: top;\n",
       "    }\n",
       "\n",
       "    .dataframe thead th {\n",
       "        text-align: right;\n",
       "    }\n",
       "</style>\n",
       "<table border=\"1\" class=\"dataframe\">\n",
       "  <thead>\n",
       "    <tr style=\"text-align: right;\">\n",
       "      <th></th>\n",
       "      <th>id</th>\n",
       "      <th>select_type</th>\n",
       "      <th>table</th>\n",
       "      <th>partitions</th>\n",
       "      <th>type</th>\n",
       "      <th>possible_keys</th>\n",
       "      <th>key</th>\n",
       "      <th>key_len</th>\n",
       "      <th>ref</th>\n",
       "      <th>rows</th>\n",
       "      <th>filtered</th>\n",
       "      <th>Extra</th>\n",
       "    </tr>\n",
       "  </thead>\n",
       "  <tbody>\n",
       "    <tr>\n",
       "      <th>0</th>\n",
       "      <td>1</td>\n",
       "      <td>SIMPLE</td>\n",
       "      <td>products</td>\n",
       "      <td>None</td>\n",
       "      <td>ref</td>\n",
       "      <td>idx_size</td>\n",
       "      <td>idx_size</td>\n",
       "      <td>403</td>\n",
       "      <td>const</td>\n",
       "      <td>223618</td>\n",
       "      <td>100.0</td>\n",
       "      <td>None</td>\n",
       "    </tr>\n",
       "  </tbody>\n",
       "</table>\n",
       "</div>"
      ],
      "text/plain": [
       "   id select_type     table partitions type possible_keys       key key_len  \\\n",
       "0   1      SIMPLE  products       None  ref      idx_size  idx_size     403   \n",
       "\n",
       "     ref    rows  filtered Extra  \n",
       "0  const  223618     100.0  None  "
      ]
     },
     "metadata": {},
     "output_type": "display_data"
    },
    {
     "name": "stdout",
     "output_type": "stream",
     "text": [
      "[QUERY METRICS] 11222 rows fetched, 249.94 ms\n"
     ]
    },
    {
     "data": {
      "text/html": [
       "<div>\n",
       "<style scoped>\n",
       "    .dataframe tbody tr th:only-of-type {\n",
       "        vertical-align: middle;\n",
       "    }\n",
       "\n",
       "    .dataframe tbody tr th {\n",
       "        vertical-align: top;\n",
       "    }\n",
       "\n",
       "    .dataframe thead th {\n",
       "        text-align: right;\n",
       "    }\n",
       "</style>\n",
       "<table border=\"1\" class=\"dataframe\">\n",
       "  <thead>\n",
       "    <tr style=\"text-align: right;\">\n",
       "      <th></th>\n",
       "      <th>id</th>\n",
       "      <th>select_type</th>\n",
       "      <th>table</th>\n",
       "      <th>partitions</th>\n",
       "      <th>type</th>\n",
       "      <th>possible_keys</th>\n",
       "      <th>key</th>\n",
       "      <th>key_len</th>\n",
       "      <th>ref</th>\n",
       "      <th>rows</th>\n",
       "      <th>filtered</th>\n",
       "      <th>Extra</th>\n",
       "    </tr>\n",
       "  </thead>\n",
       "  <tbody>\n",
       "    <tr>\n",
       "      <th>0</th>\n",
       "      <td>1</td>\n",
       "      <td>SIMPLE</td>\n",
       "      <td>products</td>\n",
       "      <td>None</td>\n",
       "      <td>ref</td>\n",
       "      <td>idx_price,idx_size</td>\n",
       "      <td>idx_size</td>\n",
       "      <td>403</td>\n",
       "      <td>const</td>\n",
       "      <td>223618</td>\n",
       "      <td>20.13</td>\n",
       "      <td>Using where</td>\n",
       "    </tr>\n",
       "  </tbody>\n",
       "</table>\n",
       "</div>"
      ],
      "text/plain": [
       "   id select_type     table partitions type       possible_keys       key  \\\n",
       "0   1      SIMPLE  products       None  ref  idx_price,idx_size  idx_size   \n",
       "\n",
       "  key_len    ref    rows  filtered        Extra  \n",
       "0     403  const  223618     20.13  Using where  "
      ]
     },
     "metadata": {},
     "output_type": "display_data"
    },
    {
     "name": "stdout",
     "output_type": "stream",
     "text": [
      "[QUERY METRICS] 11222 rows fetched, 247.67 ms\n"
     ]
    },
    {
     "data": {
      "text/html": [
       "<div>\n",
       "<style scoped>\n",
       "    .dataframe tbody tr th:only-of-type {\n",
       "        vertical-align: middle;\n",
       "    }\n",
       "\n",
       "    .dataframe tbody tr th {\n",
       "        vertical-align: top;\n",
       "    }\n",
       "\n",
       "    .dataframe thead th {\n",
       "        text-align: right;\n",
       "    }\n",
       "</style>\n",
       "<table border=\"1\" class=\"dataframe\">\n",
       "  <thead>\n",
       "    <tr style=\"text-align: right;\">\n",
       "      <th></th>\n",
       "      <th>id</th>\n",
       "      <th>select_type</th>\n",
       "      <th>table</th>\n",
       "      <th>partitions</th>\n",
       "      <th>type</th>\n",
       "      <th>possible_keys</th>\n",
       "      <th>key</th>\n",
       "      <th>key_len</th>\n",
       "      <th>ref</th>\n",
       "      <th>rows</th>\n",
       "      <th>filtered</th>\n",
       "      <th>Extra</th>\n",
       "    </tr>\n",
       "  </thead>\n",
       "  <tbody>\n",
       "    <tr>\n",
       "      <th>0</th>\n",
       "      <td>1</td>\n",
       "      <td>SIMPLE</td>\n",
       "      <td>products</td>\n",
       "      <td>None</td>\n",
       "      <td>ref</td>\n",
       "      <td>idx_price,idx_size</td>\n",
       "      <td>idx_size</td>\n",
       "      <td>403</td>\n",
       "      <td>const</td>\n",
       "      <td>223618</td>\n",
       "      <td>20.13</td>\n",
       "      <td>Using where</td>\n",
       "    </tr>\n",
       "  </tbody>\n",
       "</table>\n",
       "</div>"
      ],
      "text/plain": [
       "   id select_type     table partitions type       possible_keys       key  \\\n",
       "0   1      SIMPLE  products       None  ref  idx_price,idx_size  idx_size   \n",
       "\n",
       "  key_len    ref    rows  filtered        Extra  \n",
       "0     403  const  223618     20.13  Using where  "
      ]
     },
     "metadata": {},
     "output_type": "display_data"
    }
   ],
   "source": [
    "execute_query(\"SELECT name, price, size FROM products where price BETWEEN 100 AND 200\", database=get_database_name(), print_as_df=False, show_metrics=True)\n",
    "execute_query(\"EXPLAIN SELECT name, price, size FROM products where price BETWEEN 100 AND 200\", database=get_database_name(), print_as_df=True, show_metrics=False)\n",
    "\n",
    "\n",
    "execute_query(\"SELECT name, price, size FROM products where size = 'Large'\", database=get_database_name(), print_as_df=False, show_metrics=True)\n",
    "execute_query(\"EXPLAIN SELECT name, price, size FROM products where size = 'Large'\", database=get_database_name(), print_as_df=True, show_metrics=False)\n",
    "\n",
    "\n",
    "execute_query(\"SELECT name, price, size FROM products where price BETWEEN 100 AND 200 and size = 'Large'\", database=get_database_name(), print_as_df=False, show_metrics=True)\n",
    "execute_query(\"EXPLAIN SELECT name, price, size FROM products where price BETWEEN 100 AND 200 and size = 'Large'\", database=get_database_name(), print_as_df=True, show_metrics=False)\n",
    "\n",
    "\n",
    "execute_query(\"SELECT name, price, size FROM products where size = 'Large' and price BETWEEN 100 AND 200\", database=get_database_name(), print_as_df=False, show_metrics=True)\n",
    "execute_query(\"EXPLAIN SELECT name, price, size FROM products where size = 'Large' and price BETWEEN 100 AND 200\", database=get_database_name(), print_as_df=True, show_metrics=False)"
   ]
  },
  {
   "cell_type": "markdown",
   "id": "69ead126",
   "metadata": {},
   "source": [
    "I read this article: https://use-the-index-luke.com/sql/where-clause/searching-for-ranges/greater-less-between-tuning-sql-access-filter-predicates\n",
    "\n",
    "and from this i expected there to be a difference between the last two quries but there isn't because it seems that mysql pick the right key so that is a bit curious i think. so just to really test if there is a difference lets try to drop the index on the size"
   ]
  },
  {
   "cell_type": "code",
   "execution_count": 14,
   "id": "4ae33376",
   "metadata": {},
   "outputs": [
    {
     "name": "stdout",
     "output_type": "stream",
     "text": [
      "[QUERY METRICS] 0 rows affected, 4.68 ms\n"
     ]
    }
   ],
   "source": [
    "execute_query(\"DROP index idx_size ON products\", database=get_database_name(), print_as_df=False, show_metrics=True)"
   ]
  },
  {
   "cell_type": "code",
   "execution_count": 18,
   "id": "bdbd0d19",
   "metadata": {},
   "outputs": [
    {
     "name": "stdout",
     "output_type": "stream",
     "text": [
      "MySQL cache cleared\n",
      "[QUERY METRICS] 21868 rows fetched, 450.41 ms\n"
     ]
    },
    {
     "data": {
      "text/html": [
       "<div>\n",
       "<style scoped>\n",
       "    .dataframe tbody tr th:only-of-type {\n",
       "        vertical-align: middle;\n",
       "    }\n",
       "\n",
       "    .dataframe tbody tr th {\n",
       "        vertical-align: top;\n",
       "    }\n",
       "\n",
       "    .dataframe thead th {\n",
       "        text-align: right;\n",
       "    }\n",
       "</style>\n",
       "<table border=\"1\" class=\"dataframe\">\n",
       "  <thead>\n",
       "    <tr style=\"text-align: right;\">\n",
       "      <th></th>\n",
       "      <th>id</th>\n",
       "      <th>select_type</th>\n",
       "      <th>table</th>\n",
       "      <th>partitions</th>\n",
       "      <th>type</th>\n",
       "      <th>possible_keys</th>\n",
       "      <th>key</th>\n",
       "      <th>key_len</th>\n",
       "      <th>ref</th>\n",
       "      <th>rows</th>\n",
       "      <th>filtered</th>\n",
       "      <th>Extra</th>\n",
       "    </tr>\n",
       "  </thead>\n",
       "  <tbody>\n",
       "    <tr>\n",
       "      <th>0</th>\n",
       "      <td>1</td>\n",
       "      <td>SIMPLE</td>\n",
       "      <td>products</td>\n",
       "      <td>None</td>\n",
       "      <td>range</td>\n",
       "      <td>idx_price</td>\n",
       "      <td>idx_price</td>\n",
       "      <td>5</td>\n",
       "      <td>None</td>\n",
       "      <td>40534</td>\n",
       "      <td>100.0</td>\n",
       "      <td>Using index condition; Using MRR</td>\n",
       "    </tr>\n",
       "  </tbody>\n",
       "</table>\n",
       "</div>"
      ],
      "text/plain": [
       "   id select_type     table partitions   type possible_keys        key  \\\n",
       "0   1      SIMPLE  products       None  range     idx_price  idx_price   \n",
       "\n",
       "  key_len   ref   rows  filtered                             Extra  \n",
       "0       5  None  40534     100.0  Using index condition; Using MRR  "
      ]
     },
     "metadata": {},
     "output_type": "display_data"
    }
   ],
   "source": [
    "clear_mysql_cache()\n",
    "\n",
    "query = \"SELECT name, price, size FROM products where price BETWEEN 100 AND 110\"\n",
    "\n",
    "execute_query(query, database=get_database_name(), print_as_df=False, show_metrics=True)\n",
    "execute_query(\"EXPLAIN \" + query, database=get_database_name(), print_as_df=True, show_metrics=False)"
   ]
  },
  {
   "cell_type": "code",
   "execution_count": 20,
   "id": "9da557c2",
   "metadata": {},
   "outputs": [
    {
     "name": "stdout",
     "output_type": "stream",
     "text": [
      "MySQL cache cleared\n",
      "[QUERY METRICS] 201548 rows fetched, 447.59 ms\n"
     ]
    },
    {
     "data": {
      "text/html": [
       "<div>\n",
       "<style scoped>\n",
       "    .dataframe tbody tr th:only-of-type {\n",
       "        vertical-align: middle;\n",
       "    }\n",
       "\n",
       "    .dataframe tbody tr th {\n",
       "        vertical-align: top;\n",
       "    }\n",
       "\n",
       "    .dataframe thead th {\n",
       "        text-align: right;\n",
       "    }\n",
       "</style>\n",
       "<table border=\"1\" class=\"dataframe\">\n",
       "  <thead>\n",
       "    <tr style=\"text-align: right;\">\n",
       "      <th></th>\n",
       "      <th>id</th>\n",
       "      <th>select_type</th>\n",
       "      <th>table</th>\n",
       "      <th>partitions</th>\n",
       "      <th>type</th>\n",
       "      <th>possible_keys</th>\n",
       "      <th>key</th>\n",
       "      <th>key_len</th>\n",
       "      <th>ref</th>\n",
       "      <th>rows</th>\n",
       "      <th>filtered</th>\n",
       "      <th>Extra</th>\n",
       "    </tr>\n",
       "  </thead>\n",
       "  <tbody>\n",
       "    <tr>\n",
       "      <th>0</th>\n",
       "      <td>1</td>\n",
       "      <td>SIMPLE</td>\n",
       "      <td>products</td>\n",
       "      <td>None</td>\n",
       "      <td>ALL</td>\n",
       "      <td>idx_price</td>\n",
       "      <td>None</td>\n",
       "      <td>None</td>\n",
       "      <td>None</td>\n",
       "      <td>1982158</td>\n",
       "      <td>20.13</td>\n",
       "      <td>Using where</td>\n",
       "    </tr>\n",
       "  </tbody>\n",
       "</table>\n",
       "</div>"
      ],
      "text/plain": [
       "   id select_type     table partitions type possible_keys   key key_len   ref  \\\n",
       "0   1      SIMPLE  products       None  ALL     idx_price  None    None  None   \n",
       "\n",
       "      rows  filtered        Extra  \n",
       "0  1982158     20.13  Using where  "
      ]
     },
     "metadata": {},
     "output_type": "display_data"
    }
   ],
   "source": [
    "clear_mysql_cache()\n",
    "\n",
    "query = \"SELECT name, price, size FROM products where price BETWEEN 100 AND 200\"\n",
    "\n",
    "execute_query(query, database=get_database_name(), print_as_df=False, show_metrics=True)\n",
    "execute_query(\"EXPLAIN \" + query, database=get_database_name(), print_as_df=True, show_metrics=False)"
   ]
  },
  {
   "cell_type": "markdown",
   "id": "ccebf186",
   "metadata": {},
   "source": [
    "This is something fun and Quirky it seems that the MySql execution optimizer will weight that because it guesses that a high amount of the rows will match the query then it will use a full table scan. But if it things that not that many rows will match the filter then it will use the key. "
   ]
  }
 ],
 "metadata": {
  "kernelspec": {
   "display_name": "venv (3.13.7)",
   "language": "python",
   "name": "python3"
  },
  "language_info": {
   "codemirror_mode": {
    "name": "ipython",
    "version": 3
   },
   "file_extension": ".py",
   "mimetype": "text/x-python",
   "name": "python",
   "nbconvert_exporter": "python",
   "pygments_lexer": "ipython3",
   "version": "3.13.7"
  }
 },
 "nbformat": 4,
 "nbformat_minor": 5
}
