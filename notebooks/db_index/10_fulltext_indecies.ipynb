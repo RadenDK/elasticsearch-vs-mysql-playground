{
 "cells": [
  {
   "cell_type": "markdown",
   "id": "fc15ee43",
   "metadata": {},
   "source": [
    "https://use-the-index-luke.com/sql/where-clause/searching-for-ranges/like-performance-tuning"
   ]
  },
  {
   "cell_type": "markdown",
   "id": "16ae72e0",
   "metadata": {},
   "source": [
    "This notebook is because i want to test the speed difference between a full text index vs a normal index"
   ]
  },
  {
   "cell_type": "code",
   "execution_count": null,
   "id": "f8cf4c2f",
   "metadata": {},
   "outputs": [],
   "source": [
    "from helpers.db.db_setup_methods import *\n",
    "from helpers.db.db_query_methods import *\n",
    "\n",
    "from helpers.db.db_helper_methods import *\n",
    "\n",
    "init_db(2_000_000)"
   ]
  },
  {
   "cell_type": "markdown",
   "id": "79758d68",
   "metadata": {},
   "source": [
    "This initial is just a benchmark without any indexing "
   ]
  },
  {
   "cell_type": "code",
   "execution_count": null,
   "id": "748861f6",
   "metadata": {},
   "outputs": [],
   "source": [
    "drop_non_clustered_indexes(\"products\", get_database_name())\n",
    "\n",
    "query = \"\"\"\n",
    "SELECT * FROM products WHERE name like '%%Charger%%';\n",
    "\"\"\"\n",
    "\n",
    "execute_query(query, database=get_database_name(), print_as_df=False, show_metrics=True)\n",
    "execute_query(\"EXPLAIN \" +query, database=get_database_name(), print_as_df=True, show_metrics=False)"
   ]
  },
  {
   "cell_type": "code",
   "execution_count": null,
   "id": "25829640",
   "metadata": {},
   "outputs": [],
   "source": [
    "drop_non_clustered_indexes(\"products\", get_database_name())\n",
    "\n",
    "query = \"\"\"\n",
    "CREATE INDEX idx_name ON products(name);\n",
    "\"\"\"\n",
    "\n",
    "execute_query(query, database=get_database_name(), print_as_df=True, show_metrics=False)\n",
    "\n",
    "query = \"\"\"\n",
    "SELECT * FROM products WHERE name like '%%Charger%%';\n",
    "\"\"\"\n",
    "\n",
    "execute_query(query, database=get_database_name(), print_as_df=False, show_metrics=True)\n",
    "execute_query(\"EXPLAIN \" +query, database=get_database_name(), print_as_df=True, show_metrics=False)\n"
   ]
  },
  {
   "cell_type": "code",
   "execution_count": null,
   "id": "6416774f",
   "metadata": {},
   "outputs": [],
   "source": [
    "drop_non_clustered_indexes(\"products\", get_database_name())\n",
    "\n",
    "query = \"\"\"\n",
    "CREATE FULLTEXT INDEX idx_name ON products(name);\n",
    "\"\"\"\n",
    "\n",
    "execute_query(query, database=get_database_name(), print_as_df=True, show_metrics=False)\n",
    "\n",
    "query = \"\"\"\n",
    "SELECT * FROM products WHERE MATCH(name) AGAINST('Charger');\n",
    "\"\"\"\n",
    "\n",
    "execute_query(query, database=get_database_name(), print_as_df=False, show_metrics=True)\n",
    "execute_query(\"EXPLAIN \" +query, database=get_database_name(), print_as_df=True, show_metrics=False)\n"
   ]
  }
 ],
 "metadata": {
  "kernelspec": {
   "display_name": "venv (3.13.7)",
   "language": "python",
   "name": "python3"
  },
  "language_info": {
   "codemirror_mode": {
    "name": "ipython",
    "version": 3
   },
   "file_extension": ".py",
   "mimetype": "text/x-python",
   "name": "python",
   "nbconvert_exporter": "python",
   "pygments_lexer": "ipython3",
   "version": "3.13.7"
  }
 },
 "nbformat": 4,
 "nbformat_minor": 5
}
