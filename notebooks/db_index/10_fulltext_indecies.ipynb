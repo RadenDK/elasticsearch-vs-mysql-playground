{
 "cells": [
  {
   "cell_type": "markdown",
   "id": "fc15ee43",
   "metadata": {},
   "source": [
    "https://use-the-index-luke.com/sql/where-clause/searching-for-ranges/like-performance-tuning"
   ]
  },
  {
   "cell_type": "markdown",
   "id": "16ae72e0",
   "metadata": {},
   "source": [
    "This notebook is because i want to test the speed difference between a full text index vs a normal index"
   ]
  },
  {
   "cell_type": "code",
   "execution_count": 5,
   "id": "f8cf4c2f",
   "metadata": {},
   "outputs": [
    {
     "name": "stdout",
     "output_type": "stream",
     "text": [
      "Created empty database\n",
      "Created empty tables\n",
      "Starting to insert data\n",
      "\n",
      "Starting insert into 'products' (2000000 rows)...\n",
      "Finished inserting 2000000 rows into 'products' in 36.66s.\n"
     ]
    }
   ],
   "source": [
    "from helpers.db.db_setup_methods import *\n",
    "from helpers.db.db_query_methods import *\n",
    "\n",
    "from helpers.db.db_helper_methods import *\n",
    "\n",
    "init_db(2_000_000)"
   ]
  },
  {
   "cell_type": "markdown",
   "id": "79758d68",
   "metadata": {},
   "source": [
    "This initial is just a benchmark without any indexing "
   ]
  },
  {
   "cell_type": "code",
   "execution_count": 9,
   "id": "748861f6",
   "metadata": {},
   "outputs": [
    {
     "name": "stdout",
     "output_type": "stream",
     "text": [
      "[QUERY METRICS] 88235 rows fetched, 1577.74 ms\n"
     ]
    },
    {
     "data": {
      "text/html": [
       "<div>\n",
       "<style scoped>\n",
       "    .dataframe tbody tr th:only-of-type {\n",
       "        vertical-align: middle;\n",
       "    }\n",
       "\n",
       "    .dataframe tbody tr th {\n",
       "        vertical-align: top;\n",
       "    }\n",
       "\n",
       "    .dataframe thead th {\n",
       "        text-align: right;\n",
       "    }\n",
       "</style>\n",
       "<table border=\"1\" class=\"dataframe\">\n",
       "  <thead>\n",
       "    <tr style=\"text-align: right;\">\n",
       "      <th></th>\n",
       "      <th>id</th>\n",
       "      <th>select_type</th>\n",
       "      <th>table</th>\n",
       "      <th>partitions</th>\n",
       "      <th>type</th>\n",
       "      <th>possible_keys</th>\n",
       "      <th>key</th>\n",
       "      <th>key_len</th>\n",
       "      <th>ref</th>\n",
       "      <th>rows</th>\n",
       "      <th>filtered</th>\n",
       "      <th>Extra</th>\n",
       "    </tr>\n",
       "  </thead>\n",
       "  <tbody>\n",
       "    <tr>\n",
       "      <th>0</th>\n",
       "      <td>1</td>\n",
       "      <td>SIMPLE</td>\n",
       "      <td>products</td>\n",
       "      <td>None</td>\n",
       "      <td>ALL</td>\n",
       "      <td>None</td>\n",
       "      <td>None</td>\n",
       "      <td>None</td>\n",
       "      <td>None</td>\n",
       "      <td>1979023</td>\n",
       "      <td>11.11</td>\n",
       "      <td>Using where</td>\n",
       "    </tr>\n",
       "  </tbody>\n",
       "</table>\n",
       "</div>"
      ],
      "text/plain": [
       "   id select_type     table partitions type possible_keys   key key_len   ref  \\\n",
       "0   1      SIMPLE  products       None  ALL          None  None    None  None   \n",
       "\n",
       "      rows  filtered        Extra  \n",
       "0  1979023     11.11  Using where  "
      ]
     },
     "metadata": {},
     "output_type": "display_data"
    }
   ],
   "source": [
    "drop_non_clustered_indexes(\"products\", get_database_name())\n",
    "\n",
    "query = \"\"\"\n",
    "SELECT * FROM products WHERE name like '%%Charger%%';\n",
    "\"\"\"\n",
    "\n",
    "execute_query(query, database=get_database_name(), print_as_df=False, show_metrics=True)\n",
    "execute_query(\"EXPLAIN \" +query, database=get_database_name(), print_as_df=True, show_metrics=False)"
   ]
  },
  {
   "cell_type": "code",
   "execution_count": 10,
   "id": "25829640",
   "metadata": {},
   "outputs": [
    {
     "name": "stdout",
     "output_type": "stream",
     "text": [
      "[QUERY METRICS] 88235 rows fetched, 1540.90 ms\n"
     ]
    },
    {
     "data": {
      "text/html": [
       "<div>\n",
       "<style scoped>\n",
       "    .dataframe tbody tr th:only-of-type {\n",
       "        vertical-align: middle;\n",
       "    }\n",
       "\n",
       "    .dataframe tbody tr th {\n",
       "        vertical-align: top;\n",
       "    }\n",
       "\n",
       "    .dataframe thead th {\n",
       "        text-align: right;\n",
       "    }\n",
       "</style>\n",
       "<table border=\"1\" class=\"dataframe\">\n",
       "  <thead>\n",
       "    <tr style=\"text-align: right;\">\n",
       "      <th></th>\n",
       "      <th>id</th>\n",
       "      <th>select_type</th>\n",
       "      <th>table</th>\n",
       "      <th>partitions</th>\n",
       "      <th>type</th>\n",
       "      <th>possible_keys</th>\n",
       "      <th>key</th>\n",
       "      <th>key_len</th>\n",
       "      <th>ref</th>\n",
       "      <th>rows</th>\n",
       "      <th>filtered</th>\n",
       "      <th>Extra</th>\n",
       "    </tr>\n",
       "  </thead>\n",
       "  <tbody>\n",
       "    <tr>\n",
       "      <th>0</th>\n",
       "      <td>1</td>\n",
       "      <td>SIMPLE</td>\n",
       "      <td>products</td>\n",
       "      <td>None</td>\n",
       "      <td>ALL</td>\n",
       "      <td>None</td>\n",
       "      <td>None</td>\n",
       "      <td>None</td>\n",
       "      <td>None</td>\n",
       "      <td>1979023</td>\n",
       "      <td>11.11</td>\n",
       "      <td>Using where</td>\n",
       "    </tr>\n",
       "  </tbody>\n",
       "</table>\n",
       "</div>"
      ],
      "text/plain": [
       "   id select_type     table partitions type possible_keys   key key_len   ref  \\\n",
       "0   1      SIMPLE  products       None  ALL          None  None    None  None   \n",
       "\n",
       "      rows  filtered        Extra  \n",
       "0  1979023     11.11  Using where  "
      ]
     },
     "metadata": {},
     "output_type": "display_data"
    }
   ],
   "source": [
    "drop_non_clustered_indexes(\"products\", get_database_name())\n",
    "\n",
    "query = \"\"\"\n",
    "CREATE INDEX idx_name ON products(name);\n",
    "\"\"\"\n",
    "\n",
    "execute_query(query, database=get_database_name(), print_as_df=True, show_metrics=False)\n",
    "\n",
    "query = \"\"\"\n",
    "SELECT * FROM products WHERE name like '%%Charger%%';\n",
    "\"\"\"\n",
    "\n",
    "execute_query(query, database=get_database_name(), print_as_df=False, show_metrics=True)\n",
    "execute_query(\"EXPLAIN \" +query, database=get_database_name(), print_as_df=True, show_metrics=False)\n"
   ]
  },
  {
   "cell_type": "code",
   "execution_count": 12,
   "id": "6416774f",
   "metadata": {},
   "outputs": [
    {
     "name": "stdout",
     "output_type": "stream",
     "text": [
      "[QUERY METRICS] 88235 rows fetched, 980.60 ms\n"
     ]
    },
    {
     "data": {
      "text/html": [
       "<div>\n",
       "<style scoped>\n",
       "    .dataframe tbody tr th:only-of-type {\n",
       "        vertical-align: middle;\n",
       "    }\n",
       "\n",
       "    .dataframe tbody tr th {\n",
       "        vertical-align: top;\n",
       "    }\n",
       "\n",
       "    .dataframe thead th {\n",
       "        text-align: right;\n",
       "    }\n",
       "</style>\n",
       "<table border=\"1\" class=\"dataframe\">\n",
       "  <thead>\n",
       "    <tr style=\"text-align: right;\">\n",
       "      <th></th>\n",
       "      <th>id</th>\n",
       "      <th>select_type</th>\n",
       "      <th>table</th>\n",
       "      <th>partitions</th>\n",
       "      <th>type</th>\n",
       "      <th>possible_keys</th>\n",
       "      <th>key</th>\n",
       "      <th>key_len</th>\n",
       "      <th>ref</th>\n",
       "      <th>rows</th>\n",
       "      <th>filtered</th>\n",
       "      <th>Extra</th>\n",
       "    </tr>\n",
       "  </thead>\n",
       "  <tbody>\n",
       "    <tr>\n",
       "      <th>0</th>\n",
       "      <td>1</td>\n",
       "      <td>SIMPLE</td>\n",
       "      <td>products</td>\n",
       "      <td>None</td>\n",
       "      <td>fulltext</td>\n",
       "      <td>idx_name</td>\n",
       "      <td>idx_name</td>\n",
       "      <td>0</td>\n",
       "      <td>const</td>\n",
       "      <td>1</td>\n",
       "      <td>100.0</td>\n",
       "      <td>Using where; Ft_hints: sorted</td>\n",
       "    </tr>\n",
       "  </tbody>\n",
       "</table>\n",
       "</div>"
      ],
      "text/plain": [
       "   id select_type     table partitions      type possible_keys       key  \\\n",
       "0   1      SIMPLE  products       None  fulltext      idx_name  idx_name   \n",
       "\n",
       "  key_len    ref  rows  filtered                          Extra  \n",
       "0       0  const     1     100.0  Using where; Ft_hints: sorted  "
      ]
     },
     "metadata": {},
     "output_type": "display_data"
    }
   ],
   "source": [
    "drop_non_clustered_indexes(\"products\", get_database_name())\n",
    "\n",
    "query = \"\"\"\n",
    "CREATE FULLTEXT INDEX idx_name ON products(name);\n",
    "\"\"\"\n",
    "\n",
    "execute_query(query, database=get_database_name(), print_as_df=True, show_metrics=False)\n",
    "\n",
    "query = \"\"\"\n",
    "SELECT * FROM products WHERE MATCH(name) AGAINST('Charger');\n",
    "\"\"\"\n",
    "\n",
    "execute_query(query, database=get_database_name(), print_as_df=False, show_metrics=True)\n",
    "execute_query(\"EXPLAIN \" +query, database=get_database_name(), print_as_df=True, show_metrics=False)\n"
   ]
  }
 ],
 "metadata": {
  "kernelspec": {
   "display_name": "venv (3.13.7)",
   "language": "python",
   "name": "python3"
  },
  "language_info": {
   "codemirror_mode": {
    "name": "ipython",
    "version": 3
   },
   "file_extension": ".py",
   "mimetype": "text/x-python",
   "name": "python",
   "nbconvert_exporter": "python",
   "pygments_lexer": "ipython3",
   "version": "3.13.7"
  }
 },
 "nbformat": 4,
 "nbformat_minor": 5
}
