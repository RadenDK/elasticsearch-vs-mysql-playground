{
 "cells": [
  {
   "cell_type": "markdown",
   "id": "e69422cb",
   "metadata": {},
   "source": [
    "You have to run this notebook sequentially because i overwrite the category id index"
   ]
  },
  {
   "cell_type": "code",
   "execution_count": 4,
   "id": "1389cc22",
   "metadata": {},
   "outputs": [
    {
     "name": "stdout",
     "output_type": "stream",
     "text": [
      "Created empty database\n",
      "Created empty tables\n",
      "Starting to insert data\n",
      "\n",
      "Starting insert into 'products' (20000 rows)...\n",
      "Finished inserting 20000 rows into 'products' in 0.34s.\n"
     ]
    }
   ],
   "source": [
    "from helpers.db.db_setup_methods import *\n",
    "from helpers.db.db_query_methods import *\n",
    "\n",
    "from helpers.db.db_helper_methods import *\n",
    "\n",
    "init_db(20000)\n"
   ]
  },
  {
   "cell_type": "markdown",
   "id": "97ecc401",
   "metadata": {},
   "source": [
    "The idea here is that typically if you use a wild card like '%charger%' a index on the name would be useless because it cant traverse the index in a manner that will improve speed. It has to do a full scan in order to find every record where it could have a name like '%charger%'. But if you add the name to a index key it would be able to filter out at the index traversal all records where the condition is not satisfied.\n",
    "\n",
    "So what i expect is that when we have only a index on category_id and not name, it should behave like first finding all the records where it matches the category_id and to this it can use the index. Then it would have to do a full scan on these records to check if the condition applies.\n",
    "\n",
    "If we then introduce the name to the index then it should be able to find all the records at the first index travelse and dont have to do the check on the clustered traversel. And that should make it quicker"
   ]
  },
  {
   "cell_type": "code",
   "execution_count": 5,
   "id": "97c074b1",
   "metadata": {},
   "outputs": [
    {
     "name": "stdout",
     "output_type": "stream",
     "text": [
      "[QUERY METRICS] 25 rows fetched, 1.15 ms\n"
     ]
    },
    {
     "data": {
      "text/html": [
       "<div>\n",
       "<style scoped>\n",
       "    .dataframe tbody tr th:only-of-type {\n",
       "        vertical-align: middle;\n",
       "    }\n",
       "\n",
       "    .dataframe tbody tr th {\n",
       "        vertical-align: top;\n",
       "    }\n",
       "\n",
       "    .dataframe thead th {\n",
       "        text-align: right;\n",
       "    }\n",
       "</style>\n",
       "<table border=\"1\" class=\"dataframe\">\n",
       "  <thead>\n",
       "    <tr style=\"text-align: right;\">\n",
       "      <th></th>\n",
       "      <th>id</th>\n",
       "      <th>select_type</th>\n",
       "      <th>table</th>\n",
       "      <th>partitions</th>\n",
       "      <th>type</th>\n",
       "      <th>possible_keys</th>\n",
       "      <th>key</th>\n",
       "      <th>key_len</th>\n",
       "      <th>ref</th>\n",
       "      <th>rows</th>\n",
       "      <th>filtered</th>\n",
       "      <th>Extra</th>\n",
       "    </tr>\n",
       "  </thead>\n",
       "  <tbody>\n",
       "    <tr>\n",
       "      <th>0</th>\n",
       "      <td>1</td>\n",
       "      <td>SIMPLE</td>\n",
       "      <td>products</td>\n",
       "      <td>None</td>\n",
       "      <td>ref</td>\n",
       "      <td>category_id</td>\n",
       "      <td>category_id</td>\n",
       "      <td>5</td>\n",
       "      <td>const</td>\n",
       "      <td>585</td>\n",
       "      <td>11.11</td>\n",
       "      <td>Using where</td>\n",
       "    </tr>\n",
       "  </tbody>\n",
       "</table>\n",
       "</div>"
      ],
      "text/plain": [
       "   id select_type     table partitions type possible_keys          key  \\\n",
       "0   1      SIMPLE  products       None  ref   category_id  category_id   \n",
       "\n",
       "  key_len    ref  rows  filtered        Extra  \n",
       "0       5  const   585     11.11  Using where  "
      ]
     },
     "metadata": {},
     "output_type": "display_data"
    }
   ],
   "source": [
    "drop_non_clustered_indexes(\"products\", get_database_name(), output=False)\n",
    "\n",
    "query = \"\"\"\n",
    "SELECT * FROM products WHERE category_id = 1 AND name LIKE '%%charger%%';\n",
    "\"\"\"\n",
    "\n",
    "execute_query(query, database=get_database_name(), print_as_df=False, show_metrics=True)\n",
    "execute_query(\"EXPLAIN \" + query, database=get_database_name(), print_as_df=True, show_metrics=False)"
   ]
  },
  {
   "cell_type": "code",
   "execution_count": 6,
   "id": "b6c24b82",
   "metadata": {},
   "outputs": [
    {
     "name": "stdout",
     "output_type": "stream",
     "text": [
      "[QUERY METRICS] 25 rows fetched, 0.69 ms\n"
     ]
    },
    {
     "data": {
      "text/html": [
       "<div>\n",
       "<style scoped>\n",
       "    .dataframe tbody tr th:only-of-type {\n",
       "        vertical-align: middle;\n",
       "    }\n",
       "\n",
       "    .dataframe tbody tr th {\n",
       "        vertical-align: top;\n",
       "    }\n",
       "\n",
       "    .dataframe thead th {\n",
       "        text-align: right;\n",
       "    }\n",
       "</style>\n",
       "<table border=\"1\" class=\"dataframe\">\n",
       "  <thead>\n",
       "    <tr style=\"text-align: right;\">\n",
       "      <th></th>\n",
       "      <th>id</th>\n",
       "      <th>select_type</th>\n",
       "      <th>table</th>\n",
       "      <th>partitions</th>\n",
       "      <th>type</th>\n",
       "      <th>possible_keys</th>\n",
       "      <th>key</th>\n",
       "      <th>key_len</th>\n",
       "      <th>ref</th>\n",
       "      <th>rows</th>\n",
       "      <th>filtered</th>\n",
       "      <th>Extra</th>\n",
       "    </tr>\n",
       "  </thead>\n",
       "  <tbody>\n",
       "    <tr>\n",
       "      <th>0</th>\n",
       "      <td>1</td>\n",
       "      <td>SIMPLE</td>\n",
       "      <td>products</td>\n",
       "      <td>None</td>\n",
       "      <td>ref</td>\n",
       "      <td>idx_products_category_id_and_name</td>\n",
       "      <td>idx_products_category_id_and_name</td>\n",
       "      <td>5</td>\n",
       "      <td>const</td>\n",
       "      <td>585</td>\n",
       "      <td>11.11</td>\n",
       "      <td>Using index condition</td>\n",
       "    </tr>\n",
       "  </tbody>\n",
       "</table>\n",
       "</div>"
      ],
      "text/plain": [
       "   id select_type     table partitions type  \\\n",
       "0   1      SIMPLE  products       None  ref   \n",
       "\n",
       "                       possible_keys                                key  \\\n",
       "0  idx_products_category_id_and_name  idx_products_category_id_and_name   \n",
       "\n",
       "  key_len    ref  rows  filtered                  Extra  \n",
       "0       5  const   585     11.11  Using index condition  "
      ]
     },
     "metadata": {},
     "output_type": "display_data"
    }
   ],
   "source": [
    "drop_non_clustered_indexes(\"products\", get_database_name(), output=False)\n",
    "\n",
    "query = \"\"\"\n",
    "CREATE INDEX idx_products_category_id_and_name ON products(category_id, name);\n",
    "\"\"\"\n",
    "\n",
    "execute_query(query, database=get_database_name(), print_as_df=False, show_metrics=False)\n",
    "\n",
    "query = \"\"\"\n",
    "SELECT * FROM products WHERE category_id = 1 AND name LIKE '%%charger%%';\n",
    "\"\"\"\n",
    "\n",
    "execute_query(query, database=get_database_name(), print_as_df=False, show_metrics=True)\n",
    "execute_query(\"EXPLAIN \" + query, database=get_database_name(), print_as_df=True, show_metrics=False)"
   ]
  },
  {
   "cell_type": "markdown",
   "id": "d8e6a43c",
   "metadata": {},
   "source": [
    "What we see is that it is acutally faster. And the difference gets more notable the more data you have. \n",
    "\n",
    "Though after reading the use the index luke article https://use-the-index-luke.com/sql/clustering/index-filter-predicates\n",
    "\n",
    "I did expect the explain to output something different because he uses the orcale database exeuction planner. \n",
    "\n",
    "What i expected was first of all more rows in the explain. Like it should first show that it uses the category id index with a type index to get all of the records (or pointers) where the condition is met. And here it should have like a filtered 100.\n",
    "Then i thought on the second row it would show that now with a ref it will iterate over all of these records and find where the filtered condition is met. \n",
    "\n",
    "But this was not the case. Instead i think it is still what happens behind the scenses but mysql just smushes the two into one. "
   ]
  },
  {
   "cell_type": "markdown",
   "id": "c559c5cc",
   "metadata": {},
   "source": [
    "I did get a bit desapointed after this because i thought there were no difference. But in reality it is show in the extra column. Where the first query has an extra saying using where which indicates that it will iterate over all the records a second time. and the second query has a using index condition indicating that it will filter out everything at the first index traversel. Or atleast i think so"
   ]
  }
 ],
 "metadata": {
  "kernelspec": {
   "display_name": "venv (3.13.7)",
   "language": "python",
   "name": "python3"
  },
  "language_info": {
   "codemirror_mode": {
    "name": "ipython",
    "version": 3
   },
   "file_extension": ".py",
   "mimetype": "text/x-python",
   "name": "python",
   "nbconvert_exporter": "python",
   "pygments_lexer": "ipython3",
   "version": "3.13.7"
  }
 },
 "nbformat": 4,
 "nbformat_minor": 5
}
