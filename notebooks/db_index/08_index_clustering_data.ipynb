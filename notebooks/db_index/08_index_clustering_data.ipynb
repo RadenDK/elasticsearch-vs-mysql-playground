{
 "cells": [
  {
   "cell_type": "markdown",
   "id": "e69422cb",
   "metadata": {},
   "source": [
    "You have to run this notebook sequentially because i overwrite the category id index"
   ]
  },
  {
   "cell_type": "code",
   "execution_count": null,
   "id": "1389cc22",
   "metadata": {},
   "outputs": [],
   "source": [
    "from helpers.db.db_setup_methods import *\n",
    "from helpers.db.db_query_methods import *\n",
    "\n",
    "from helpers.db.db_helper_methods import *\n",
    "\n",
    "#init_db(20000)\n"
   ]
  },
  {
   "cell_type": "markdown",
   "id": "97ecc401",
   "metadata": {},
   "source": [
    "The idea here is that typically if you use a wild card like '%charger%' a index on the name would be useless because it cant traverse the index in a manner that will improve speed. It has to do a full scan in order to find every record where it could have a name like '%charger%'. But if you add the name to a index key it would be able to filter out at the index traversal all records where the condition is not satisfied.\n",
    "\n",
    "So what i expect is that when we have only a index on category_id and not name, it should behave like first finding all the records where it matches the category_id and to this it can use the index. Then it would have to do a full scan on these records to check if the condition applies.\n",
    "\n",
    "If we then introduce the name to the index then it should be able to find all the records at the first index travelse and dont have to do the check on the clustered traversel. And that should make it quicker"
   ]
  },
  {
   "cell_type": "code",
   "execution_count": null,
   "id": "97c074b1",
   "metadata": {},
   "outputs": [],
   "source": [
    "drop_non_clustered_indexes(\"products\", get_database_name(), output=False)\n",
    "\n",
    "query = \"\"\"\n",
    "SELECT * FROM products WHERE category_id = 1 AND name LIKE '%%charger%%';\n",
    "\"\"\"\n",
    "\n",
    "execute_query(query, database=get_database_name(), print_as_df=False, show_metrics=True)\n",
    "execute_query(\"EXPLAIN \" + query, database=get_database_name(), print_as_df=True, show_metrics=False)"
   ]
  },
  {
   "cell_type": "code",
   "execution_count": null,
   "id": "b6c24b82",
   "metadata": {},
   "outputs": [],
   "source": [
    "drop_non_clustered_indexes(\"products\", get_database_name(), output=False)\n",
    "\n",
    "query = \"\"\"\n",
    "CREATE INDEX idx_products_category_id_and_name ON products(category_id, name);\n",
    "\"\"\"\n",
    "\n",
    "#execute_query(query, database=get_database_name(), print_as_df=False, show_metrics=False)\n",
    "\n",
    "query = \"\"\"\n",
    "SELECT * FROM products WHERE category_id = 1 AND name LIKE '%%charger%%';\n",
    "\"\"\"\n",
    "\n",
    "execute_query(query, database=get_database_name(), print_as_df=False, show_metrics=True)\n",
    "execute_query(\"EXPLAIN \" + query, database=get_database_name(), print_as_df=True, show_metrics=False)"
   ]
  },
  {
   "cell_type": "markdown",
   "id": "d8e6a43c",
   "metadata": {},
   "source": [
    "What we see is that it is acutally faster. And the difference gets more notable the more data you have. \n",
    "\n",
    "Though after reading the use the index luke article https://use-the-index-luke.com/sql/clustering/index-filter-predicates\n",
    "\n",
    "I did expect the explain to output something different because he uses the orcale database exeuction planner. \n",
    "\n",
    "What i expected was first of all more rows in the explain. Like it should first show that it uses the category id index with a type index to get all of the records (or pointers) where the condition is met. And here it should have like a filtered 100.\n",
    "Then i thought on the second row it would show that now with a ref it will iterate over all of these records and find where the filtered condition is met. \n",
    "\n",
    "But this was not the case. Instead i think it is still what happens behind the scenses but mysql just smushes the two into one. "
   ]
  },
  {
   "cell_type": "markdown",
   "id": "c559c5cc",
   "metadata": {},
   "source": [
    "I did get a bit desapointed after this because i thought there were no difference. But in reality it is show in the extra column. Where the first query has an extra saying using where which indicates that it will iterate over all the records a second time. and the second query has a using index condition indicating that it will filter out everything at the first index traversel. Or atleast i think so"
   ]
  }
 ],
 "metadata": {
  "kernelspec": {
   "display_name": "venv (3.13.7)",
   "language": "python",
   "name": "python3"
  },
  "language_info": {
   "codemirror_mode": {
    "name": "ipython",
    "version": 3
   },
   "file_extension": ".py",
   "mimetype": "text/x-python",
   "name": "python",
   "nbconvert_exporter": "python",
   "pygments_lexer": "ipython3",
   "version": "3.13.7"
  }
 },
 "nbformat": 4,
 "nbformat_minor": 5
}
