{
 "cells": [
  {
   "cell_type": "markdown",
   "id": "fc15ee43",
   "metadata": {},
   "source": [
    "https://use-the-index-luke.com/sql/where-clause/searching-for-ranges/like-performance-tuning"
   ]
  }
 ],
 "metadata": {
  "kernelspec": {
   "display_name": "venv",
   "language": "python",
   "name": "python3"
  },
  "language_info": {
   "name": "python",
   "version": "3.13.7"
  }
 },
 "nbformat": 4,
 "nbformat_minor": 5
}
