{
 "cells": [
  {
   "cell_type": "markdown",
   "id": "fc15ee43",
   "metadata": {},
   "source": [
    "https://use-the-index-luke.com/sql/where-clause/searching-for-ranges/like-performance-tuning"
   ]
  }
 ],
 "metadata": {
  "language_info": {
   "name": "python"
  }
 },
 "nbformat": 4,
 "nbformat_minor": 5
}
