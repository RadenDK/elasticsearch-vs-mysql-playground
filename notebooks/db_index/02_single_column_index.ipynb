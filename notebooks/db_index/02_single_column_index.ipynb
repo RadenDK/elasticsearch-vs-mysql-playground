{
 "cells": [
  {
   "cell_type": "code",
   "execution_count": null,
   "id": "749aef6b",
   "metadata": {},
   "outputs": [],
   "source": [
    "from helpers.db.db_setup_methods import *\n",
    "from helpers.db.db_query_methods import *\n",
    "\n",
    "from helpers.db.db_helper_methods import *\n",
    "\n",
    "init_db(2_000_000)"
   ]
  },
  {
   "cell_type": "markdown",
   "id": "44ef35c1",
   "metadata": {},
   "source": [
    "I just quickly want to show the difference a single column index can make in a search and when it does not affect anything"
   ]
  },
  {
   "cell_type": "markdown",
   "id": "ec2d776f",
   "metadata": {},
   "source": [
    "First lets compare how it looks if you search for a spesfic name and compare that to how it is different if we have the column indexd or not"
   ]
  },
  {
   "cell_type": "code",
   "execution_count": null,
   "id": "331cde9e",
   "metadata": {},
   "outputs": [],
   "source": [
    "drop_non_clustered_indexes(\"products\", get_database_name(), output=False)\n",
    "\n",
    "query = \"\"\"\n",
    "SELECT * FROM products WHERE size = 'Large';\n",
    "\"\"\"\n",
    "\n",
    "execute_query(query, database=get_database_name(), print_as_df=False, show_metrics=True)\n",
    "execute_query(\"EXPLAIN \" + query, database=get_database_name(), print_as_df=True, show_metrics=False)\n"
   ]
  },
  {
   "cell_type": "code",
   "execution_count": null,
   "id": "e9485c24",
   "metadata": {},
   "outputs": [],
   "source": [
    "drop_non_clustered_indexes(\"products\", get_database_name(), output=False)\n",
    "\n",
    "query = \"\"\"\n",
    "CREATE INDEX idx_size ON products(size);\n",
    "\"\"\"\n",
    "\n",
    "execute_query(query, database=get_database_name(), print_as_df=False, show_metrics=False)\n",
    "\n",
    "query = \"\"\"\n",
    "SELECT size FROM products WHERE size = 'Large';\n",
    "\"\"\"\n",
    "\n",
    "execute_query(query, database=get_database_name(), print_as_df=False, show_metrics=True)\n",
    "execute_query(\"EXPLAIN \"+ query, database=get_database_name(), print_as_df=True, show_metrics=False)"
   ]
  },
  {
   "cell_type": "markdown",
   "id": "1c1afec2",
   "metadata": {},
   "source": [
    "This is acutally not that huge or a difference i expected so lets try on something that have lets hits.\n",
    "If there is around 200.000 or under records then it seems that the performance is almost the same where there would be a slight increase in performance if there were a total of 2m records."
   ]
  },
  {
   "cell_type": "code",
   "execution_count": null,
   "id": "ecf799b7",
   "metadata": {},
   "outputs": [],
   "source": [
    "drop_non_clustered_indexes(\"products\", get_database_name(), output=False)\n",
    "\n",
    "query = \"\"\"\n",
    "SELECT * FROM products WHERE name = 'Pro Charger Tablet Brush Go 360';\n",
    "\"\"\"\n",
    "\n",
    "execute_query(query, database=get_database_name(), print_as_df=False, show_metrics=True)\n",
    "execute_query(\"EXPLAIN \"+ query, database=get_database_name(), print_as_df=True, show_metrics=False)"
   ]
  },
  {
   "cell_type": "code",
   "execution_count": null,
   "id": "45b22b47",
   "metadata": {},
   "outputs": [],
   "source": [
    "drop_non_clustered_indexes(\"products\", get_database_name(), output=False)\n",
    "\n",
    "query = \"\"\"\n",
    "CREATE INDEX idx_name ON products(name);\n",
    "\"\"\"\n",
    "\n",
    "execute_query(query, database=get_database_name(), print_as_df=False, show_metrics=False)\n",
    "\n",
    "query = \"\"\"\n",
    "SELECT * FROM products WHERE name = 'Pro Charger Tablet Brush Go 360';\n",
    "\"\"\"\n",
    "\n",
    "execute_query(query, database=get_database_name(), print_as_df=False, show_metrics=True)\n",
    "execute_query(\"EXPLAIN \"+ query, database=get_database_name(), print_as_df=True, show_metrics=False)"
   ]
  },
  {
   "cell_type": "markdown",
   "id": "bd516142",
   "metadata": {},
   "source": [
    "Now this is a huge difference. Even when the data size increases you hit the record in no time since there is only one row affected. \n",
    "So i need to keep in mind that a index does not help a lot if you query for something that will hit a lot.\n",
    "I also think that MySQL will in its execution planner evaluate if a full table scan is more effecient or not.\n",
    "\n",
    "But this would mean to me atleast that you can always create a index on a column and it will either be faster or as fast as a full table scan never slower unless there is something funky with the execution planner."
   ]
  },
  {
   "cell_type": "markdown",
   "id": "006a4f70",
   "metadata": {},
   "source": [
    "Lets try to drive this point home, so lets create a index where the query would select almost everything of the DB and then see if it uses the index or if it uses a full scan"
   ]
  },
  {
   "cell_type": "code",
   "execution_count": null,
   "id": "2710e357",
   "metadata": {},
   "outputs": [],
   "source": [
    "drop_non_clustered_indexes(\"products\", get_database_name(), output=False)\n",
    "\n",
    "query = \"\"\"\n",
    "CREATE INDEX idx_price ON products(price);\n",
    "\"\"\"\n",
    "\n",
    "execute_query(query, database=get_database_name(), print_as_df=False, show_metrics=False)\n",
    "\n",
    "query = \"\"\"\n",
    "SELECT * FROM products WHERE price > 50;\n",
    "\"\"\"\n",
    "\n",
    "execute_query(query, database=get_database_name(), print_as_df=False, show_metrics=True)\n",
    "execute_query(\"EXPLAIN \"+ query, database=get_database_name(), print_as_df=True, show_metrics=False)"
   ]
  },
  {
   "cell_type": "markdown",
   "id": "c272e605",
   "metadata": {},
   "source": [
    "Yeah it seems like the MySQL execution planner thinks that 50% of the rows will be affected so it wont use the index. Now lets check when it will hit it"
   ]
  },
  {
   "cell_type": "code",
   "execution_count": null,
   "id": "89854312",
   "metadata": {},
   "outputs": [],
   "source": [
    "drop_non_clustered_indexes(\"products\", get_database_name(), output=False)\n",
    "\n",
    "query = \"\"\"\n",
    "CREATE INDEX idx_price ON products(price);\n",
    "\"\"\"\n",
    "\n",
    "execute_query(query, database=get_database_name(), print_as_df=False, show_metrics=False)\n",
    "\n",
    "query = \"\"\"\n",
    "SELECT * FROM products WHERE price > 850;\n",
    "\"\"\"\n",
    "\n",
    "execute_query(query, database=get_database_name(), print_as_df=False, show_metrics=True)\n",
    "execute_query(\"EXPLAIN \"+ query, database=get_database_name(), print_as_df=True, show_metrics=False)"
   ]
  },
  {
   "cell_type": "code",
   "execution_count": null,
   "id": "aaae4feb",
   "metadata": {},
   "outputs": [],
   "source": [
    "drop_non_clustered_indexes(\"products\", get_database_name(), output=False)\n",
    "\n",
    "clear_mysql_cache()\n",
    "\n",
    "query = \"\"\"\n",
    "CREATE INDEX idx_price ON products(price);\n",
    "\"\"\"\n",
    "\n",
    "execute_query(query, database=get_database_name(), print_as_df=False, show_metrics=False)\n",
    "\n",
    "query = \"\"\"\n",
    "SELECT * FROM products WHERE price > 950;\n",
    "\"\"\"\n",
    "\n",
    "execute_query(query, database=get_database_name(), print_as_df=False, show_metrics=True)\n",
    "execute_query(\"EXPLAIN \"+ query, database=get_database_name(), print_as_df=True, show_metrics=False)"
   ]
  },
  {
   "cell_type": "code",
   "execution_count": null,
   "id": "93114325",
   "metadata": {},
   "outputs": [],
   "source": [
    "drop_non_clustered_indexes(\"products\", get_database_name(), output=False)\n",
    "\n",
    "clear_mysql_cache()\n",
    "\n",
    "query = \"\"\"\n",
    "CREATE INDEX idx_price ON products(price);\n",
    "\"\"\"\n",
    "\n",
    "execute_query(query, database=get_database_name(), print_as_df=False, show_metrics=False)\n",
    "\n",
    "query = \"\"\"\n",
    "SELECT * FROM products WHERE price > 998;\n",
    "\"\"\"\n",
    "\n",
    "execute_query(query, database=get_database_name(), print_as_df=False, show_metrics=True)\n",
    "execute_query(\"EXPLAIN \"+ query, database=get_database_name(), print_as_df=True, show_metrics=False)"
   ]
  },
  {
   "cell_type": "markdown",
   "id": "e1bd28cf",
   "metadata": {},
   "source": [
    "It seems like it first happened when the execution planer first thought that 100 percent of the rows hit would be affected by the where clause. That seems a bit odd to me, the difference between is between when the price is over 851 then it use a full scan and over 852 then it uses a range scan"
   ]
  },
  {
   "cell_type": "code",
   "execution_count": null,
   "id": "a89a7f58",
   "metadata": {},
   "outputs": [],
   "source": [
    "query = \"\"\"\n",
    "SELECT avg(price) from products;\n",
    "\"\"\"\n",
    "\n",
    "execute_query(query, database=get_database_name(), print_as_df=True, show_metrics=True)"
   ]
  }
 ],
 "metadata": {
  "kernelspec": {
   "display_name": "venv (3.13.7)",
   "language": "python",
   "name": "python3"
  },
  "language_info": {
   "codemirror_mode": {
    "name": "ipython",
    "version": 3
   },
   "file_extension": ".py",
   "mimetype": "text/x-python",
   "name": "python",
   "nbconvert_exporter": "python",
   "pygments_lexer": "ipython3",
   "version": "3.13.7"
  }
 },
 "nbformat": 4,
 "nbformat_minor": 5
}
