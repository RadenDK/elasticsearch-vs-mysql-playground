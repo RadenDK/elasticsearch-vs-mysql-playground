{
 "cells": [
  {
   "cell_type": "markdown",
   "id": "38d9385b",
   "metadata": {},
   "source": [
    "### So this note book as to be run sequentially because of the dropping of indexes and not updating them again"
   ]
  },
  {
   "cell_type": "code",
   "execution_count": null,
   "id": "11a65d95",
   "metadata": {},
   "outputs": [],
   "source": [
    "from helpers.db.db_setup_methods import *\n",
    "from helpers.db.db_query_methods import *\n",
    "\n",
    "from helpers.db.db_helper_methods import *\n",
    "\n",
    "init_db(20000)"
   ]
  },
  {
   "cell_type": "markdown",
   "id": "b6f4969a",
   "metadata": {},
   "source": [
    "This is just to test out how mysql will explain different joins and if index'es affect them"
   ]
  },
  {
   "cell_type": "code",
   "execution_count": null,
   "id": "1512c99f",
   "metadata": {},
   "outputs": [],
   "source": [
    "display(show_table_indexes(\"products\", get_database_name()))\n",
    "display(show_table_indexes(\"categories\", get_database_name()))"
   ]
  },
  {
   "cell_type": "code",
   "execution_count": null,
   "id": "09642d5e",
   "metadata": {},
   "outputs": [],
   "source": [
    "query = \"\"\"\n",
    "SELECT * FROM products INNER JOIN categories ON products.category_id = categories.id\n",
    "\"\"\"\n",
    "\n",
    "execute_query(query, database=get_database_name(), print_as_df=False, show_metrics=True)\n",
    "execute_query(\"EXPLAIN \"+ query, database=get_database_name(), print_as_df=True, show_metrics=False)\n"
   ]
  },
  {
   "cell_type": "code",
   "execution_count": null,
   "id": "49a712f7",
   "metadata": {},
   "outputs": [],
   "source": [
    "query = \"\"\"\n",
    "SELECT * FROM products LEFT JOIN categories ON products.category_id = categories.id\n",
    "\"\"\"\n",
    "\n",
    "execute_query(query, database=get_database_name(), print_as_df=False, show_metrics=True)\n",
    "execute_query(\"EXPLAIN \"+ query, database=get_database_name(), print_as_df=True, show_metrics=False)\n"
   ]
  },
  {
   "cell_type": "code",
   "execution_count": null,
   "id": "10d226e9",
   "metadata": {},
   "outputs": [],
   "source": [
    "query = \"\"\"\n",
    "SELECT * FROM products RIGHT JOIN categories ON products.category_id = categories.id\n",
    "\"\"\"\n",
    "\n",
    "execute_query(query, database=get_database_name(), print_as_df=False, show_metrics=True)\n",
    "execute_query(\"EXPLAIN \"+ query, database=get_database_name(), print_as_df=True, show_metrics=False)\n"
   ]
  },
  {
   "cell_type": "code",
   "execution_count": null,
   "id": "eb293ab1",
   "metadata": {},
   "outputs": [],
   "source": [
    "drop_non_clustered_indexes(\"categories\", get_database_name())\n",
    "display(show_table_indexes(\"products\", get_database_name()))\n",
    "display(show_table_indexes(\"categories\", get_database_name()))\n"
   ]
  },
  {
   "cell_type": "code",
   "execution_count": null,
   "id": "54cb0e4a",
   "metadata": {},
   "outputs": [],
   "source": [
    "query = \"\"\"\n",
    "SELECT * FROM products INNER JOIN categories ON products.category_id = categories.id\n",
    "\"\"\"\n",
    "\n",
    "execute_query(query, database=get_database_name(), print_as_df=False, show_metrics=True)\n",
    "execute_query(\"EXPLAIN \"+ query, database=get_database_name(), print_as_df=True, show_metrics=False)\n"
   ]
  },
  {
   "cell_type": "code",
   "execution_count": null,
   "id": "ec71461e",
   "metadata": {},
   "outputs": [],
   "source": [
    "query = \"\"\"\n",
    "SELECT * FROM products LEFT JOIN categories ON products.category_id = categories.id\n",
    "\"\"\"\n",
    "\n",
    "execute_query(query, database=get_database_name(), print_as_df=False, show_metrics=True)\n",
    "execute_query(\"EXPLAIN \"+ query, database=get_database_name(), print_as_df=True, show_metrics=False)\n"
   ]
  },
  {
   "cell_type": "code",
   "execution_count": null,
   "id": "f4d7ea64",
   "metadata": {},
   "outputs": [],
   "source": [
    "query = \"\"\"\n",
    "SELECT * FROM products RIGHT JOIN categories ON products.category_id = categories.id\n",
    "\"\"\"\n",
    "\n",
    "execute_query(query, database=get_database_name(), print_as_df=False, show_metrics=True)\n",
    "execute_query(\"EXPLAIN \"+ query, database=get_database_name(), print_as_df=True, show_metrics=False)\n"
   ]
  }
 ],
 "metadata": {
  "kernelspec": {
   "display_name": "venv (3.13.7)",
   "language": "python",
   "name": "python3"
  },
  "language_info": {
   "codemirror_mode": {
    "name": "ipython",
    "version": 3
   },
   "file_extension": ".py",
   "mimetype": "text/x-python",
   "name": "python",
   "nbconvert_exporter": "python",
   "pygments_lexer": "ipython3",
   "version": "3.13.7"
  }
 },
 "nbformat": 4,
 "nbformat_minor": 5
}
