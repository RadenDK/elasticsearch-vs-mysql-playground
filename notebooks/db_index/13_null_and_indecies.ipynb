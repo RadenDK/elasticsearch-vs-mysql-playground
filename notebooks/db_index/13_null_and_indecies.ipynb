{
 "cells": [
  {
   "cell_type": "markdown",
   "id": "9485f1ed",
   "metadata": {},
   "source": [
    "The idea with this is just to try and see if there is any thing special with null values in indexes.\n",
    "I thought i understood it as DB viewing null and like this has no value and therefor if you indexed on a column that is nullable then all the null values would not be index and if you searched for *WHERE name IS NULL* then i thought that it would be a full table scan.\n",
    "But this might not be the case so i will try to figure that out"
   ]
  },
  {
   "cell_type": "code",
   "execution_count": null,
   "id": "86727a96",
   "metadata": {},
   "outputs": [],
   "source": [
    "from helpers.db.db_setup_methods import *\n",
    "from helpers.db.db_query_methods import *\n",
    "\n",
    "from helpers.db.db_helper_methods import *\n",
    "\n",
    "init_db(20000)\n",
    "\n",
    "execute_query(\"SHOW TABLES\", database=get_database_name(), print_as_df=True, show_metrics=False)\n",
    "\n",
    "print(\"Products table\")\n",
    "execute_query(\"DESC products\", database=get_database_name(), print_as_df=True, show_metrics=False)\n",
    "\n",
    "print(\"Brands table\")\n",
    "execute_query(\"DESC availability\", database=get_database_name(), print_as_df=True, show_metrics=False)\n",
    "\n",
    "print(\"Brands table\")\n",
    "execute_query(\"DESC brands\", database=get_database_name(), print_as_df=True, show_metrics=False)\n",
    "\n",
    "print(\"Categories table\")\n",
    "execute_query(\"DESC categories\", database=get_database_name(), print_as_df=True, show_metrics=False)\n",
    "\n",
    "print(\"Colors table\")\n",
    "execute_query(\"DESC colors\", database=get_database_name(), print_as_df=True, show_metrics=False)"
   ]
  },
  {
   "cell_type": "markdown",
   "id": "a1cad47b",
   "metadata": {},
   "source": [
    "So i will try to set some of the fields to null to see what the explain says"
   ]
  },
  {
   "cell_type": "code",
   "execution_count": null,
   "id": "ce97c2b7",
   "metadata": {},
   "outputs": [],
   "source": [
    "query = \"\"\"\n",
    "UPDATE products\n",
    "SET price = NULL\n",
    "WHERE id <= 1000\n",
    "\"\"\"\n",
    "\n",
    "execute_query(query, database=get_database_name(), print_as_df=False, show_metrics=False)"
   ]
  },
  {
   "cell_type": "code",
   "execution_count": null,
   "id": "ce2f54ba",
   "metadata": {},
   "outputs": [],
   "source": [
    "drop_non_clustered_indexes(\"products\", get_database_name(), output=False)\n",
    "\n",
    "query = \"\"\"\n",
    "SELECT * FROM products WHERE price IS NULL;\n",
    "\"\"\"\n",
    "\n",
    "execute_query(query, database=get_database_name(), print_as_df=False, show_metrics=True)\n",
    "execute_query(\"EXPLAIN \"+ query, database=get_database_name(), print_as_df=True, show_metrics=False)"
   ]
  },
  {
   "cell_type": "code",
   "execution_count": null,
   "id": "6ce07eea",
   "metadata": {},
   "outputs": [],
   "source": [
    "drop_non_clustered_indexes(\"products\", get_database_name(), output=False)\n",
    "\n",
    "query = \"\"\"\n",
    "SELECT * FROM products WHERE price = 100;\n",
    "\"\"\"\n",
    "\n",
    "execute_query(query, database=get_database_name(), print_as_df=False, show_metrics=True)\n",
    "execute_query(\"EXPLAIN \"+ query, database=get_database_name(), print_as_df=True, show_metrics=False)"
   ]
  },
  {
   "cell_type": "code",
   "execution_count": null,
   "id": "65723eed",
   "metadata": {},
   "outputs": [],
   "source": [
    "drop_non_clustered_indexes(\"products\", get_database_name(), output=False)\n",
    "\n",
    "query = \"\"\"\n",
    "CREATE INDEX idx_price ON products (price);\n",
    "\"\"\"\n",
    "\n",
    "execute_query(query, database=get_database_name(), print_as_df=False, show_metrics=False)\n",
    "\n",
    "query = \"\"\"\n",
    "SELECT * FROM products WHERE price IS NULL;\n",
    "\"\"\"\n",
    "\n",
    "execute_query(query, database=get_database_name(), print_as_df=False, show_metrics=True)\n",
    "execute_query(\"EXPLAIN \"+ query, database=get_database_name(), print_as_df=True, show_metrics=False)"
   ]
  },
  {
   "cell_type": "code",
   "execution_count": null,
   "id": "60119646",
   "metadata": {},
   "outputs": [],
   "source": [
    "drop_non_clustered_indexes(\"products\", get_database_name(), output=False)\n",
    "\n",
    "query = \"\"\"\n",
    "CREATE INDEX idx_price ON products (price);\n",
    "\"\"\"\n",
    "\n",
    "execute_query(query, database=get_database_name(), print_as_df=False, show_metrics=True)\n",
    "\n",
    "query = \"\"\"\n",
    "SELECT * FROM products WHERE price = 100;\n",
    "\"\"\"\n",
    "\n",
    "execute_query(query, database=get_database_name(), print_as_df=False, show_metrics=True)\n",
    "execute_query(\"EXPLAIN \"+ query, database=get_database_name(), print_as_df=True, show_metrics=False)"
   ]
  },
  {
   "cell_type": "markdown",
   "id": "d40d5d25",
   "metadata": {},
   "source": [
    "So this seems to me to indicate the null values does get stored in the index"
   ]
  },
  {
   "cell_type": "markdown",
   "id": "ed8c8e0a",
   "metadata": {},
   "source": [
    "It was because i have read the articles on use the index luke where he talks about the ORACLE DB storign nullable columns as partiel indexes or something. But taht is not the case with mysql"
   ]
  }
 ],
 "metadata": {
  "kernelspec": {
   "display_name": "venv (3.13.7)",
   "language": "python",
   "name": "python3"
  },
  "language_info": {
   "codemirror_mode": {
    "name": "ipython",
    "version": 3
   },
   "file_extension": ".py",
   "mimetype": "text/x-python",
   "name": "python",
   "nbconvert_exporter": "python",
   "pygments_lexer": "ipython3",
   "version": "3.13.7"
  }
 },
 "nbformat": 4,
 "nbformat_minor": 5
}
