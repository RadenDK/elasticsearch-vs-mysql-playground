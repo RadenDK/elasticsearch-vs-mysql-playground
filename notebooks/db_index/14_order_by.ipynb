{
 "cells": [
  {
   "cell_type": "code",
   "execution_count": null,
   "id": "aa3b3e7c",
   "metadata": {},
   "outputs": [],
   "source": [
    "from helpers.db.db_setup_methods import *\n",
    "from helpers.db.db_query_methods import *\n",
    "\n",
    "from helpers.db.db_helper_methods import *\n",
    "\n",
    "record_size = 2_000_000\n",
    "\n",
    "init_db(record_size)\n"
   ]
  },
  {
   "cell_type": "markdown",
   "id": "2ae827ca",
   "metadata": {},
   "source": [
    "This is just to try and playaround with the order by and see how indexing influeces them. At first i just want to setup something to see the order and what indexing would imfluence the query.\n",
    "\n",
    "the assumption would be that if you have a index with the key of a column you are ordering by that you should instead of having to load everything into memory and then sort it then it should be able to just use the index to avoid the sort process."
   ]
  },
  {
   "cell_type": "code",
   "execution_count": null,
   "id": "ef90d522",
   "metadata": {},
   "outputs": [],
   "source": [
    "drop_non_clustered_indexes(\"products\", get_database_name())\n",
    "\n",
    "query = \"\"\"\n",
    "SELECT *\n",
    "FROM products\n",
    "WHERE size = 'Large'\n",
    "ORDER BY price ASC;\n",
    "\"\"\"\n",
    "\n",
    "execute_query(query, database=get_database_name(), print_as_df=False, show_metrics=True)\n",
    "execute_query(\"EXPLAIN \" + query, database=get_database_name(), print_as_df=True, show_metrics=False)"
   ]
  },
  {
   "cell_type": "code",
   "execution_count": null,
   "id": "8f7668b8",
   "metadata": {},
   "outputs": [],
   "source": [
    "drop_non_clustered_indexes(\"products\", get_database_name())\n",
    "\n",
    "query = \"\"\"\n",
    "CREATE INDEX idx_size_price ON products (size, price ASC);\n",
    "\"\"\"\n",
    "\n",
    "execute_query(query, database=get_database_name(), print_as_df=False, show_metrics=False)\n",
    "\n",
    "query = \"\"\"\n",
    "SELECT *\n",
    "FROM products\n",
    "WHERE size = 'Large'\n",
    "ORDER BY price ASC;\n",
    "\"\"\"\n",
    "\n",
    "execute_query(query, database=get_database_name(), print_as_df=False, show_metrics=True)\n",
    "execute_query(\"EXPLAIN \" + query, database=get_database_name(), print_as_df=True, show_metrics=False)"
   ]
  },
  {
   "cell_type": "code",
   "execution_count": null,
   "id": "8b388949",
   "metadata": {},
   "outputs": [],
   "source": [
    "drop_non_clustered_indexes(\"products\", get_database_name())\n",
    "\n",
    "\n",
    "query = \"\"\"\n",
    "CREATE INDEX idx_price ON products (price);\n",
    "\"\"\"\n",
    "\n",
    "execute_query(query, database=get_database_name(), print_as_df=False, show_metrics=False)\n",
    "\n",
    "query = \"\"\"\n",
    "SELECT *\n",
    "FROM products\n",
    "WHERE size = 'Large'\n",
    "ORDER BY price ASC;\n",
    "\"\"\"\n",
    "\n",
    "execute_query(query, database=get_database_name(), print_as_df=False, show_metrics=True)\n",
    "execute_query(\"EXPLAIN \" + query, database=get_database_name(), print_as_df=True, show_metrics=False)"
   ]
  },
  {
   "cell_type": "code",
   "execution_count": null,
   "id": "4a002a83",
   "metadata": {},
   "outputs": [],
   "source": [
    "drop_non_clustered_indexes(\"products\", get_database_name())\n",
    "\n",
    "query = \"\"\"\n",
    "CREATE INDEX idx_price_size ON products (price, size);\n",
    "\"\"\"\n",
    "\n",
    "execute_query(query, database=get_database_name(), print_as_df=False, show_metrics=False)\n",
    "\n",
    "query = \"\"\"\n",
    "SELECT *\n",
    "FROM products\n",
    "WHERE size = 'Large'\n",
    "ORDER BY price ASC;\n",
    "\"\"\"\n",
    "\n",
    "execute_query(query, database=get_database_name(), print_as_df=False, show_metrics=True)\n",
    "execute_query(\"EXPLAIN \" + query, database=get_database_name(), print_as_df=True, show_metrics=False)"
   ]
  },
  {
   "cell_type": "markdown",
   "id": "472bfb51",
   "metadata": {},
   "source": [
    "So something interresting is that at a high record count of 2M the index of size, price is acutally taking twice as long as the other quries but at a lower dataamount like 20K then it is faster. \n",
    "I want to test why that is, at first i am thinking that maybe it has something to do with it fetching like around 5-10 percent of the db with the where size = 'large'. So i want to test it on price instead"
   ]
  },
  {
   "cell_type": "code",
   "execution_count": null,
   "id": "6d8beb09",
   "metadata": {},
   "outputs": [],
   "source": [
    "drop_non_clustered_indexes(\"products\", get_database_name())\n",
    "\n",
    "query = \"\"\"\n",
    "SELECT *\n",
    "FROM products\n",
    "WHERE price = 999\n",
    "ORDER BY size ASC;\n",
    "\"\"\"\n",
    "\n",
    "execute_query(query, database=get_database_name(), print_as_df=False, show_metrics=True)\n",
    "execute_query(\"EXPLAIN \" + query, database=get_database_name(), print_as_df=True, show_metrics=False)"
   ]
  },
  {
   "cell_type": "code",
   "execution_count": null,
   "id": "f98c0ca7",
   "metadata": {},
   "outputs": [],
   "source": [
    "drop_non_clustered_indexes(\"products\", get_database_name())\n",
    "\n",
    "query = \"\"\"\n",
    "CREATE INDEX idx_size_price ON products (price, size ASC);\n",
    "\"\"\"\n",
    "\n",
    "execute_query(query, database=get_database_name(), print_as_df=False, show_metrics=False)\n",
    "\n",
    "query = \"\"\"\n",
    "SELECT *\n",
    "FROM products\n",
    "WHERE price = 999\n",
    "ORDER BY size ASC;\n",
    "\"\"\"\n",
    "\n",
    "execute_query(query, database=get_database_name(), print_as_df=False, show_metrics=True)\n",
    "execute_query(\"EXPLAIN \" + query, database=get_database_name(), print_as_df=True, show_metrics=False)"
   ]
  },
  {
   "cell_type": "markdown",
   "id": "c4eb9354",
   "metadata": {},
   "source": [
    "This was faster but now i am thinking maybe it has to do with the I/O read of the data so lets instead turn it into being able to do a single index read."
   ]
  },
  {
   "cell_type": "code",
   "execution_count": null,
   "id": "e8673c49",
   "metadata": {},
   "outputs": [],
   "source": [
    "drop_non_clustered_indexes(\"products\", get_database_name())\n",
    "\n",
    "query = \"\"\"\n",
    "SELECT size, price\n",
    "FROM products\n",
    "WHERE size = 'Large'\n",
    "ORDER BY price ASC;\n",
    "\"\"\"\n",
    "\n",
    "execute_query(query, database=get_database_name(), print_as_df=False, show_metrics=True)\n",
    "execute_query(\"EXPLAIN \" + query, database=get_database_name(), print_as_df=True, show_metrics=False)"
   ]
  },
  {
   "cell_type": "code",
   "execution_count": null,
   "id": "1822d504",
   "metadata": {},
   "outputs": [],
   "source": [
    "drop_non_clustered_indexes(\"products\", get_database_name())\n",
    "\n",
    "query = \"\"\"\n",
    "CREATE INDEX idx_size_price ON products (size, price ASC);\n",
    "\"\"\"\n",
    "\n",
    "execute_query(query, database=get_database_name(), print_as_df=False, show_metrics=False)\n",
    "\n",
    "query = \"\"\"\n",
    "SELECT size, price\n",
    "FROM products\n",
    "WHERE size = 'Large'\n",
    "ORDER BY price ASC;\n",
    "\"\"\"\n",
    "\n",
    "execute_query(query, database=get_database_name(), print_as_df=False, show_metrics=True)\n",
    "execute_query(\"EXPLAIN \" + query, database=get_database_name(), print_as_df=True, show_metrics=False)"
   ]
  },
  {
   "cell_type": "markdown",
   "id": "28d1f531",
   "metadata": {},
   "source": [
    "Yeah, now it is faster. So it had to do with eventhough it didn't have to do the sorting the sorting was quicker than having to do the indivdual i/o reads of the data to fetch every value for the select * part.\n",
    "\n",
    "It is funny that the index acutally made it slower than just a full scan.\n",
    "\n",
    "So also the reason why the quries where i did price = 999 order by size the reason why the index made it faster was possibly just the amount of records that it fetched."
   ]
  }
 ],
 "metadata": {
  "kernelspec": {
   "display_name": "venv (3.13.7)",
   "language": "python",
   "name": "python3"
  },
  "language_info": {
   "codemirror_mode": {
    "name": "ipython",
    "version": 3
   },
   "file_extension": ".py",
   "mimetype": "text/x-python",
   "name": "python",
   "nbconvert_exporter": "python",
   "pygments_lexer": "ipython3",
   "version": "3.13.7"
  }
 },
 "nbformat": 4,
 "nbformat_minor": 5
}
