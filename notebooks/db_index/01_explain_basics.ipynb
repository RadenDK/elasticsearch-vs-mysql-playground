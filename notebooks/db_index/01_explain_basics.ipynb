{
 "cells": [
  {
   "cell_type": "markdown",
   "id": "326919b8",
   "metadata": {},
   "source": [
    "## Understanding MySQL `EXPLAIN`\n",
    "\n",
    "The MySQL `EXPLAIN` command is a powerful tool that helps us understand how MySQL plans to execute a query. It provides detailed information about what MySQL will do behind the scenes, which is very useful for learning about indexing, query optimization, and database performance. Key columns in the `EXPLAIN` output include:\n",
    "\n",
    "- **`select_type`**: Indicates the type of `SELECT` being performed. For example, whether it is a **simple** select (just retrieving rows) or a **primary/select with subqueries**. This helps differentiate between straightforward queries and more complex ones.\n",
    "\n",
    "- **`table`**: The name of the table being accessed by the query.\n",
    "\n",
    "- **`partitions`**: Shows which partitions of a table (if the table is partitioned) are being scanned. Partitioning allows MySQL to split data across different sections for performance.\n",
    "\n",
    "- **`type`**: Often the most important column. It tells you the join type MySQL is using and whether it will scan the full table or use an index. Common values include:\n",
    "  - `ALL` → full table scan (slow)\n",
    "  - `index` → full index scan\n",
    "  - `ref` → index lookup by non-unique key\n",
    "  - `eq_ref` → unique index lookup\n",
    "  - `const`/`system` → very fast, single-row lookups\n",
    "\n",
    "- **`possible_keys`**: Shows which indexes MySQL **could potentially** use to execute the query. These are candidate indexes, but MySQL may not actually use them.\n",
    "\n",
    "- **`key`**: The index MySQL **actually chose** to use for the query.\n",
    "\n",
    "- **`key_len`**: The length of the key MySQL decided to use. This indicates how much of the index is being leveraged, which can affect performance.\n",
    "\n",
    "- **`ref`**: Shows which column or constant is being used to match rows against the key. For example, it could be a column in the query or a constant value from a `WHERE` clause.\n",
    "\n",
    "- **`rows`**: An estimate of the number of rows MySQL expects to examine to execute the query. This is based on table statistics.\n",
    "\n",
    "- **`filtered`**: A percentage estimate of how many rows will actually match the `WHERE` conditions after filtering. This helps understand MySQL's selectivity predictions.\n",
    "\n",
    "- **`Extra`**: Additional notes about the query execution. Common examples:\n",
    "  - `Using where` → MySQL is applying a `WHERE` filter after reading rows\n",
    "  - `Using index` → MySQL is retrieving all information from the index without accessing the table itself\n",
    "  - `Using temporary` → MySQL needs a temporary table (e.g., for `GROUP BY` or `ORDER BY`)\n",
    "  - `Using filesort` → MySQL must sort results outside of the index\n",
    "\n",
    "In this notebook, we will explore these fields in more depth and observe how they change depending on different queries and indexing strategies. Understanding `EXPLAIN` is key to writing efficient SQL queries and leveraging indexes properly.\n",
    "\n",
    "A good article is this: https://planetscale.com/blog/how-read-mysql-explains"
   ]
  },
  {
   "cell_type": "markdown",
   "id": "9fa221cc",
   "metadata": {},
   "source": [
    "### Database initialization and table information"
   ]
  },
  {
   "cell_type": "code",
   "execution_count": null,
   "id": "a0512b5a",
   "metadata": {},
   "outputs": [],
   "source": [
    "from helpers.db.db_setup_methods import *\n",
    "from helpers.db.db_query_methods import *\n",
    "\n",
    "from helpers.db.db_helper_methods import *\n",
    "\n",
    "init_db(20000)\n",
    "\n",
    "execute_query(\"SHOW TABLES\", database=get_database_name(), print_as_df=True, show_metrics=False)\n",
    "\n",
    "print(\"Products table\")\n",
    "execute_query(\"DESC products\", database=get_database_name(), print_as_df=True, show_metrics=False)\n",
    "\n",
    "print(\"Brands table\")\n",
    "execute_query(\"DESC availability\", database=get_database_name(), print_as_df=True, show_metrics=False)\n",
    "\n",
    "print(\"Brands table\")\n",
    "execute_query(\"DESC brands\", database=get_database_name(), print_as_df=True, show_metrics=False)\n",
    "\n",
    "print(\"Categories table\")\n",
    "execute_query(\"DESC categories\", database=get_database_name(), print_as_df=True, show_metrics=False)\n",
    "\n",
    "print(\"Colors table\")\n",
    "execute_query(\"DESC colors\", database=get_database_name(), print_as_df=True, show_metrics=False)\n",
    "\n"
   ]
  },
  {
   "cell_type": "markdown",
   "id": "b930bef6",
   "metadata": {},
   "source": [
    "# select_type"
   ]
  },
  {
   "cell_type": "markdown",
   "id": "9718ce3c",
   "metadata": {},
   "source": [
    "#### **Case 1**: Simple `SELECT` with a `WHERE` condition\n",
    "\n",
    "This query is straightforward:\n",
    "\n",
    "* We select all product names where the price is less than 100.\n",
    "\n",
    "* Since there are no joins, no subqueries, and no grouping, the query plan is very simple.\n",
    "\n",
    "* The optimizer just needs to scan the `products` table and filter rows based on the condition `price < 100`.\n",
    "\n",
    "In the `EXPLAIN` output, you’ll see only one row, because only one query block is involved.\n",
    "This is what MySQL calls a SIMPLE query.\n",
    "\n",
    "*side note, this would be the exact same without the where*"
   ]
  },
  {
   "cell_type": "code",
   "execution_count": null,
   "id": "0ccc7206",
   "metadata": {},
   "outputs": [],
   "source": [
    "query = \"\"\"\n",
    "EXPLAIN SELECT name FROM products WHERE price < 100;\n",
    "\"\"\"\n",
    "\n",
    "execute_query(query, database=get_database_name(), print_as_df=True, show_metrics=False)"
   ]
  },
  {
   "cell_type": "markdown",
   "id": "aafc4a8c",
   "metadata": {},
   "source": [
    "### Case 2: Query with a subquery\n",
    "\n",
    "Here, we add a subquery:\n",
    "\n",
    "* The inner query `(SELECT AVG(price) FROM products)` calculates the average price.\n",
    "\n",
    "* The outer query then compares each product’s price to that average.\n",
    "\n",
    "In the `EXPLAIN` output:\n",
    "\n",
    "* The first row is labeled `PRIMARY`, meaning it’s the main query block.\n",
    "\n",
    "* The second row is labeled `SUBQUERY`, representing the inner `SELECT`.\n",
    "\n",
    "Even though the first row looks similar to the one in Case 1, it’s now called `PRIMARY` because the overall statement contains more than one query block.\n",
    "\n",
    "👉 Rule of thumb:\n",
    "\n",
    "* If there’s only one query block, you’ll see `SIMPLE`.\n",
    "\n",
    "* If there are multiple blocks (because of subqueries, unions, etc.), the outermost one becomes `PRIMARY`."
   ]
  },
  {
   "cell_type": "code",
   "execution_count": null,
   "id": "8db4a0f8",
   "metadata": {},
   "outputs": [],
   "source": [
    "query = \"\"\"\n",
    "EXPLAIN\n",
    "SELECT name\n",
    "FROM products\n",
    "WHERE price < (SELECT AVG(price) FROM products);\n",
    "\"\"\"\n",
    "\n",
    "execute_query(query, database=get_database_name(), print_as_df=True, show_metrics=False)"
   ]
  },
  {
   "cell_type": "markdown",
   "id": "3fd5b9fa",
   "metadata": {},
   "source": [
    "### Case 3: Derived table\n",
    "\n",
    "This looks different from Case 2:\n",
    "\n",
    "* Instead of a subquery in the `WHERE` clause, here we build a derived table (sometimes called a *subselect* in the *`FROM`* clause).\n",
    "\n",
    "* The inner query groups products by category and calculates the average price per category.\n",
    "\n",
    "* That result set (the grouped averages) is treated like a temporary table named `sub`.\n",
    "\n",
    "* The outer query then simply selects from this derived table.\n",
    "\n",
    "In the `EXPLAIN` output:\n",
    "\n",
    "* The inner query is labeled DERIVED.\n",
    "\n",
    "* This means MySQL must materialize the results of the inner query into a temporary result set before the outer query can run.\n",
    "\n",
    "* The outer query shows up as `PRIMARY`, since it’s the main block.\n",
    "\n",
    "👉 Difference between subquery and derived table:\n",
    "\n",
    "* Subquery: Appears in a `WHERE`, `HAVING`, or `SELECT` clause; usually produces a scalar value (like one number) or is used in an `IN` condition.\n",
    "\n",
    "* Derived table: Appears in the `FROM` clause and produces a table-like result set that the outer query can work with."
   ]
  },
  {
   "cell_type": "code",
   "execution_count": null,
   "id": "041110e3",
   "metadata": {},
   "outputs": [],
   "source": [
    "query = \"\"\"\n",
    "EXPLAIN\n",
    "SELECT sub.avg_price\n",
    "FROM (\n",
    "    SELECT category_id, AVG(price) AS avg_price\n",
    "    FROM products\n",
    "    GROUP BY category_id\n",
    ") AS sub;\n",
    "\"\"\"\n",
    "\n",
    "execute_query(query, database=get_database_name(), print_as_df=True, show_metrics=False)"
   ]
  },
  {
   "cell_type": "markdown",
   "id": "7e67a4f2",
   "metadata": {},
   "source": [
    "### Case 4: Query with `UNION`\n",
    "\n",
    "Here we combine two separate result sets into one using UNION:\n",
    "\n",
    "* The first query block selects product names where price < 50.\n",
    "\n",
    "* The second query block selects product names where price > 500.\n",
    "\n",
    "* UNION merges them and removes duplicates by default (if you want duplicates allowed, you would use UNION ALL).\n",
    "\n",
    "In the EXPLAIN output:\n",
    "\n",
    "* Each SELECT statement gets its own row: one for the first query and one for the second.\n",
    "\n",
    "* The outermost block is labeled PRIMARY.\n",
    "\n",
    "* The inner blocks show as UNION queries, since their results are combined into the final output.\n",
    "\n",
    "👉 Key point:\n",
    "\n",
    "* UNION forces MySQL to execute each query separately and then merge the results.\n",
    "\n",
    "* That’s why you see multiple blocks in the execution plan."
   ]
  },
  {
   "cell_type": "code",
   "execution_count": null,
   "id": "64708a22",
   "metadata": {},
   "outputs": [],
   "source": [
    "query = \"\"\"\n",
    "EXPLAIN\n",
    "SELECT name FROM products WHERE price < 50\n",
    "UNION\n",
    "SELECT name FROM products WHERE price > 500;\n",
    "\"\"\"\n",
    "\n",
    "execute_query(query, database=get_database_name(), print_as_df=True, show_metrics=False)"
   ]
  },
  {
   "cell_type": "markdown",
   "id": "a7e5fa1f",
   "metadata": {},
   "source": [
    "### Case 5: Correlated subquery\n",
    "\n",
    "This query introduces a correlated subquery:\n",
    "\n",
    "* The outer query (p1) selects product names.\n",
    "\n",
    "* For each product, the inner query (p2) calculates the average price within the same category as that product (p2.category_id = p1.category_id).\n",
    "\n",
    "* The outer query then checks whether the product’s price is less than that category’s average.\n",
    "\n",
    "In the EXPLAIN output:\n",
    "\n",
    "* The outer query appears as PRIMARY.\n",
    "\n",
    "* The inner query appears as DEPENDENT SUBQUERY (instead of just SUBQUERY).\n",
    "\n",
    "* This label means the subquery depends on a value from the outer query (p1.category_id).\n",
    "\n",
    "MySQL must run the subquery once per row of the outer query, which can be much slower than a simple subquery.\n",
    "\n",
    "👉 Key point:\n",
    "\n",
    "* Regular subquery: Can often be executed once and reused.\n",
    "\n",
    "* Correlated subquery: Must be re-evaluated for every row of the outer query, which is less efficient."
   ]
  },
  {
   "cell_type": "code",
   "execution_count": null,
   "id": "5f62aa2d",
   "metadata": {},
   "outputs": [],
   "source": [
    "query = \"\"\"\n",
    "EXPLAIN\n",
    "SELECT p1.name\n",
    "FROM products p1\n",
    "WHERE p1.price < (\n",
    "    SELECT AVG(p2.price)\n",
    "    FROM products p2\n",
    "    WHERE p2.category_id = p1.category_id\n",
    ");\n",
    "\"\"\"\n",
    "\n",
    "execute_query(query, database=get_database_name(), print_as_df=True, show_metrics=False)"
   ]
  },
  {
   "cell_type": "markdown",
   "id": "11a2e298",
   "metadata": {},
   "source": [
    "# type"
   ]
  },
  {
   "cell_type": "code",
   "execution_count": null,
   "id": "7c88c0fe",
   "metadata": {},
   "outputs": [],
   "source": [
    "query = \"\"\"\n",
    "EXPLAIN SELECT 1+1;\n",
    "\"\"\"\n",
    "\n",
    "execute_query(query, database=get_database_name(), print_as_df=True, show_metrics=False)"
   ]
  },
  {
   "cell_type": "code",
   "execution_count": null,
   "id": "ed248b53",
   "metadata": {},
   "outputs": [],
   "source": [
    "query = \"\"\"\n",
    "EXPLAIN SELECT * FROM products WHERE id = 123;\n",
    "\"\"\"\n",
    "\n",
    "execute_query(query, database=get_database_name(), print_as_df=True, show_metrics=False)"
   ]
  },
  {
   "cell_type": "code",
   "execution_count": null,
   "id": "b92899fd",
   "metadata": {},
   "outputs": [],
   "source": [
    "query = \"\"\"\n",
    "EXPLAIN\n",
    "SELECT products.name, categories.name\n",
    "FROM products products\n",
    "JOIN categories ON products.category_id = categories.id;\n",
    "\"\"\"\n",
    "\n",
    "execute_query(query, database=get_database_name(), print_as_df=True, show_metrics=False)"
   ]
  },
  {
   "cell_type": "code",
   "execution_count": null,
   "id": "157bb818",
   "metadata": {},
   "outputs": [],
   "source": [
    "query = \"\"\"\n",
    "EXPLAIN SELECT * FROM products WHERE category_id = 5;\n",
    "\"\"\"\n",
    "\n",
    "execute_query(query, database=get_database_name(), print_as_df=True, show_metrics=False)"
   ]
  },
  {
   "cell_type": "code",
   "execution_count": null,
   "id": "fcdc5e92",
   "metadata": {},
   "outputs": [],
   "source": [
    "drop_non_clustered_indexes(table_name=\"products\", database=get_database_name())\n",
    "\n",
    "query = \"CREATE FULLTEXT INDEX idx_name ON products(name);\"\n",
    "\n",
    "execute_query(query, database=get_database_name(), print_as_df=True, show_metrics=False)\n",
    "\n",
    "query = \"\"\"\n",
    "EXPLAIN SELECT * FROM products WHERE MATCH(name) AGAINST('Charger');\n",
    "\"\"\"\n",
    "\n",
    "execute_query(query, database=get_database_name(), print_as_df=True, show_metrics=True)"
   ]
  },
  {
   "cell_type": "code",
   "execution_count": null,
   "id": "bf37d7cf",
   "metadata": {},
   "outputs": [],
   "source": [
    "query = \"\"\"\n",
    "CREATE INDEX idx_price ON products(price);\n",
    "\"\"\"\n",
    "\n",
    "execute_query(query, database=get_database_name(), print_as_df=True, show_metrics=False)\n",
    "\n",
    "query = \"\"\"\n",
    "EXPLAIN SELECT price FROM products ORDER BY price;\n",
    "\"\"\"\n",
    "\n",
    "execute_query(query, database=get_database_name(), print_as_df=True, show_metrics=False)"
   ]
  },
  {
   "cell_type": "code",
   "execution_count": null,
   "id": "728fd763",
   "metadata": {},
   "outputs": [],
   "source": [
    "query = \"\"\"\n",
    "EXPLAIN SELECT * FROM products WHERE name LIKE '%%Charger%%';\n",
    "\"\"\"\n",
    "\n",
    "execute_query(query, database=get_database_name(), print_as_df=True, show_metrics=False)"
   ]
  }
 ],
 "metadata": {
  "kernelspec": {
   "display_name": "venv (3.13.7)",
   "language": "python",
   "name": "python3"
  },
  "language_info": {
   "codemirror_mode": {
    "name": "ipython",
    "version": 3
   },
   "file_extension": ".py",
   "mimetype": "text/x-python",
   "name": "python",
   "nbconvert_exporter": "python",
   "pygments_lexer": "ipython3",
   "version": "3.13.7"
  }
 },
 "nbformat": 4,
 "nbformat_minor": 5
}
