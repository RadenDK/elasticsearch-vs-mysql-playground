{
 "cells": [
  {
   "cell_type": "markdown",
   "id": "bae76c65",
   "metadata": {},
   "source": [
    "# MySql Explain Basics"
   ]
  },
  {
   "cell_type": "markdown",
   "id": "326919b8",
   "metadata": {},
   "source": [
    "#TODO intro explaining what MySql explain is and does and how to use it"
   ]
  },
  {
   "cell_type": "markdown",
   "id": "9fa221cc",
   "metadata": {},
   "source": [
    "##### Database initialization"
   ]
  },
  {
   "cell_type": "code",
   "execution_count": null,
   "id": "a0512b5a",
   "metadata": {},
   "outputs": [
    {
     "name": "stdout",
     "output_type": "stream",
     "text": [
      "\n",
      "Starting insert into 'products' (20000 rows)...\n",
      "Finished inserting 20000 rows into 'products' in 0.36s.\n"
     ]
    }
   ],
   "source": [
    "from helpers.db.db_setup_methods import *\n",
    "from helpers.db.db_query_methods import *\n",
    "\n",
    "from helpers.db.db_helper_methods import *\n",
    "\n",
    "init_db(20000)"
   ]
  },
  {
   "cell_type": "code",
   "execution_count": null,
   "id": "455b40ae",
   "metadata": {},
   "outputs": [
    {
     "data": {
      "text/html": [
       "<div>\n",
       "<style scoped>\n",
       "    .dataframe tbody tr th:only-of-type {\n",
       "        vertical-align: middle;\n",
       "    }\n",
       "\n",
       "    .dataframe tbody tr th {\n",
       "        vertical-align: top;\n",
       "    }\n",
       "\n",
       "    .dataframe thead th {\n",
       "        text-align: right;\n",
       "    }\n",
       "</style>\n",
       "<table border=\"1\" class=\"dataframe\">\n",
       "  <thead>\n",
       "    <tr style=\"text-align: right;\">\n",
       "      <th></th>\n",
       "      <th>id</th>\n",
       "      <th>select_type</th>\n",
       "      <th>table</th>\n",
       "      <th>partitions</th>\n",
       "      <th>type</th>\n",
       "      <th>possible_keys</th>\n",
       "      <th>key</th>\n",
       "      <th>key_len</th>\n",
       "      <th>ref</th>\n",
       "      <th>rows</th>\n",
       "      <th>filtered</th>\n",
       "      <th>Extra</th>\n",
       "    </tr>\n",
       "  </thead>\n",
       "  <tbody>\n",
       "    <tr>\n",
       "      <th>0</th>\n",
       "      <td>1</td>\n",
       "      <td>SIMPLE</td>\n",
       "      <td>products</td>\n",
       "      <td>None</td>\n",
       "      <td>ALL</td>\n",
       "      <td>None</td>\n",
       "      <td>None</td>\n",
       "      <td>None</td>\n",
       "      <td>None</td>\n",
       "      <td>20000</td>\n",
       "      <td>100.0</td>\n",
       "      <td>None</td>\n",
       "    </tr>\n",
       "  </tbody>\n",
       "</table>\n",
       "</div>"
      ],
      "text/plain": [
       "   id select_type     table partitions type possible_keys   key key_len   ref  \\\n",
       "0   1      SIMPLE  products       None  ALL          None  None    None  None   \n",
       "\n",
       "    rows  filtered Extra  \n",
       "0  20000     100.0  None  "
      ]
     },
     "metadata": {},
     "output_type": "display_data"
    },
    {
     "name": "stdout",
     "output_type": "stream",
     "text": [
      "[QUERY METRICS] 1 rows fetched, 8.87 ms\n"
     ]
    }
   ],
   "source": [
    "query = f\"explain select * from products;\"\n",
    "\n",
    "execute_query(query, database=get_database_name(), print_as_df=True, show_metrics=True)"
   ]
  },
  {
   "cell_type": "code",
   "execution_count": null,
   "id": "9802945e",
   "metadata": {},
   "outputs": [
    {
     "data": {
      "text/html": [
       "<div>\n",
       "<style scoped>\n",
       "    .dataframe tbody tr th:only-of-type {\n",
       "        vertical-align: middle;\n",
       "    }\n",
       "\n",
       "    .dataframe tbody tr th {\n",
       "        vertical-align: top;\n",
       "    }\n",
       "\n",
       "    .dataframe thead th {\n",
       "        text-align: right;\n",
       "    }\n",
       "</style>\n",
       "<table border=\"1\" class=\"dataframe\">\n",
       "  <thead>\n",
       "    <tr style=\"text-align: right;\">\n",
       "      <th></th>\n",
       "      <th>id</th>\n",
       "      <th>select_type</th>\n",
       "      <th>table</th>\n",
       "      <th>partitions</th>\n",
       "      <th>type</th>\n",
       "      <th>possible_keys</th>\n",
       "      <th>key</th>\n",
       "      <th>key_len</th>\n",
       "      <th>ref</th>\n",
       "      <th>rows</th>\n",
       "      <th>filtered</th>\n",
       "      <th>Extra</th>\n",
       "    </tr>\n",
       "  </thead>\n",
       "  <tbody>\n",
       "    <tr>\n",
       "      <th>0</th>\n",
       "      <td>1</td>\n",
       "      <td>SIMPLE</td>\n",
       "      <td>products</td>\n",
       "      <td>None</td>\n",
       "      <td>range</td>\n",
       "      <td>PRIMARY,brand_id</td>\n",
       "      <td>PRIMARY</td>\n",
       "      <td>4</td>\n",
       "      <td>None</td>\n",
       "      <td>100</td>\n",
       "      <td>100.0</td>\n",
       "      <td>Using where</td>\n",
       "    </tr>\n",
       "    <tr>\n",
       "      <th>1</th>\n",
       "      <td>1</td>\n",
       "      <td>SIMPLE</td>\n",
       "      <td>brands</td>\n",
       "      <td>None</td>\n",
       "      <td>eq_ref</td>\n",
       "      <td>PRIMARY</td>\n",
       "      <td>PRIMARY</td>\n",
       "      <td>4</td>\n",
       "      <td>test_database.products.brand_id</td>\n",
       "      <td>1</td>\n",
       "      <td>100.0</td>\n",
       "      <td>None</td>\n",
       "    </tr>\n",
       "  </tbody>\n",
       "</table>\n",
       "</div>"
      ],
      "text/plain": [
       "   id select_type     table partitions    type     possible_keys      key  \\\n",
       "0   1      SIMPLE  products       None   range  PRIMARY,brand_id  PRIMARY   \n",
       "1   1      SIMPLE    brands       None  eq_ref           PRIMARY  PRIMARY   \n",
       "\n",
       "  key_len                              ref  rows  filtered        Extra  \n",
       "0       4                             None   100     100.0  Using where  \n",
       "1       4  test_database.products.brand_id     1     100.0         None  "
      ]
     },
     "metadata": {},
     "output_type": "display_data"
    },
    {
     "name": "stdout",
     "output_type": "stream",
     "text": [
      "[QUERY METRICS] 2 rows fetched, 9.88 ms\n"
     ]
    }
   ],
   "source": [
    "query = \"\"\"EXPLAIN SELECT products.name, brands.name \n",
    "FROM products \n",
    "JOIN brands ON products.brand_id = brands.id\n",
    "WHERE products.id <= 100;\"\"\"\n",
    "\n",
    "execute_query(query, database=get_database_name(), print_as_df=True, show_metrics=True)"
   ]
  }
 ],
 "metadata": {
  "kernelspec": {
   "display_name": "venv (3.13.7)",
   "language": "python",
   "name": "python3"
  },
  "language_info": {
   "codemirror_mode": {
    "name": "ipython",
    "version": 3
   },
   "file_extension": ".py",
   "mimetype": "text/x-python",
   "name": "python",
   "nbconvert_exporter": "python",
   "pygments_lexer": "ipython3",
   "version": "3.13.7"
  }
 },
 "nbformat": 4,
 "nbformat_minor": 5
}
