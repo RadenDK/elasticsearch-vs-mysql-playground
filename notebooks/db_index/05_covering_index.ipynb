{
 "cells": [
  {
   "cell_type": "code",
   "execution_count": 6,
   "id": "1694d520",
   "metadata": {},
   "outputs": [
    {
     "name": "stdout",
     "output_type": "stream",
     "text": [
      "Created empty database\n",
      "Created empty tables\n",
      "Starting to insert data\n",
      "\n",
      "Starting insert into 'products' (2000000 rows)...\n",
      "Finished inserting 2000000 rows into 'products' in 36.64s.\n"
     ]
    }
   ],
   "source": [
    "from helpers.db.db_setup_methods import *\n",
    "from helpers.db.db_query_methods import *\n",
    "\n",
    "from helpers.db.db_helper_methods import *\n",
    "\n",
    "init_db(2000000)\n",
    "\n"
   ]
  },
  {
   "cell_type": "markdown",
   "id": "28fb286b",
   "metadata": {},
   "source": [
    "So a covering index should be a index that contains all the values needed for the query. And idea is that it should be faster since you dont have to traverse the clustered index to get all the data you need"
   ]
  },
  {
   "cell_type": "markdown",
   "id": "f91e309a",
   "metadata": {},
   "source": [
    "So for starters i want to test if i select two fields but use only a only a index with a single key that i search for in the db. This should be slower than if it were a covering index even though the where is only on one of the keys"
   ]
  },
  {
   "cell_type": "code",
   "execution_count": 7,
   "id": "986a055d",
   "metadata": {},
   "outputs": [
    {
     "name": "stdout",
     "output_type": "stream",
     "text": [
      "[QUERY METRICS] 111336 rows fetched, 202.82 ms\n"
     ]
    },
    {
     "data": {
      "text/html": [
       "<div>\n",
       "<style scoped>\n",
       "    .dataframe tbody tr th:only-of-type {\n",
       "        vertical-align: middle;\n",
       "    }\n",
       "\n",
       "    .dataframe tbody tr th {\n",
       "        vertical-align: top;\n",
       "    }\n",
       "\n",
       "    .dataframe thead th {\n",
       "        text-align: right;\n",
       "    }\n",
       "</style>\n",
       "<table border=\"1\" class=\"dataframe\">\n",
       "  <thead>\n",
       "    <tr style=\"text-align: right;\">\n",
       "      <th></th>\n",
       "      <th>id</th>\n",
       "      <th>select_type</th>\n",
       "      <th>table</th>\n",
       "      <th>partitions</th>\n",
       "      <th>type</th>\n",
       "      <th>possible_keys</th>\n",
       "      <th>key</th>\n",
       "      <th>key_len</th>\n",
       "      <th>ref</th>\n",
       "      <th>rows</th>\n",
       "      <th>filtered</th>\n",
       "      <th>Extra</th>\n",
       "    </tr>\n",
       "  </thead>\n",
       "  <tbody>\n",
       "    <tr>\n",
       "      <th>0</th>\n",
       "      <td>1</td>\n",
       "      <td>SIMPLE</td>\n",
       "      <td>products</td>\n",
       "      <td>None</td>\n",
       "      <td>ref</td>\n",
       "      <td>idx_size</td>\n",
       "      <td>idx_size</td>\n",
       "      <td>403</td>\n",
       "      <td>const</td>\n",
       "      <td>223618</td>\n",
       "      <td>100.0</td>\n",
       "      <td>None</td>\n",
       "    </tr>\n",
       "  </tbody>\n",
       "</table>\n",
       "</div>"
      ],
      "text/plain": [
       "   id select_type     table partitions type possible_keys       key key_len  \\\n",
       "0   1      SIMPLE  products       None  ref      idx_size  idx_size     403   \n",
       "\n",
       "     ref    rows  filtered Extra  \n",
       "0  const  223618     100.0  None  "
      ]
     },
     "metadata": {},
     "output_type": "display_data"
    }
   ],
   "source": [
    "drop_non_clustered_indexes(\"products\", get_database_name(), output=False)\n",
    "\n",
    "query = \"\"\"\n",
    "CREATE INDEX idx_size ON products(size);\n",
    "\"\"\"\n",
    "\n",
    "execute_query(query, database=get_database_name(), print_as_df=False, show_metrics=False)\n",
    "\n",
    "query = \"\"\"\n",
    "SELECT name, size FROM products WHERE size = 'Large';\n",
    "\"\"\"\n",
    "\n",
    "execute_query(query, database=get_database_name(), print_as_df=False, show_metrics=True)\n",
    "execute_query(\"EXPLAIN \"+ query, database=get_database_name(), print_as_df=True, show_metrics=False)"
   ]
  },
  {
   "cell_type": "code",
   "execution_count": 8,
   "id": "c29a9bb2",
   "metadata": {},
   "outputs": [
    {
     "name": "stdout",
     "output_type": "stream",
     "text": [
      "[QUERY METRICS] 111336 rows fetched, 188.50 ms\n"
     ]
    },
    {
     "data": {
      "text/html": [
       "<div>\n",
       "<style scoped>\n",
       "    .dataframe tbody tr th:only-of-type {\n",
       "        vertical-align: middle;\n",
       "    }\n",
       "\n",
       "    .dataframe tbody tr th {\n",
       "        vertical-align: top;\n",
       "    }\n",
       "\n",
       "    .dataframe thead th {\n",
       "        text-align: right;\n",
       "    }\n",
       "</style>\n",
       "<table border=\"1\" class=\"dataframe\">\n",
       "  <thead>\n",
       "    <tr style=\"text-align: right;\">\n",
       "      <th></th>\n",
       "      <th>id</th>\n",
       "      <th>select_type</th>\n",
       "      <th>table</th>\n",
       "      <th>partitions</th>\n",
       "      <th>type</th>\n",
       "      <th>possible_keys</th>\n",
       "      <th>key</th>\n",
       "      <th>key_len</th>\n",
       "      <th>ref</th>\n",
       "      <th>rows</th>\n",
       "      <th>filtered</th>\n",
       "      <th>Extra</th>\n",
       "    </tr>\n",
       "  </thead>\n",
       "  <tbody>\n",
       "    <tr>\n",
       "      <th>0</th>\n",
       "      <td>1</td>\n",
       "      <td>SIMPLE</td>\n",
       "      <td>products</td>\n",
       "      <td>None</td>\n",
       "      <td>ref</td>\n",
       "      <td>idx_size_and_name</td>\n",
       "      <td>idx_size_and_name</td>\n",
       "      <td>403</td>\n",
       "      <td>const</td>\n",
       "      <td>206652</td>\n",
       "      <td>100.0</td>\n",
       "      <td>Using index</td>\n",
       "    </tr>\n",
       "  </tbody>\n",
       "</table>\n",
       "</div>"
      ],
      "text/plain": [
       "   id select_type     table partitions type      possible_keys  \\\n",
       "0   1      SIMPLE  products       None  ref  idx_size_and_name   \n",
       "\n",
       "                 key key_len    ref    rows  filtered        Extra  \n",
       "0  idx_size_and_name     403  const  206652     100.0  Using index  "
      ]
     },
     "metadata": {},
     "output_type": "display_data"
    }
   ],
   "source": [
    "drop_non_clustered_indexes(\"products\", get_database_name(), output=False)\n",
    "\n",
    "query = \"\"\"\n",
    "CREATE INDEX idx_size_and_name ON products(size, name);\n",
    "\"\"\"\n",
    "\n",
    "execute_query(query, database=get_database_name(), print_as_df=False, show_metrics=False)\n",
    "\n",
    "query = \"\"\"\n",
    "SELECT name, size FROM products WHERE size = 'Large';\n",
    "\"\"\"\n",
    "\n",
    "execute_query(query, database=get_database_name(), print_as_df=False, show_metrics=True)\n",
    "execute_query(\"EXPLAIN \"+ query, database=get_database_name(), print_as_df=True, show_metrics=False)"
   ]
  },
  {
   "cell_type": "markdown",
   "id": "d29e5eb6",
   "metadata": {},
   "source": [
    "It seems to be faster. I did have to up the records size to 2m in order to see the difference."
   ]
  },
  {
   "cell_type": "markdown",
   "id": "2274c7e0",
   "metadata": {},
   "source": [
    "I want to try with also using some sql methods in a covering index"
   ]
  },
  {
   "cell_type": "code",
   "execution_count": 9,
   "id": "a041f82a",
   "metadata": {},
   "outputs": [
    {
     "name": "stdout",
     "output_type": "stream",
     "text": [
      "[QUERY METRICS] 1 rows fetched, 217.82 ms\n"
     ]
    },
    {
     "data": {
      "text/html": [
       "<div>\n",
       "<style scoped>\n",
       "    .dataframe tbody tr th:only-of-type {\n",
       "        vertical-align: middle;\n",
       "    }\n",
       "\n",
       "    .dataframe tbody tr th {\n",
       "        vertical-align: top;\n",
       "    }\n",
       "\n",
       "    .dataframe thead th {\n",
       "        text-align: right;\n",
       "    }\n",
       "</style>\n",
       "<table border=\"1\" class=\"dataframe\">\n",
       "  <thead>\n",
       "    <tr style=\"text-align: right;\">\n",
       "      <th></th>\n",
       "      <th>id</th>\n",
       "      <th>select_type</th>\n",
       "      <th>table</th>\n",
       "      <th>partitions</th>\n",
       "      <th>type</th>\n",
       "      <th>possible_keys</th>\n",
       "      <th>key</th>\n",
       "      <th>key_len</th>\n",
       "      <th>ref</th>\n",
       "      <th>rows</th>\n",
       "      <th>filtered</th>\n",
       "      <th>Extra</th>\n",
       "    </tr>\n",
       "  </thead>\n",
       "  <tbody>\n",
       "    <tr>\n",
       "      <th>0</th>\n",
       "      <td>1</td>\n",
       "      <td>SIMPLE</td>\n",
       "      <td>products</td>\n",
       "      <td>None</td>\n",
       "      <td>ref</td>\n",
       "      <td>category_id</td>\n",
       "      <td>category_id</td>\n",
       "      <td>5</td>\n",
       "      <td>const</td>\n",
       "      <td>123776</td>\n",
       "      <td>100.0</td>\n",
       "      <td>None</td>\n",
       "    </tr>\n",
       "  </tbody>\n",
       "</table>\n",
       "</div>"
      ],
      "text/plain": [
       "   id select_type     table partitions type possible_keys          key  \\\n",
       "0   1      SIMPLE  products       None  ref   category_id  category_id   \n",
       "\n",
       "  key_len    ref    rows  filtered Extra  \n",
       "0       5  const  123776     100.0  None  "
      ]
     },
     "metadata": {},
     "output_type": "display_data"
    }
   ],
   "source": [
    "drop_non_clustered_indexes(\"products\", get_database_name())\n",
    "\n",
    "query = \"\"\"\n",
    "SELECT AVG(price) FROM products WHERE category_id = 1;\n",
    "\"\"\"\n",
    "\n",
    "execute_query(query, database=get_database_name(), print_as_df=False, show_metrics=True)\n",
    "execute_query(\"EXPLAIN \"+ query, database=get_database_name(), print_as_df=True, show_metrics=False)"
   ]
  },
  {
   "cell_type": "code",
   "execution_count": 11,
   "id": "970de5e5",
   "metadata": {},
   "outputs": [
    {
     "name": "stdout",
     "output_type": "stream",
     "text": [
      "[QUERY METRICS] 1 rows fetched, 6.24 ms\n"
     ]
    },
    {
     "data": {
      "text/html": [
       "<div>\n",
       "<style scoped>\n",
       "    .dataframe tbody tr th:only-of-type {\n",
       "        vertical-align: middle;\n",
       "    }\n",
       "\n",
       "    .dataframe tbody tr th {\n",
       "        vertical-align: top;\n",
       "    }\n",
       "\n",
       "    .dataframe thead th {\n",
       "        text-align: right;\n",
       "    }\n",
       "</style>\n",
       "<table border=\"1\" class=\"dataframe\">\n",
       "  <thead>\n",
       "    <tr style=\"text-align: right;\">\n",
       "      <th></th>\n",
       "      <th>id</th>\n",
       "      <th>select_type</th>\n",
       "      <th>table</th>\n",
       "      <th>partitions</th>\n",
       "      <th>type</th>\n",
       "      <th>possible_keys</th>\n",
       "      <th>key</th>\n",
       "      <th>key_len</th>\n",
       "      <th>ref</th>\n",
       "      <th>rows</th>\n",
       "      <th>filtered</th>\n",
       "      <th>Extra</th>\n",
       "    </tr>\n",
       "  </thead>\n",
       "  <tbody>\n",
       "    <tr>\n",
       "      <th>0</th>\n",
       "      <td>1</td>\n",
       "      <td>SIMPLE</td>\n",
       "      <td>products</td>\n",
       "      <td>None</td>\n",
       "      <td>ref</td>\n",
       "      <td>idx_category_id_and_price,idx_category_id</td>\n",
       "      <td>idx_category_id_and_price</td>\n",
       "      <td>5</td>\n",
       "      <td>const</td>\n",
       "      <td>119948</td>\n",
       "      <td>100.0</td>\n",
       "      <td>Using index</td>\n",
       "    </tr>\n",
       "  </tbody>\n",
       "</table>\n",
       "</div>"
      ],
      "text/plain": [
       "   id select_type     table partitions type  \\\n",
       "0   1      SIMPLE  products       None  ref   \n",
       "\n",
       "                               possible_keys                        key  \\\n",
       "0  idx_category_id_and_price,idx_category_id  idx_category_id_and_price   \n",
       "\n",
       "  key_len    ref    rows  filtered        Extra  \n",
       "0       5  const  119948     100.0  Using index  "
      ]
     },
     "metadata": {},
     "output_type": "display_data"
    }
   ],
   "source": [
    "drop_non_clustered_indexes(\"products\", get_database_name())\n",
    "\n",
    "query = \"\"\"\n",
    "CREATE INDEX idx_category_id ON products(category_id);\n",
    "\"\"\"\n",
    "\n",
    "execute_query(query, database=get_database_name(), print_as_df=False, show_metrics=False)\n",
    "\n",
    "query = \"\"\"\n",
    "SELECT AVG(price) FROM products WHERE category_id = 1;\n",
    "\"\"\"\n",
    "\n",
    "execute_query(query, database=get_database_name(), print_as_df=False, show_metrics=True)\n",
    "execute_query(\"EXPLAIN \"+ query, database=get_database_name(), print_as_df=True, show_metrics=False)"
   ]
  },
  {
   "cell_type": "code",
   "execution_count": 10,
   "id": "d5f9fd33",
   "metadata": {},
   "outputs": [
    {
     "name": "stdout",
     "output_type": "stream",
     "text": [
      "[QUERY METRICS] 1 rows fetched, 7.60 ms\n"
     ]
    },
    {
     "data": {
      "text/html": [
       "<div>\n",
       "<style scoped>\n",
       "    .dataframe tbody tr th:only-of-type {\n",
       "        vertical-align: middle;\n",
       "    }\n",
       "\n",
       "    .dataframe tbody tr th {\n",
       "        vertical-align: top;\n",
       "    }\n",
       "\n",
       "    .dataframe thead th {\n",
       "        text-align: right;\n",
       "    }\n",
       "</style>\n",
       "<table border=\"1\" class=\"dataframe\">\n",
       "  <thead>\n",
       "    <tr style=\"text-align: right;\">\n",
       "      <th></th>\n",
       "      <th>id</th>\n",
       "      <th>select_type</th>\n",
       "      <th>table</th>\n",
       "      <th>partitions</th>\n",
       "      <th>type</th>\n",
       "      <th>possible_keys</th>\n",
       "      <th>key</th>\n",
       "      <th>key_len</th>\n",
       "      <th>ref</th>\n",
       "      <th>rows</th>\n",
       "      <th>filtered</th>\n",
       "      <th>Extra</th>\n",
       "    </tr>\n",
       "  </thead>\n",
       "  <tbody>\n",
       "    <tr>\n",
       "      <th>0</th>\n",
       "      <td>1</td>\n",
       "      <td>SIMPLE</td>\n",
       "      <td>products</td>\n",
       "      <td>None</td>\n",
       "      <td>ref</td>\n",
       "      <td>idx_category_id_and_price</td>\n",
       "      <td>idx_category_id_and_price</td>\n",
       "      <td>5</td>\n",
       "      <td>const</td>\n",
       "      <td>119948</td>\n",
       "      <td>100.0</td>\n",
       "      <td>Using index</td>\n",
       "    </tr>\n",
       "  </tbody>\n",
       "</table>\n",
       "</div>"
      ],
      "text/plain": [
       "   id select_type     table partitions type              possible_keys  \\\n",
       "0   1      SIMPLE  products       None  ref  idx_category_id_and_price   \n",
       "\n",
       "                         key key_len    ref    rows  filtered        Extra  \n",
       "0  idx_category_id_and_price       5  const  119948     100.0  Using index  "
      ]
     },
     "metadata": {},
     "output_type": "display_data"
    }
   ],
   "source": [
    "drop_non_clustered_indexes(\"products\", get_database_name())\n",
    "\n",
    "query = \"\"\"\n",
    "CREATE INDEX idx_category_id_and_price ON products(category_id, price);\n",
    "\"\"\"\n",
    "\n",
    "execute_query(query, database=get_database_name(), print_as_df=False, show_metrics=False)\n",
    "\n",
    "query = \"\"\"\n",
    "SELECT AVG(price) FROM products WHERE category_id = 1;\n",
    "\"\"\"\n",
    "\n",
    "execute_query(query, database=get_database_name(), print_as_df=False, show_metrics=True)\n",
    "execute_query(\"EXPLAIN \"+ query, database=get_database_name(), print_as_df=True, show_metrics=False)"
   ]
  },
  {
   "cell_type": "markdown",
   "id": "3efd09b3",
   "metadata": {},
   "source": [
    "Here we can see in the extra that it is using the index which just means that it gets all the information it needs from the index and dont have to traverse the clustered index to look at the data. Pretty cool"
   ]
  }
 ],
 "metadata": {
  "kernelspec": {
   "display_name": "venv (3.13.7)",
   "language": "python",
   "name": "python3"
  },
  "language_info": {
   "codemirror_mode": {
    "name": "ipython",
    "version": 3
   },
   "file_extension": ".py",
   "mimetype": "text/x-python",
   "name": "python",
   "nbconvert_exporter": "python",
   "pygments_lexer": "ipython3",
   "version": "3.13.7"
  }
 },
 "nbformat": 4,
 "nbformat_minor": 5
}
