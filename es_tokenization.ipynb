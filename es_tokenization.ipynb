{
 "cells": [
  {
   "cell_type": "markdown",
   "id": "d302c93c",
   "metadata": {},
   "source": [
    "# File to see the difference in tokenization"
   ]
  },
  {
   "cell_type": "code",
   "execution_count": 1,
   "id": "f7c2e133",
   "metadata": {},
   "outputs": [
    {
     "name": "stderr",
     "output_type": "stream",
     "text": [
      "/Users/wexorsj/Github/elasticsearch-vs-mysql-playground/venv/lib/python3.9/site-packages/urllib3/__init__.py:35: NotOpenSSLWarning: urllib3 v2 only supports OpenSSL 1.1.1+, currently the 'ssl' module is compiled with 'LibreSSL 2.8.3'. See: https://github.com/urllib3/urllib3/issues/3020\n",
      "  warnings.warn(\n"
     ]
    },
    {
     "name": "stdout",
     "output_type": "stream",
     "text": [
      "--- standard (analyzer) ---\n",
      "['the', 'quick', 'brown', 'fox', 'jumps', 'over', 'the', 'lazy', 'dog']\n",
      "\n",
      "--- simple (analyzer) ---\n",
      "['the', 'quick', 'brown', 'fox', 'jumps', 'over', 'the', 'lazy', 'dog']\n",
      "\n",
      "--- whitespace (tokenizer) ---\n",
      "['The', 'quick', 'brown', 'fox', 'jumps', 'over', 'the', 'lazy', 'dog!']\n",
      "\n",
      "--- letter (tokenizer) ---\n",
      "['The', 'quick', 'brown', 'fox', 'jumps', 'over', 'the', 'lazy', 'dog']\n",
      "\n"
     ]
    }
   ],
   "source": [
    "import requests\n",
    "from requests.auth import HTTPBasicAuth\n",
    "import json\n",
    "\n",
    "# Config\n",
    "es_url = \"http://localhost:9201\"\n",
    "es_user = \"elastic\"\n",
    "es_password = \"apppw\"\n",
    "\n",
    "# Text to analyze\n",
    "text_to_analyze = \"The quick brown fox jumps over the lazy dog!\"\n",
    "\n",
    "# Analyzers/tokenizers to test\n",
    "analyzers = [\n",
    "    {\"name\": \"standard\", \"type\": \"analyzer\"},\n",
    "    {\"name\": \"simple\", \"type\": \"analyzer\"},\n",
    "    {\"name\": \"whitespace\", \"type\": \"tokenizer\"},\n",
    "    {\"name\": \"letter\", \"type\": \"tokenizer\"},\n",
    "]\n",
    "\n",
    "def analyze(text, config):\n",
    "    endpoint = f\"{es_url}/_analyze\"\n",
    "    payload = {}\n",
    "\n",
    "    if config[\"type\"] == \"analyzer\":\n",
    "        payload[\"text\"] = text\n",
    "        payload[\"analyzer\"] = config[\"name\"]\n",
    "    elif config[\"type\"] == \"tokenizer\":\n",
    "        payload[\"text\"] = text\n",
    "        payload[\"tokenizer\"] = config[\"name\"]\n",
    "\n",
    "    response = requests.post(endpoint, auth=HTTPBasicAuth(es_user, es_password),\n",
    "                             headers={\"Content-Type\": \"application/json\"},\n",
    "                             data=json.dumps(payload))\n",
    "    \n",
    "    if response.status_code != 200:\n",
    "        print(f\"Error with {config['name']}: {response.text}\")\n",
    "        return []\n",
    "\n",
    "    tokens = [t[\"token\"] for t in response.json().get(\"tokens\", [])]\n",
    "    return tokens\n",
    "\n",
    "# Run analysis\n",
    "for a in analyzers:\n",
    "    tokens = analyze(text_to_analyze, a)\n",
    "    print(f\"--- {a['name']} ({a['type']}) ---\")\n",
    "    print(tokens)\n",
    "    print()\n"
   ]
  }
 ],
 "metadata": {
  "kernelspec": {
   "display_name": "venv (3.9.6)",
   "language": "python",
   "name": "python3"
  },
  "language_info": {
   "codemirror_mode": {
    "name": "ipython",
    "version": 3
   },
   "file_extension": ".py",
   "mimetype": "text/x-python",
   "name": "python",
   "nbconvert_exporter": "python",
   "pygments_lexer": "ipython3",
   "version": "3.9.6"
  }
 },
 "nbformat": 4,
 "nbformat_minor": 5
}
